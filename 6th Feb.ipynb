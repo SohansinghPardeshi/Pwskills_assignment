{
 "cells": [
  {
   "cell_type": "code",
   "execution_count": 52,
   "id": "c8e12d68-778f-4dc5-8e30-0bc867b809a8",
   "metadata": {
    "tags": []
   },
   "outputs": [
    {
     "name": "stdout",
     "output_type": "stream",
     "text": [
      "[1, 2, 3, 4, 44, 55, 66, 34, 56, 78, 89, 34, 1, 2, 3, 1, 34, 55, 67, 78, 89, 4, 45, 22, 61, 34]\n"
     ]
    },
    {
     "data": {
      "text/plain": [
       "4134711838987085478833841242112000"
      ]
     },
     "execution_count": 52,
     "metadata": {},
     "output_type": "execute_result"
    }
   ],
   "source": [
    "list1 = [1,2,3,4, [44,55,66, True], False, (34,56,78,89,34), {1,2,3,3,2,1}, {1:34, \"key2\": [55, 67, 78, 89], 4: (45,\n",
    "22, 61, 34)}, [56, 'data science'], 'Machine Learning']\n",
    "\n",
    "\n",
    "\n",
    "l=[]\n",
    "if type() \n",
    "for i in [44,55,66, True]:\n",
    "    if type(i)== int:\n",
    "        l.append(i)\n",
    "l\n",
    "for i in (34,56,78,89,34):\n",
    "    if type(i)== int:\n",
    "        l.append(i)\n",
    "l\n",
    "for i in {1,2,3,3,2,1}:\n",
    "    if type(i)== int:\n",
    "        l.append(i)\n",
    "l\n",
    "L=[]\n",
    "for k,v in {1:34, \"key2\": [55, 67, 78, 89], 4: (45, 22, 61, 34)}.items():\n",
    "        L.append(k)\n",
    "        L.append(v)\n",
    "for d in L :\n",
    "    if type(d)== int:\n",
    "        l.append(d)\n",
    "    elif type(d)==list or type(d)==tuple:\n",
    "        for b in d:\n",
    "            l.append(b)\n",
    "print(l)\n",
    "for i in  [56, 'data science']:\n",
    "    if type(i)== int:\n",
    "        l.append(i)\n",
    "l\n",
    "from functools import reduce\n",
    "reduce(lambda n,m: n*m,l)"
   ]
  },
  {
   "cell_type": "code",
   "execution_count": 57,
   "id": "5f8fc6f7-c7a1-4188-a66d-5cdffff01ac5",
   "metadata": {},
   "outputs": [
    {
     "data": {
      "text/plain": [
       "0"
      ]
     },
     "execution_count": 57,
     "metadata": {},
     "output_type": "execute_result"
    }
   ],
   "source": [
    "from functools import reduce\n",
    "\n",
    "def product_of_numeric_values(lst):\n",
    "    numeric_values = []\n",
    "    for item in lst:\n",
    "        if isinstance(item, (int, float)):\n",
    "            numeric_values.append(item)\n",
    "        elif isinstance(item, (list, tuple, set)):\n",
    "            for nested_item in item:\n",
    "                if isinstance(nested_item, (int, float)):\n",
    "                    numeric_values.append(nested_item)\n",
    "        elif isinstance(item, dict):\n",
    "            for key, value in item.items():\n",
    "                if isinstance(key, (int, float)):\n",
    "                    numeric_values.append(key)\n",
    "                if isinstance(value, (int, float)):\n",
    "                    numeric_values.append(value)\n",
    "                elif isinstance(value, (list, tuple)):\n",
    "                    for nested_item in value:\n",
    "                        if isinstance(nested_item, (int, float)):\n",
    "                            numeric_values.append(nested_item)\n",
    "        else:\n",
    "            continue\n",
    "    return reduce(lambda x, y: x * y, numeric_values)\n",
    "product_of_numeric_values(list1)"
   ]
  },
  {
   "cell_type": "code",
   "execution_count": null,
   "id": "e2ed2012-0fa0-4216-89e3-2e6266717b43",
   "metadata": {},
   "outputs": [],
   "source": [
    "def answer():\n",
    "    l=[]\n",
    "    for i in list1:\n",
    "        if type(i)== int:\n",
    "            l.append(i)\n",
    "        elif type(i)== set or type(i)== list or type(i)== tuple:\n",
    "            for x in i:\n",
    "                if type(x)==i:\n",
    "                    l.apppend(x)\n",
    "        elif type(i)== dict:\n",
    "            L=[]\n",
    "            for k,v in {1:34, \"key2\": [55, 67, 78, 89], 4: (45, 22, 61, 34)}.items():\n",
    "                L.append(k)\n",
    "                L.append(v)\n",
    "            for d in L :\n",
    "                if type(d)== int:\n",
    "                    l.append(d)\n",
    "                elif type(d)==list or type(d)==tuple:\n",
    "                    for b in d:\n",
    "                        l.append(b)\n",
    "    "
   ]
  }
 ],
 "metadata": {
  "kernelspec": {
   "display_name": "Python 3 (ipykernel)",
   "language": "python",
   "name": "python3"
  },
  "language_info": {
   "codemirror_mode": {
    "name": "ipython",
    "version": 3
   },
   "file_extension": ".py",
   "mimetype": "text/x-python",
   "name": "python",
   "nbconvert_exporter": "python",
   "pygments_lexer": "ipython3",
   "version": "3.10.8"
  }
 },
 "nbformat": 4,
 "nbformat_minor": 5
}
