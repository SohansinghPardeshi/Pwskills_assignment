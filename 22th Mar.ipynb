{
 "cells": [
  {
   "cell_type": "markdown",
   "metadata": {},
   "source": [
    "**Q1. Pearson correlation coefficient is a measure of the linear relationship between two variables. Suppose you have collected data on the amount of time students spend studying for an exam and their final exam scores. Calculate the Pearson correlation coefficient between these two variables and interpret the result.**"
   ]
  },
  {
   "cell_type": "code",
   "execution_count": 12,
   "metadata": {},
   "outputs": [
    {
     "name": "stdout",
     "output_type": "stream",
     "text": [
      "             study_time  exam_scores\n",
      "study_time     1.000000     0.953426\n",
      "exam_scores    0.953426     1.000000\n"
     ]
    }
   ],
   "source": [
    "import pandas as pd\n",
    "\n",
    "# Hypothetical sample data \n",
    "\n",
    "df =pd.DataFrame({\n",
    "    'study_time' : [10, 8, 5, 7, 6, 9, 4, 7, 8, 6],\n",
    "    'exam_scores' : [85, 70, 60, 75, 65, 80, 55, 73, 78, 62],\n",
    "})\n",
    "# Calculate the Pearson correlation coefficient\n",
    "pearson_corr = df.corr(method='pearson')\n",
    "\n",
    "print( pearson_corr)\n"
   ]
  },
  {
   "cell_type": "markdown",
   "metadata": {},
   "source": [
    "**Q2. Spearman's Rank Correlation for Sleep and Job Satisfaction:**"
   ]
  },
  {
   "cell_type": "code",
   "execution_count": 11,
   "metadata": {},
   "outputs": [
    {
     "name": "stdout",
     "output_type": "stream",
     "text": [
      "                  sleep_duration  job_satisfaction\n",
      "sleep_duration          1.000000          0.909446\n",
      "job_satisfaction        0.909446          1.000000\n"
     ]
    }
   ],
   "source": [
    "df =pd.DataFrame({\n",
    "    'sleep_duration' : [7, 6, 8, 5, 7, 9, 6, 7, 8, 5],\n",
    "    'job_satisfaction' : [8, 5, 9, 4, 7, 10, 6, 8, 7, 4],\n",
    "})\n",
    "# Calculate the Pearson correlation coefficient\n",
    "spearman_corr = df.corr(method='spearman')\n",
    "\n",
    "print(spearman_corr)"
   ]
  },
  {
   "cell_type": "markdown",
   "metadata": {},
   "source": [
    "**Q3. Suppose you are conducting a study to examine the relationship between the number of hours of exercise per week and body mass index (BMI) in a sample of adults. You collected data on both variables for 50 participants. Calculate the Pearson correlation coefficient and the Spearman's rank correlation between these two variables and compare the results.**\n",
    "\n",
    "Interpretation: Comparing the Pearson and Spearman's correlations, you'll notice that both coefficients give you an idea of the relationship between exercise hours and BMI. Pearson's correlation assesses linear relationships, while Spearman's correlation captures monotonic relationships, which may be more relevant when studying exercise and BMI. If the relationship between exercise hours and BMI is both linear and monotonic, the two correlations would likely be similar."
   ]
  },
  {
   "cell_type": "code",
   "execution_count": 14,
   "metadata": {},
   "outputs": [
    {
     "name": "stdout",
     "output_type": "stream",
     "text": [
      "                exercise_hours       bmi\n",
      "exercise_hours        1.000000  0.977888\n",
      "bmi                   0.977888  1.000000\n",
      "                exercise_hours       bmi\n",
      "exercise_hours        1.000000  0.973056\n",
      "bmi                   0.973056  1.000000\n"
     ]
    }
   ],
   "source": [
    "\n",
    "df =pd.DataFrame({\n",
    "    'exercise_hours' : [\n",
    "    3, 5, 2, 4, 6, 1, 5, 3, 4, 2, 4, 3, 6, 1, 5, 2, 3, 4, 1, 2, 4, 6, 3, 5, 2,3, 4, 6, 1, 2, 5, 4, 3, 6, 2, 1, 4, 5, 3, 2, 6, 4, 1, 3, 5, 2, 4, 6, 3, 1\n",
    "    ],\n",
    "'bmi':  [\n",
    "    25, 28, 23, 27, 29, 22, 27, 26, 25, 24, 26, 25, 29, 21, 28, 23, 25, 26, 21, 24,27, 30, 25, 29, 22, 25, 26, 30, 20, 23, 28, 26, 25, 30, 23, 20, 26, 28, 24, 22,29, 27, 20, 25, 28, 22, 26, 30, 24, 20\n",
    "    ]\n",
    "})\n",
    "\n",
    "\n",
    "spearman_corr = df.corr(method='spearman')\n",
    "pearson_corr = df.corr(method='pearson')\n",
    "print(spearman_corr)\n",
    "print( pearson_corr)"
   ]
  },
  {
   "cell_type": "markdown",
   "metadata": {},
   "source": [
    "**Q4. A researcher is interested in examining the relationship between the number of hours individuals spend watching television per day and their level of physical activity. The researcher collected data on both variables from a sample of 50 participants. Calculate the Pearson correlation coefficient between these two variables.**"
   ]
  },
  {
   "cell_type": "code",
   "execution_count": 22,
   "metadata": {},
   "outputs": [
    {
     "name": "stdout",
     "output_type": "stream",
     "text": [
      "                   tv_hours  physical_activity\n",
      "tv_hours           1.000000          -0.663344\n",
      "physical_activity -0.663344           1.000000\n"
     ]
    }
   ],
   "source": [
    "df = pd.DataFrame({\n",
    "    'tv_hours' : [3, 2, 4, 5, 1, 2, 3, 4, 2, 1, 3, 1, 5, 6, 4, 2, 3, 1, 2, 5,\n",
    "            6, 4, 3, 2, 1, 5, 6, 4, 3, 2, 1, 4, 3, 2, 1, 6, 5, 4, 3, 2, 1,\n",
    "            5, 6, 4, 3, 2, 1, 5, 6, 4, 3, 2],\n",
    "    'physical_activity' : [5, 7, 4, 3, 8, 7, 6, 5, 7, 9, 6, 9, 3, 2, 4, 7, 5, 8, 7,\n",
    "                    2, 1, 4, 6, 7, 9, 2, 1, 5, 6, 7, 8, 4, 5, 6, 8, 1, 2, 4,\n",
    "                    6, 7, 9, 5, 4, 3, 2, 1, 6, 7, 8, 9, 3, 2]\n",
    "})   \n",
    "\n",
    "\n",
    "# Calculate the Pearson correlation coefficien\n",
    "pearson_corr = df.corr(method='pearson')\n",
    "\n",
    "print( pearson_corr)\n"
   ]
  },
  {
   "cell_type": "markdown",
   "metadata": {},
   "source": [
    "Q5. A survey was conducted to examine the relationship between age and preference for a particular\n",
    "brand of soft drink. The survey results are shown below:"
   ]
  },
  {
   "cell_type": "code",
   "execution_count": 39,
   "metadata": {},
   "outputs": [
    {
     "name": "stdout",
     "output_type": "stream",
     "text": [
      "                      Age  Preference_Rank\n",
      "Age              1.000000         0.833238\n",
      "Preference_Rank  0.833238         1.000000\n"
     ]
    }
   ],
   "source": [
    "df =pd.DataFrame({\n",
    "    'Age': [25, 42, 37, 19, 31, 28],\n",
    "    'Preference': ['Coke', 'Pepsi', 'Mountain Dew', 'Coke', 'Pepsi', 'Coke']\n",
    "})\n",
    "\n",
    "preference_ranks = {'Coke': 1, 'Pepsi': 2, 'Mountain Dew': 3}\n",
    "df['Preference_Rank'] = df['Preference'].map(preference_ranks)\n",
    "\n",
    "df.drop('Preference',inplace=True,axis=1)\n",
    "\n",
    "df.head()\n",
    "\n",
    "spearman_corr = df.corr(method='spearman')\n",
    "\n",
    "print(spearman_corr)"
   ]
  },
  {
   "cell_type": "markdown",
   "metadata": {},
   "source": [
    "**Q6. A company is interested in examining the relationship between the number of sales calls made per day and the number of sales made per week. The company collected data on both variables from a sample of 30 sales representatives. Calculate the Pearson correlation coefficient between these two variables.**"
   ]
  },
  {
   "cell_type": "code",
   "execution_count": 40,
   "metadata": {},
   "outputs": [
    {
     "name": "stdout",
     "output_type": "stream",
     "text": [
      "                     sales_calls_per_day  sales_per_week\n",
      "sales_calls_per_day             1.000000        0.942694\n",
      "sales_per_week                  0.942694        1.000000\n"
     ]
    }
   ],
   "source": [
    "df =pd.DataFrame({\n",
    "'sales_calls_per_day' : [20, 15, 25, 18, 22, 14, 23, 19, 17, 21, 16, 24, 20, 18, 19,\n",
    "                        14, 25, 22, 21, 16, 23, 20, 17, 19, 15, 18, 24, 23, 22, 21, 16],\n",
    "'sales_per_week' : [50, 40, 60, 45, 55, 35, 65, 55, 42, 52, 38, 68, 49, 43, 54,\n",
    "                    37, 62, 58, 51, 41, 58, 46, 43, 47, 36, 41, 63, 58, 56, 50, 39]\n",
    "})\n",
    "\n",
    "pearson_corr = df.corr(method='pearson')\n",
    "\n",
    "print( pearson_corr)"
   ]
  }
 ],
 "metadata": {
  "kernelspec": {
   "display_name": "Python 3",
   "language": "python",
   "name": "python3"
  },
  "language_info": {
   "codemirror_mode": {
    "name": "ipython",
    "version": 3
   },
   "file_extension": ".py",
   "mimetype": "text/x-python",
   "name": "python",
   "nbconvert_exporter": "python",
   "pygments_lexer": "ipython3",
   "version": "3.10.11"
  },
  "orig_nbformat": 4
 },
 "nbformat": 4,
 "nbformat_minor": 2
}
