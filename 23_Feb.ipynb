{
  "cells": [
    {
      "attachments": {},
      "cell_type": "markdown",
      "metadata": {},
      "source": [
        "**Q1**. Create a Pandas Series that contains the following data: 4, 8, 15, 16, 23, and 42. Then, print the series."
      ]
    },
    {
      "cell_type": "code",
      "execution_count": 30,
      "metadata": {},
      "outputs": [
        {
          "name": "stdout",
          "output_type": "stream",
          "text": [
            "0     4\n",
            "1     8\n",
            "2    15\n",
            "3    16\n",
            "4    23\n",
            "5    42\n",
            "dtype: int64\n"
          ]
        }
      ],
      "source": [
        "import pandas as pd\n",
        "\n",
        "x=pd.Series([4,8,15,16,23,42])\n",
        "print(x)"
      ]
    },
    {
      "attachments": {},
      "cell_type": "markdown",
      "metadata": {},
      "source": [
        "*Q2*. Create a variable of list type containing 10 elements in it, and apply pandas.Series function on the variable print it."
      ]
    },
    {
      "cell_type": "code",
      "execution_count": 31,
      "metadata": {},
      "outputs": [
        {
          "name": "stdout",
          "output_type": "stream",
          "text": [
            "0    1\n",
            "1    2\n",
            "2    3\n",
            "3    4\n",
            "4    5\n",
            "5    6\n",
            "6    7\n",
            "7    8\n",
            "8    9\n",
            "9    0\n",
            "dtype: int64\n"
          ]
        }
      ],
      "source": [
        "data = [1,2,3,4,5,6,7,8,9,0]\n",
        "y = pd.Series(data)\n",
        "print(y)"
      ]
    },
    {
      "attachments": {},
      "cell_type": "markdown",
      "metadata": {},
      "source": [
        "Q3. Create a Pandas DataFrame that contains the following data:"
      ]
    },
    {
      "cell_type": "code",
      "execution_count": 32,
      "metadata": {},
      "outputs": [
        {
          "data": {
            "text/html": [
              "<div>\n",
              "<style scoped>\n",
              "    .dataframe tbody tr th:only-of-type {\n",
              "        vertical-align: middle;\n",
              "    }\n",
              "\n",
              "    .dataframe tbody tr th {\n",
              "        vertical-align: top;\n",
              "    }\n",
              "\n",
              "    .dataframe thead th {\n",
              "        text-align: right;\n",
              "    }\n",
              "</style>\n",
              "<table border=\"1\" class=\"dataframe\">\n",
              "  <thead>\n",
              "    <tr style=\"text-align: right;\">\n",
              "      <th></th>\n",
              "      <th>Name</th>\n",
              "      <th>Age</th>\n",
              "      <th>Gender</th>\n",
              "    </tr>\n",
              "  </thead>\n",
              "  <tbody>\n",
              "    <tr>\n",
              "      <th>0</th>\n",
              "      <td>Alice</td>\n",
              "      <td>25</td>\n",
              "      <td>Female</td>\n",
              "    </tr>\n",
              "    <tr>\n",
              "      <th>1</th>\n",
              "      <td>Bob</td>\n",
              "      <td>30</td>\n",
              "      <td>Male</td>\n",
              "    </tr>\n",
              "    <tr>\n",
              "      <th>2</th>\n",
              "      <td>Claire</td>\n",
              "      <td>27</td>\n",
              "      <td>Female</td>\n",
              "    </tr>\n",
              "  </tbody>\n",
              "</table>\n",
              "</div>"
            ],
            "text/plain": [
              "     Name Age    Gender\n",
              "0   Alice   25   Female\n",
              "1     Bob   30     Male\n",
              "2  Claire   27   Female"
            ]
          },
          "execution_count": 32,
          "metadata": {},
          "output_type": "execute_result"
        }
      ],
      "source": [
        "data2 = {\n",
        "    \"Name\":[ \"Alice\", 'Bob' ,\"Claire\"],\n",
        "\n",
        "    'Age ':['25', '30', '27',],\n",
        "\n",
        "    'Gender':[' Female', 'Male', 'Female']\n",
        "}\n",
        "\n",
        "\n",
        "pd.DataFrame(data2)"
      ]
    },
    {
      "attachments": {},
      "cell_type": "markdown",
      "metadata": {},
      "source": [
        "**Q4. What is ‘DataFrame’ in pandas and how is it different from pandas.series? Explain with an example.**\n",
        "\n",
        "In pandas, a DataFrame is a two-dimensional labeled data structure that is capable of holding data of different types. It can be thought of as a table or a spreadsheet-like data structure where data is organized in rows and columns. Each column in a DataFrame represents a different variable, and each row represents a different observation or record.\n",
        "\n",
        "On the other hand, a Series in pandas is a one-dimensional labeled array-like object. It can be considered as a single column of data. A Series can hold data of any type (integer, float, string, etc.) and also has an associated index that labels each element in the Series."
      ]
    },
    {
      "cell_type": "code",
      "execution_count": 33,
      "metadata": {},
      "outputs": [
        {
          "name": "stdout",
          "output_type": "stream",
          "text": [
            "Apple     10\n",
            "Banana    15\n",
            "Orange     8\n",
            "Mango     12\n",
            "dtype: int64\n"
          ]
        }
      ],
      "source": [
        "fruit_counts = pd.Series([10, 15, 8, 12], index=['Apple', 'Banana', 'Orange', 'Mango'])\n",
        "print(fruit_counts)"
      ]
    },
    {
      "cell_type": "code",
      "execution_count": 34,
      "metadata": {},
      "outputs": [
        {
          "name": "stdout",
          "output_type": "stream",
          "text": [
            "    Name  Age Country\n",
            "0   John   25     USA\n",
            "1  Alice   30  Canada\n",
            "2    Bob   35      UK\n"
          ]
        }
      ],
      "source": [
        "data = {'Name': ['John', 'Alice', 'Bob'],\n",
        "        'Age': [25, 30, 35],\n",
        "        'Country': ['USA', 'Canada', 'UK']}\n",
        "df = pd.DataFrame(data)\n",
        "print(df)"
      ]
    },
    {
      "attachments": {},
      "cell_type": "markdown",
      "metadata": {},
      "source": [
        "**Q5. What are some common functions you can use to manipulate data in a Pandas DataFrame? Can\n",
        "you give an example of when you might use one of these functions?**\n",
        "\n",
        "Pandas provides a wide range of functions to manipulate data in a DataFrame. Some common functions include:\n",
        "\n",
        "head() and tail(): These functions allow you to view the first few rows (head()) or the last few rows (tail()) of a DataFrame. They are useful for getting a quick overview of the data.\n",
        "\n",
        "info(): This function provides a summary of the DataFrame, including the column names, data types, and memory usage. It helps in understanding the structure of the DataFrame.\n",
        "\n",
        "describe(): This function generates descriptive statistics of the numerical columns in the DataFrame, such as count, mean, standard deviation, minimum, maximum, and quartile values. It provides insights into the distribution of the data.\n",
        "\n",
        "shape: This attribute returns a tuple representing the dimensions of the DataFrame (number of rows, number of columns). It can be used to check the size of the DataFrame.\n",
        "\n",
        "isnull() and fillna(): The isnull() function returns a DataFrame of the same shape as the input, where each element is a boolean value indicating whether it is missing or null. The fillna() function allows you to fill missing values in the DataFrame with specified values or strategies, such as filling with a specific value, forward filling, or backward filling.\n",
        "\n",
        "dropna(): This function is used to drop rows or columns with missing values from the DataFrame. It provides flexibility in handling missing data.\n",
        "\n",
        "groupby(): This function is used for grouping rows based on one or more columns. It allows you to perform aggregate functions, such as sum, mean, count, etc., on grouped data. It is useful for performing data analysis on subsets of data.\n",
        "\n",
        "sort_values(): This function sorts the DataFrame based on one or more columns. It allows you to specify the column(s) to sort by and the sorting order (ascending or descending). It is useful for arranging data in a specific order.\n",
        "\n",
        "Here's an example to demonstrate the usage of one of these functions:"
      ]
    },
    {
      "cell_type": "code",
      "execution_count": 35,
      "metadata": {},
      "outputs": [
        {
          "name": "stdout",
          "output_type": "stream",
          "text": [
            "    Name      Age  Country\n",
            "0   John     25.0      USA\n",
            "1  Alice  Unknown   Canada\n",
            "2    Bob     35.0  Unknown\n",
            "3  Emily  Unknown      USA\n",
            "4   Jack     32.0   Canada\n"
          ]
        }
      ],
      "source": [
        "data3 = {'Name': ['John', 'Alice', 'Bob', 'Emily', 'Jack'],\n",
        "        'Age': [25, None, 35, None, 32],\n",
        "        'Country': ['USA', 'Canada', None, 'USA', 'Canada']}\n",
        "df = pd.DataFrame(data3)\n",
        "\n",
        "# Fill missing values with a specific value\n",
        "df_filled = df.fillna('Unknown')\n",
        "print(df_filled)\n"
      ]
    },
    {
      "attachments": {},
      "cell_type": "markdown",
      "metadata": {},
      "source": [
        "**Q6. Which of the following is mutable in nature Series, DataFrame, Panel?**\n",
        "Among the options provided, both Series and DataFrame in pandas are mutable in nature, while Panel is immutable.\n"
      ]
    },
    {
      "attachments": {},
      "cell_type": "markdown",
      "metadata": {},
      "source": [
        "**Q7. Create a DataFrame using multiple Series. Explain with an example.**\n",
        "\n",
        "In this example, we first create three individual Series: name_series, age_series, and country_series. Each Series represents a column of data: 'Name', 'Age', and 'Country', respectively.\n",
        "\n",
        "Next, we pass a dictionary to the pd.DataFrame() function, where the keys of the dictionary are the column names, and the values are the corresponding Series. By combining the Series in this way, we create a DataFrame called df with three columns: 'Name', 'Age', and 'Country'.\n",
        "\n",
        "Finally, we print the DataFrame to see the result. The DataFrame contains the combined data from the individual Series, where each row represents a different person's information.\n",
        "\n",
        "By using multiple Series to create a DataFrame, you can easily organize and manipulate different sets of data together, which is particularly useful when you have related data that you want to analyze or process as a whole.\n"
      ]
    },
    {
      "cell_type": "code",
      "execution_count": 36,
      "metadata": {},
      "outputs": [
        {
          "name": "stdout",
          "output_type": "stream",
          "text": [
            "    Name  Age Country\n",
            "0   John   25     USA\n",
            "1  Alice   30  Canada\n",
            "2    Bob   35      UK\n"
          ]
        }
      ],
      "source": [
        "# Create the individual Series\n",
        "name_series = pd.Series(['John', 'Alice', 'Bob'])\n",
        "age_series = pd.Series([25, 30, 35])\n",
        "country_series = pd.Series(['USA', 'Canada', 'UK'])\n",
        "\n",
        "# Create the DataFrame using the Series\n",
        "df = pd.DataFrame({'Name': name_series, 'Age': age_series, 'Country': country_series})\n",
        "print(df)"
      ]
    }
  ],
  "metadata": {
    "colab": {
      "provenance": []
    },
    "kernelspec": {
      "display_name": "Python 3",
      "name": "python3"
    },
    "language_info": {
      "codemirror_mode": {
        "name": "ipython",
        "version": 3
      },
      "file_extension": ".py",
      "mimetype": "text/x-python",
      "name": "python",
      "nbconvert_exporter": "python",
      "pygments_lexer": "ipython3",
      "version": "3.10.11"
    }
  },
  "nbformat": 4,
  "nbformat_minor": 0
}
