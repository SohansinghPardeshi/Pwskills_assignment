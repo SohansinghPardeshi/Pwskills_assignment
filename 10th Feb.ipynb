{
 "cells": [
  {
   "cell_type": "markdown",
   "id": "3c28c179-e0d6-4ad2-b283-b04b34a59c03",
   "metadata": {},
   "source": [
    "Q1. \n",
    "Which function is used to open a file? What are the different modes of opening a file? Explain each mode of file opening."
   ]
  },
  {
   "cell_type": "markdown",
   "id": "1af6bc1a-8249-4f80-9f08-1bf32d161e19",
   "metadata": {},
   "source": [
    "In Python, the open() function is used to open a file.\n",
    "\n",
    "The open() function takes two arguments, the first one being the name of the file to be opened, and the second one being the mode in which the file is to be opened. "
   ]
  },
  {
   "cell_type": "markdown",
   "id": "a8ecb33e-6ff5-43e3-b334-0123a5e690da",
   "metadata": {},
   "source": [
    "There are several modes in which a file can be opened:\n",
    "\n",
    "'r' (read mode): This is the default mode. It is used to read data from a file. If the file does not exist, an error will occur.\n",
    "'w' (write mode): This mode is used to write data to a file. If the file exists, it will be overwritten. If the file does not exist, a new file will be created.\n",
    "'a' (append mode): This mode is used to append data to a file. If the file exists, data will be added to the end of the file. If the file does not exist, a new file will be created.\n",
    "'x' (exclusive creation mode): This mode is used to create a new file. If the file already exists, an error will occur.\n",
    "'b' (binary mode): This mode is used to read or write binary data. This is generally used when working with non-text files like images or audio.\n",
    "'t' (text mode): This mode is used to read or write text data. This is the default mode.\n"
   ]
  },
  {
   "cell_type": "code",
   "execution_count": 34,
   "id": "2df54b2f-ff69-4265-a76b-3d60389f2607",
   "metadata": {},
   "outputs": [],
   "source": [
    "\n",
    "# To open a file in write mode, you would use:\n",
    "\n",
    "f = open('filename.txt', 'w')\n",
    "f.close()\n",
    "\n",
    "# To open a file in append mode, you would use:\n",
    "\n",
    "    \n",
    "f = open('filename.txt', 'a')\n",
    "f.close()\n",
    "\n",
    "\n",
    "# To open a file in exclusive creation mode, you would use:\n",
    "\n",
    "f = open('filename1.txt', 'x')\n",
    "f.close()\n",
    "\n",
    "\n",
    "# To open a file in binary mode, you would use:\n",
    "\n",
    "f = open('filename.txt', 'rb')\n",
    "f.close()\n",
    "\n",
    "# To open a file in text mode, you would use:\n",
    "\n",
    "f = open('filename.txt', 'rt')\n",
    "f.close()\n",
    "\n",
    "import os\n",
    "os.remove('filename.txt')\n",
    "os.remove('filename1.txt')"
   ]
  },
  {
   "cell_type": "markdown",
   "id": "57fdeaa5-fb74-42f7-9a9d-7f447e968eaf",
   "metadata": {},
   "source": [
    "Q2.\n",
    "Why close() function is used? Why is it important to close a file?\n",
    "\n",
    "\n",
    "In Python, the close() function is used to close a file. It is important to close a file after you have finished working with it because it frees up system resources and ensures that any data in the file buffer is written to the file.\n",
    "\n",
    "When you open a file in Python, the operating system allocates resources to the file, such as memory and input/output buffers. If you do not close the file when you are done with it, these resources will remain allocated until the program ends or the system runs out of resources. This can lead to performance issues and may cause your program to crash if you open too many files and run out of system resources.\n",
    "\n",
    "In addition to freeing up system resources, closing a file ensures that any data in the file buffer is written to the file. When you write to a file, the data is often not written to the file immediately. Instead, it is first written to a buffer in memory, which is more efficient. The operating system then writes the data to the file in the background, usually in blocks. If you do not close the file, any data still in the buffer may not be written to the file, resulting in data loss or corruption."
   ]
  },
  {
   "cell_type": "markdown",
   "id": "4b122fde-374d-4a09-9e70-47761196d9ca",
   "metadata": {},
   "source": [
    "Q3. Write a python program to create a text file. Write ‘I want to become a Data Scientist’ in that file. Then\n",
    "close the file. Open this file and read the content of the file."
   ]
  },
  {
   "cell_type": "code",
   "execution_count": 35,
   "id": "a687d682-7bf6-41f2-bd04-677be5254c3f",
   "metadata": {},
   "outputs": [],
   "source": [
    "f = open (\"text.txt\",'w') \n",
    "f.write(\"I want to become a Data Scientist\")\n",
    "f.close()\n",
    "\n",
    "with open (\"text.txt\",'r') as f:\n",
    "    f.read()"
   ]
  },
  {
   "cell_type": "markdown",
   "id": "5dc6c190-e2df-408d-bd5e-d945c897890b",
   "metadata": {},
   "source": [
    "Q4. Explain the following with python code: read(), readline() and readlines()."
   ]
  },
  {
   "cell_type": "code",
   "execution_count": 36,
   "id": "d94530d1-ac4d-498e-bd09-b5c2ec9447f8",
   "metadata": {},
   "outputs": [],
   "source": [
    "with open (\"text1.txt\",\"w\") as f:\n",
    "    f.write('''Lorem Ipsum is simply dummy text of the printing and typesetting industry.\n",
    "    Lorem Ipsum has been the industry's standard dummy text ever since the 1500s,\n",
    "    when an unknown printer took a galley of type and scrambled it to make a type specimen book. \n",
    "    It has survived not only five centuries, but also the leap into electronic typesetting, \n",
    "    remaining essentially unchanged. It was popularised in the 1960s with the release of\n",
    "    Letraset sheets containing Lorem Ipsum passages, \n",
    "    and more recently with desktop publishing software like Aldus PageMaker including versions of Lorem Ipsum.''')"
   ]
  },
  {
   "cell_type": "code",
   "execution_count": 37,
   "id": "f55983fe-3207-41e9-8119-3d218250e397",
   "metadata": {},
   "outputs": [
    {
     "data": {
      "text/plain": [
       "\"Lorem Ipsum is simply dummy text of the printing and typesetting industry.\\n    Lorem Ipsum has been the industry's standard dummy text ever since the 1500s,\\n    when an unknown printer took a galley of type and scrambled it to make a type specimen book. \\n    It has survived not only five centuries, but also the leap into electronic typesetting, \\n    remaining essentially unchanged. It was popularised in the 1960s with the release of\\n    Letraset sheets containing Lorem Ipsum passages, \\n    and more recently with desktop publishing software like Aldus PageMaker including versions of Lorem Ipsum.\""
      ]
     },
     "execution_count": 37,
     "metadata": {},
     "output_type": "execute_result"
    }
   ],
   "source": [
    "f = open (\"text1.txt\",'r') \n",
    "\n",
    "f.read()\n",
    " "
   ]
  },
  {
   "cell_type": "code",
   "execution_count": 38,
   "id": "796eac53-742f-404e-84e2-1523a7bc1acd",
   "metadata": {},
   "outputs": [
    {
     "data": {
      "text/plain": [
       "0"
      ]
     },
     "execution_count": 38,
     "metadata": {},
     "output_type": "execute_result"
    }
   ],
   "source": [
    "f.seek(0)\n"
   ]
  },
  {
   "cell_type": "code",
   "execution_count": 39,
   "id": "83ae7ec5-16e7-45c8-9795-017243031d20",
   "metadata": {},
   "outputs": [
    {
     "data": {
      "text/plain": [
       "'Lorem Ipsum is simply dummy text of the printing and typesetting industry.\\n'"
      ]
     },
     "execution_count": 39,
     "metadata": {},
     "output_type": "execute_result"
    }
   ],
   "source": [
    "f.readline()"
   ]
  },
  {
   "cell_type": "code",
   "execution_count": 42,
   "id": "661258bb-4457-4f8f-9e29-943b74994016",
   "metadata": {},
   "outputs": [
    {
     "name": "stdout",
     "output_type": "stream",
     "text": [
      "['    It has survived not only five centuries, but also the leap into electronic typesetting, \\n', '    remaining essentially unchanged. It was popularised in the 1960s with the release of\\n', '    Letraset sheets containing Lorem Ipsum passages, \\n', '    and more recently with desktop publishing software like Aldus PageMaker including versions of Lorem Ipsum.']\n",
      "['    It has survived not only five centuries, but also the leap into electronic typesetting, \\n', '    remaining essentially unchanged. It was popularised in the 1960s with the release of\\n', '    Letraset sheets containing Lorem Ipsum passages, \\n', '    and more recently with desktop publishing software like Aldus PageMaker including versions of Lorem Ipsum.']\n",
      "['    It has survived not only five centuries, but also the leap into electronic typesetting, \\n', '    remaining essentially unchanged. It was popularised in the 1960s with the release of\\n', '    Letraset sheets containing Lorem Ipsum passages, \\n', '    and more recently with desktop publishing software like Aldus PageMaker including versions of Lorem Ipsum.']\n",
      "['    It has survived not only five centuries, but also the leap into electronic typesetting, \\n', '    remaining essentially unchanged. It was popularised in the 1960s with the release of\\n', '    Letraset sheets containing Lorem Ipsum passages, \\n', '    and more recently with desktop publishing software like Aldus PageMaker including versions of Lorem Ipsum.']\n"
     ]
    }
   ],
   "source": [
    "line=f.readlines()\n",
    "for i in line:\n",
    "    print(line)"
   ]
  },
  {
   "cell_type": "code",
   "execution_count": 43,
   "id": "4f52dff1-0d61-41e9-a7bc-b6e916238b76",
   "metadata": {},
   "outputs": [],
   "source": [
    "f.close()\n"
   ]
  },
  {
   "cell_type": "code",
   "execution_count": 44,
   "id": "966b91b1-f47e-442d-9297-8599570f0a96",
   "metadata": {},
   "outputs": [],
   "source": [
    "import os\n",
    "os.remove('text.txt')\n",
    "os.remove('text1.txt')"
   ]
  },
  {
   "cell_type": "markdown",
   "id": "2f10d34f-5edd-45c3-b8c8-229ea0516e80",
   "metadata": {},
   "source": [
    "Q5 .Explain why with statement is used with open(). What is the advantage of using with statement and\n",
    "open() together?"
   ]
  },
  {
   "cell_type": "markdown",
   "id": "cb361028-a7b1-4d2f-a89f-1db6710d0510",
   "metadata": {},
   "source": [
    "\n",
    "The with statement is used with the open() function in Python to handle file I/O operations. The open() function is used to open a file and returns a file object, which is used to read, write, and manipulate the contents of the file.\n",
    "\n",
    "The advantage of using with statement with open() is that it automatically handles closing the file, which is an important step when working with file I/O operations. When you open a file in Python, it's important to close the file when you're finished working with it. Failing to close a file can lead to data corruption or loss, especially in long-running programs.\n",
    "\n",
    "By using with statement with open(), you don't need to worry about closing the file manually. When the with block is exited, the file object is automatically closed, regardless of whether an exception occurred or not. This ensures that the file is properly closed, and any changes made to it are saved."
   ]
  },
  {
   "cell_type": "markdown",
   "id": "acb2a253-7602-45a5-b3f0-0be851527de4",
   "metadata": {},
   "source": [
    "Q6. Explain the write() and writelines() functions. Give a suitable example."
   ]
  },
  {
   "cell_type": "code",
   "execution_count": 7,
   "id": "6f39fc3e-570c-4013-98f1-b1f48413a01a",
   "metadata": {},
   "outputs": [],
   "source": [
    "with open('example.txt', 'w') as file:\n",
    "    file.write('Hello, world!!')"
   ]
  },
  {
   "cell_type": "code",
   "execution_count": 8,
   "id": "9e4b1b3e-9c4c-4d45-b424-6aab39a62aff",
   "metadata": {},
   "outputs": [],
   "source": [
    "with open('example.txt', 'w') as file:\n",
    "    lines = ['Hello, world!\\n', 'How are you?\\n', 'I am fine.\\n']\n",
    "    file.writelines(lines)"
   ]
  },
  {
   "cell_type": "code",
   "execution_count": 9,
   "id": "304dca62-15f8-463b-b071-6fcc87b5836e",
   "metadata": {},
   "outputs": [],
   "source": [
    "import os\n",
    "os.remove('example.txt')\n"
   ]
  }
 ],
 "metadata": {
  "kernelspec": {
   "display_name": "Python 3 (ipykernel)",
   "language": "python",
   "name": "python3"
  },
  "language_info": {
   "codemirror_mode": {
    "name": "ipython",
    "version": 3
   },
   "file_extension": ".py",
   "mimetype": "text/x-python",
   "name": "python",
   "nbconvert_exporter": "python",
   "pygments_lexer": "ipython3",
   "version": "3.10.8"
  }
 },
 "nbformat": 4,
 "nbformat_minor": 5
}
