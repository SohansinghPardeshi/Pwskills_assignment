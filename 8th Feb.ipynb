{
 "cells": [
  {
   "cell_type": "markdown",
   "id": "1bd9d956-0f15-4bac-8173-3f7e4d967dcd",
   "metadata": {},
   "source": [
    "ANS1 --> Abstraction in object-oriented programming (OOP) is the process of hiding implementation details and providing a simpler and more general interface for users to interact with. It allows developers to focus on the essential features of an object or a system, without worrying about the underlying complexities of its implementation.\n",
    "\n",
    "An example of abstraction could be a class that represents a car. From a user's perspective, they only need to know how to drive the car, turn it on and off, and steer it. They do not need to know how the engine, transmission, or brakes work. These details are hidden from the user, and they only interact with the car through a simpler interface, such as a steering wheel, pedals, and switches.\n",
    "\n",
    "In this example, the car class provides an abstraction of a real car, hiding its implementation details and exposing only the essential features for users to interact with. By using abstraction, the car class can be used by many different users without requiring them to have specialized knowledge of how the car works. This makes the code more modular, easier to understand, and less prone to errors.\n",
    "\n",
    "\n"
   ]
  },
  {
   "cell_type": "code",
   "execution_count": 2,
   "id": "1abe21e6-75f7-4bb0-b73e-b2ddf613cc86",
   "metadata": {},
   "outputs": [
    {
     "name": "stdout",
     "output_type": "stream",
     "text": [
      "5.0\n",
      "0.7071067811865476\n",
      "120\n",
      "2.302585092994046\n"
     ]
    }
   ],
   "source": [
    "# Import the math module\n",
    "import math\n",
    "\n",
    "# Calculate the square root of a number\n",
    "result = math.sqrt(25)\n",
    "print(result)  \n",
    "\n",
    "# Calculate the cosine of an angle in radians\n",
    "result = math.cos(math.pi / 4)\n",
    "print(result) \n",
    "\n",
    "# Calculate the factorial of a number\n",
    "result = math.factorial(5)\n",
    "print(result) \n",
    "\n",
    "# Calculate the natural logarithm of a number\n",
    "result = math.log(10)\n",
    "print(result)  "
   ]
  },
  {
   "cell_type": "markdown",
   "id": "b3740cc8-09e1-48b7-ac42-f2ebddc41c0f",
   "metadata": {},
   "source": [
    "In this example, we first import the math module using the import statement. We then use several functions provided by the math module to perform mathematical calculations, such as sqrt() to calculate the square root of a number, cos() to calculate the cosine of an angle in radians, factorial() to calculate the factorial of a number, and log() to calculate the natural logarithm of a number.\n",
    "\n",
    "By using the math module, we can perform complex mathematical calculations with a few lines of code, without having to implement these functions ourselves. The implementation details of these functions are hidden from us, and we only need to interact with them through a simpler interface. This is an example of abstraction, which makes our code more modular, easier to understand, and less prone to errors."
   ]
  },
  {
   "cell_type": "markdown",
   "id": "9d5a06ac-512a-4cca-97d1-180b0c5a1289",
   "metadata": {},
   "source": [
    "ANS2 --> Encapsulation is a fundamental concept in object-oriented programming that refers to the practice of hiding the internal details of an object from the outside world, and exposing a well-defined interface that can be used to interact with the object.\n",
    "\n",
    "In simpler words, encapsulation means wrapping up the data and the code that operates on the data into a single unit, such as a class, and providing public methods to access and modify that data. By doing so, the internal details of the object are kept hidden and protected from outside interference, making the code more robust, secure, and easier to maintain.\n",
    "\n",
    "Data abstraction, on the other hand, refers to the process of hiding the implementation details of an object from the user, and providing a simpler and more generalized view of it. This means that users interact with an object through a well-defined interface, without having to worry about the underlying complexities of its implementation.\n",
    "\n",
    "In essence, encapsulation is a technique used to achieve data abstraction, by separating the internal details of an object from the outside world, and providing a well-defined interface for users to interact with. While data abstraction focuses on the interface that users interact with, encapsulation focuses on how the object's data is stored and protected from outside interference.\n",
    "\n",
    "Both encapsulation and data abstraction are essential techniques in object-oriented programming, as they help to create more modular, maintainable, and secure code that is easier to understand and modify.\n",
    "\n",
    "Let's say we want to create a class to represent a bank account. The bank account has some internal data, such as the account holder's name, account number, and balance, that we want to keep hidden and protected from outside interference. At the same time, we want to provide some methods that users can use to interact with the account, such as depositing and withdrawing money.\n",
    "\n",
    "Here's an example implementation of the BankAccount class:"
   ]
  },
  {
   "cell_type": "code",
   "execution_count": 4,
   "id": "befa8764-3fb4-43fd-bdcd-31b2f74624a8",
   "metadata": {},
   "outputs": [],
   "source": [
    "class BankAccount:\n",
    "    def __init__(self, name, account_number):\n",
    "        self._name = name\n",
    "        self._account_number = account_number\n",
    "        self._balance = 0.0\n",
    "\n",
    "    def deposit(self, amount):\n",
    "        self._balance += amount\n",
    "\n",
    "    def withdraw(self, amount):\n",
    "        if amount <= self._balance:\n",
    "            self._balance -= amount\n",
    "        else:\n",
    "            print(\"Insufficient funds\")\n",
    "\n",
    "    def get_balance(self):\n",
    "        return self._balance\n"
   ]
  },
  {
   "cell_type": "markdown",
   "id": "fe48acaf-5ee7-4569-9bb5-5c9e89d9c0c3",
   "metadata": {},
   "source": [
    "In this example, we have encapsulated the internal data of the bank account, such as the account holder's name, account number, and balance, by marking them as private variables with an underscore prefix. This indicates that they should not be accessed or modified directly from outside the class.\n",
    "\n",
    "Instead, we have provided public methods, such as deposit(), withdraw(), and get_balance(), that users can use to interact with the account. These methods provide a well-defined interface that abstracts away the internal details of the account, and allows users to interact with it in a simpler, more generalized way.\n",
    "\n",
    "So, encapsulation refers to the practice of hiding the internal data of an object and protecting it from outside interference, while data abstraction refers to the process of providing a simpler and more generalized view of the object, through a well-defined interface that users can interact with. In this example, we have used encapsulation to achieve data abstraction, by separating the internal details of the bank account from the outside world, and providing a well-defined interface that users can use to interact with the account."
   ]
  },
  {
   "cell_type": "markdown",
   "id": "3274df31-3704-4eab-8b92-3393921f753d",
   "metadata": {},
   "source": [
    "ANS-->\n",
    "The abc module in Python stands for \"Abstract Base Classes\". It is a module that provides infrastructure for defining abstract base classes (ABCs) in Python.\n",
    "\n",
    "An abstract base class is a class that cannot be instantiated directly, but defines a common interface that its subclasses must implement. This interface can be composed of abstract methods, which have no implementation in the base class, or concrete methods, which have a default implementation but can be overridden by subclasses."
   ]
  },
  {
   "cell_type": "code",
   "execution_count": 22,
   "id": "e91ce1c8-82bd-47e2-91d3-5e5dbb2342a3",
   "metadata": {},
   "outputs": [
    {
     "name": "stdout",
     "output_type": "stream",
     "text": [
      "200\n",
      "60\n"
     ]
    }
   ],
   "source": [
    "from abc import ABC,abstractmethod \n",
    "\n",
    "class shape(ABC):\n",
    "    \n",
    "    @abstractmethod\n",
    "    def area(self):\n",
    "        pass\n",
    "    \n",
    "    @abstractmethod\n",
    "    def perimeter(self):\n",
    "        pass\n",
    "\n",
    "    \n",
    "class rectangle(shape):\n",
    "    def __init__(self,length,breadth):\n",
    "        self.length=length\n",
    "        self.breadth=breadth\n",
    "    def area(self):\n",
    "        return self.length*self.breadth\n",
    "    def perimeter (self):\n",
    "        return 2*(self.length + self.breadth)\n",
    "\n",
    "R1=rectangle(10,20)\n",
    "print(R1.area())\n",
    "print(R1.perimeter())\n",
    "\n"
   ]
  },
  {
   "cell_type": "markdown",
   "id": "a0615d64-4145-4d8a-be0a-0aa58869c742",
   "metadata": {},
   "source": [
    "ANS4 --> In Python, we can achieve data abstraction using classes and objects. Data abstraction is the process of hiding the implementation details of an object and exposing only the essential features or interfaces to the user. This helps to reduce complexity, improve modularity, and enhance security in our programs."
   ]
  },
  {
   "cell_type": "markdown",
   "id": "33fe9646-d048-46d4-a09b-5d10e541b77d",
   "metadata": {},
   "source": [
    "ANS5 --> In Python, you cannot create an instance of an abstract class because it is not fully defined. An abstract class is a class that has one or more abstract methods, which are methods that are declared but do not have an implementation. An abstract class is intended to be subclassed and its abstract methods implemented by the subclasses.\n",
    "\n",
    "Since an abstract class is not fully defined and it is not intended to be instantiated on its own, Python prevents you from creating an instance of an abstract class. When you try to create an instance of an abstract class, you will get a TypeError with the message \"Can't instantiate abstract class <class name> with abstract methods <method names>\"."
   ]
  }
 ],
 "metadata": {
  "kernelspec": {
   "display_name": "Python 3 (ipykernel)",
   "language": "python",
   "name": "python3"
  },
  "language_info": {
   "codemirror_mode": {
    "name": "ipython",
    "version": 3
   },
   "file_extension": ".py",
   "mimetype": "text/x-python",
   "name": "python",
   "nbconvert_exporter": "python",
   "pygments_lexer": "ipython3",
   "version": "3.10.8"
  }
 },
 "nbformat": 4,
 "nbformat_minor": 5
}
