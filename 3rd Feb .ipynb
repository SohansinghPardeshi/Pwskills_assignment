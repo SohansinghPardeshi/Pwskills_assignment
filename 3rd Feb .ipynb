{
 "cells": [
  {
   "cell_type": "markdown",
   "id": "da2e443e-2e2f-44ba-98c5-9415d3f3dc6d",
   "metadata": {},
   "source": [
    "Q1. Which keyword is used to create a function? Create a function to return a list of odd numbers in the\n",
    "range of 1 to 25."
   ]
  },
  {
   "cell_type": "code",
   "execution_count": 1,
   "id": "aa73d705-54ab-4aca-b71c-a73a95198695",
   "metadata": {},
   "outputs": [],
   "source": [
    "def odd_numbers():\n",
    "    odd_list = [x for x in range(1,26) if x % 2 != 0]\n",
    "    return odd_list"
   ]
  },
  {
   "cell_type": "code",
   "execution_count": 2,
   "id": "3943a54f-08bb-4991-a359-c99f31f6652e",
   "metadata": {},
   "outputs": [
    {
     "data": {
      "text/plain": [
       "[1, 3, 5, 7, 9, 11, 13, 15, 17, 19, 21, 23, 25]"
      ]
     },
     "execution_count": 2,
     "metadata": {},
     "output_type": "execute_result"
    }
   ],
   "source": [
    "odd_numbers()"
   ]
  },
  {
   "cell_type": "markdown",
   "id": "2f0dd045-af1e-41da-82e7-487c5a1dbe59",
   "metadata": {},
   "source": [
    "Q2. Why *args and **kwargs is used in some functions? Create a function each for *args and **kwargs\n",
    "to demonstrate their use."
   ]
  },
  {
   "cell_type": "markdown",
   "id": "2220b374-9d75-46e0-8904-93aa234415c7",
   "metadata": {},
   "source": [
    "We use *args  and   **kwargs as arguments we want the number of parameter that a function can accept to be dynamic.\n",
    "The difference between *args and **kwrags is that one simply that *args takes  arguments as a normal function but **kwargs take arguments as key value pair.\n",
    "When we args we get tuple with our arguments in it\n",
    "when we use kwargs we get dictionary with our values"
   ]
  },
  {
   "cell_type": "code",
   "execution_count": 3,
   "id": "bb1c2a85-b571-41d6-af64-5fe2bc94b68b",
   "metadata": {},
   "outputs": [
    {
     "data": {
      "text/plain": [
       "(1, 2, 53, 2, 'ADSF', 'FDs')"
      ]
     },
     "execution_count": 3,
     "metadata": {},
     "output_type": "execute_result"
    }
   ],
   "source": [
    "def f1(*args):\n",
    "    return args\n",
    "f1(1,2,53,2,\"ADSF\",\"FDs\")"
   ]
  },
  {
   "cell_type": "code",
   "execution_count": 4,
   "id": "068ca1da-ac12-4f52-b4d9-a03406caf627",
   "metadata": {},
   "outputs": [
    {
     "data": {
      "text/plain": [
       "{'a': 123, 'b': 12, 'c': 'name'}"
      ]
     },
     "execution_count": 4,
     "metadata": {},
     "output_type": "execute_result"
    }
   ],
   "source": [
    "def f2(**kwargs):\n",
    "    return kwargs\n",
    "f2(a=123,b=12,c=\"name\")"
   ]
  },
  {
   "cell_type": "markdown",
   "id": "8c25119d-725c-4145-8bef-9056314b0399",
   "metadata": {},
   "source": [
    "Q3. What is an iterator in python? Name the method used to initialise the iterator object and the method\n",
    "used for iteration. Use these methods to print the first five elements of the given list [2, 4, 6, 8, 10, 12, 14,\n",
    "16, 18, 20].\n",
    "\n",
    "-->Iterable is an object which support __iter___ \n",
    "-->Iterator is an object which support __iter___ and __next__ \n",
    "The method used to initialize the iterator object is iter(). The method used for iteration is next().\n",
    "\n",
    "Iterable is an object, that one can iterate over. It generates an Iterator when passed to iter() method. An iterator is an object, which is used to iterate over an iterable object using the __next__() method. Iterators have the __next__() method, which returns the next item of the object.\n",
    "\n",
    "Note: Every iterator is also an iterable, but not every iterable is an iterator in Python."
   ]
  },
  {
   "cell_type": "code",
   "execution_count": 5,
   "id": "b1a19760-59e7-42b4-ba61-5d377ab7bca3",
   "metadata": {},
   "outputs": [
    {
     "name": "stdout",
     "output_type": "stream",
     "text": [
      "2\n",
      "4\n",
      "6\n",
      "8\n",
      "10\n"
     ]
    }
   ],
   "source": [
    "my_list = [2, 4, 6, 8, 10, 12, 14, 16, 18, 20] #itertable\n",
    "my_iterator = iter(my_list)\n",
    "\n",
    "for i in range(5):\n",
    "    print(next(my_iterator))"
   ]
  },
  {
   "cell_type": "markdown",
   "id": "9a09583a-91d4-41ac-a857-87969f361b1f",
   "metadata": {},
   "source": [
    "q4.What is a generator function in python? Why yield keyword is used? Give an example of a generator\n",
    "function.\n",
    "-->\n",
    " generator function in Python is a function that contains a yield statement. When the generator function is called, it returns a generator object, which can be used to iterate over a sequence of values. Unlike a regular function that returns once, a generator function can be paused and resumed multiple times, allowing it to produce a sequence of values over time.\n",
    "\n",
    "The yield keyword is used to produce a value and pause the generator function. When the generator is resumed again, the function continues executing from where it left off, until it encounters another yield statement or reaches the end of the function.\n",
    "Helps to manage memory"
   ]
  },
  {
   "cell_type": "code",
   "execution_count": 6,
   "id": "f8a69415-dd42-4fed-baf3-897d3c2729d1",
   "metadata": {},
   "outputs": [],
   "source": [
    "def sq(x):\n",
    "    for i in range(x):\n",
    "        yield i**3\n"
   ]
  },
  {
   "cell_type": "code",
   "execution_count": 7,
   "id": "63461cab-38a4-4543-8935-f8f6d03e922c",
   "metadata": {},
   "outputs": [
    {
     "name": "stdout",
     "output_type": "stream",
     "text": [
      "0\n",
      "1\n",
      "8\n",
      "27\n",
      "64\n"
     ]
    }
   ],
   "source": [
    "gen = sq(5)\n",
    "for s in gen:\n",
    "    print(s)"
   ]
  },
  {
   "cell_type": "markdown",
   "id": "8d1a1aba-2043-4d8f-87a3-d4e2c0f74376",
   "metadata": {},
   "source": [
    "Create a generator function for prime numbers less than 1000. Use the next() method to print the\n",
    "first 20 prime numbers."
   ]
  },
  {
   "cell_type": "code",
   "execution_count": 8,
   "id": "9ac02d2e-7b79-47b8-b8c8-993df21b4a66",
   "metadata": {},
   "outputs": [],
   "source": [
    "def pn(n):\n",
    "    for i in range(2,n):\n",
    "        for j in range(2,i):\n",
    "            if i%j==0:\n",
    "                break\n",
    "        else:\n",
    "            yield i\n",
    "            "
   ]
  },
  {
   "cell_type": "code",
   "execution_count": 9,
   "id": "ebb7fa3e-9077-4449-bc01-67866e55b40d",
   "metadata": {},
   "outputs": [
    {
     "name": "stdout",
     "output_type": "stream",
     "text": [
      "2\n",
      "3\n",
      "5\n",
      "7\n",
      "11\n",
      "13\n",
      "17\n",
      "19\n",
      "23\n",
      "29\n",
      "31\n",
      "37\n",
      "41\n",
      "43\n",
      "47\n",
      "53\n",
      "59\n",
      "61\n",
      "67\n",
      "71\n"
     ]
    }
   ],
   "source": [
    "primes = pn(1000)\n",
    "for i in range(20):\n",
    "    print(next(primes))"
   ]
  },
  {
   "cell_type": "markdown",
   "id": "0b29806a-1ef0-4b73-9c71-ce7b7e03f811",
   "metadata": {},
   "source": [
    "Write a python program to print the first 10 Fibonacci numbers using a while loop."
   ]
  },
  {
   "cell_type": "code",
   "execution_count": 10,
   "id": "40b43b68-b05a-49fc-bcb4-456f25e5a23c",
   "metadata": {},
   "outputs": [],
   "source": [
    "def FIBONACCI_SERIES():\n",
    "    a,b = 0,1\n",
    "    while True:\n",
    "        yield a \n",
    "        a,b = b , a+b"
   ]
  },
  {
   "cell_type": "code",
   "execution_count": 11,
   "id": "ca30eb1c-bcbe-42d4-b1ee-ecd81ad32cb0",
   "metadata": {},
   "outputs": [
    {
     "data": {
      "text/plain": [
       "generator"
      ]
     },
     "execution_count": 11,
     "metadata": {},
     "output_type": "execute_result"
    }
   ],
   "source": [
    "type(FIBONACCI_SERIES())"
   ]
  },
  {
   "cell_type": "code",
   "execution_count": 12,
   "id": "8f3fd969-9b8b-409a-9cc9-bbeab3638e48",
   "metadata": {},
   "outputs": [],
   "source": [
    "FS=FIBONACCI_SERIES()"
   ]
  },
  {
   "cell_type": "code",
   "execution_count": 13,
   "id": "dcc0d660-b25e-48b1-8228-63182129b627",
   "metadata": {},
   "outputs": [
    {
     "name": "stdout",
     "output_type": "stream",
     "text": [
      "0\n",
      "1\n",
      "1\n",
      "2\n",
      "3\n",
      "5\n",
      "8\n",
      "13\n",
      "21\n",
      "34\n"
     ]
    }
   ],
   "source": [
    "for i in range(10):\n",
    "    print(next(FS))\n"
   ]
  },
  {
   "cell_type": "markdown",
   "id": "a3739dd4-7132-4218-b75c-7e5cbd1e631c",
   "metadata": {},
   "source": [
    "Q7. Write a List Comprehension to iterate through the given string: ‘pwskills’.\n",
    "Expected output: ['p', 'w', 's', 'k', 'i', 'l', 'l', 's']"
   ]
  },
  {
   "cell_type": "code",
   "execution_count": 14,
   "id": "296a43bf-c1da-4e77-a204-5c7f3e8146de",
   "metadata": {},
   "outputs": [
    {
     "data": {
      "text/plain": [
       "['P', 'W', 'S', 'K', 'I', 'L', 'L', 'S']"
      ]
     },
     "execution_count": 14,
     "metadata": {},
     "output_type": "execute_result"
    }
   ],
   "source": [
    "\n",
    "str='pwskills'\n",
    "\n",
    "[y.upper() for y in str ]"
   ]
  },
  {
   "cell_type": "markdown",
   "id": "46f4c4cd-4c66-4601-9258-9f383d1541d3",
   "metadata": {},
   "source": [
    "Q8. Write a python program to check whether a given number is Palindrome or not using a while loop."
   ]
  },
  {
   "cell_type": "code",
   "execution_count": 8,
   "id": "14707372-3a6b-4fc0-8187-7c9c9f964645",
   "metadata": {},
   "outputs": [],
   "source": [
    "def palindrome_checker(integer):\n",
    "\n",
    "    x=0\n",
    "    y=integer\n",
    "\n",
    "    while y>0:\n",
    "        x=10*x+y%10\n",
    "        y//=10\n",
    "\n",
    "    if x==integer:\n",
    "        return f\"{integer} is a palindrome\"\n",
    "    else :\n",
    "        return f\"{integer} is not a palindrome\"\n"
   ]
  },
  {
   "cell_type": "code",
   "execution_count": 9,
   "id": "6d132412-1864-4cc6-b68d-8efd58567b28",
   "metadata": {},
   "outputs": [
    {
     "data": {
      "text/plain": [
       "'12345 is not a palindrome'"
      ]
     },
     "execution_count": 9,
     "metadata": {},
     "output_type": "execute_result"
    }
   ],
   "source": [
    "palindrome_checker(12345)"
   ]
  },
  {
   "cell_type": "markdown",
   "id": "6a6268f6-a972-4755-9476-10f487d6a4f6",
   "metadata": {},
   "source": [
    "Write a code to print odd numbers from 1 to 100 using list comprehension."
   ]
  },
  {
   "cell_type": "code",
   "execution_count": 21,
   "id": "45fd2497-fb92-4739-a0bb-5fce36377e80",
   "metadata": {},
   "outputs": [],
   "source": [
    "numbers = [x for x in range(1,101)]\n",
    "odd_numbers = [x for x in numbers if x % 2 != 0]\n"
   ]
  },
  {
   "cell_type": "code",
   "execution_count": 24,
   "id": "459388c9-52f2-498c-a2ba-5489bad56911",
   "metadata": {},
   "outputs": [
    {
     "data": {
      "text/plain": [
       "[1,\n",
       " 2,\n",
       " 3,\n",
       " 4,\n",
       " 5,\n",
       " 6,\n",
       " 7,\n",
       " 8,\n",
       " 9,\n",
       " 10,\n",
       " 11,\n",
       " 12,\n",
       " 13,\n",
       " 14,\n",
       " 15,\n",
       " 16,\n",
       " 17,\n",
       " 18,\n",
       " 19,\n",
       " 20,\n",
       " 21,\n",
       " 22,\n",
       " 23,\n",
       " 24,\n",
       " 25,\n",
       " 26,\n",
       " 27,\n",
       " 28,\n",
       " 29,\n",
       " 30,\n",
       " 31,\n",
       " 32,\n",
       " 33,\n",
       " 34,\n",
       " 35,\n",
       " 36,\n",
       " 37,\n",
       " 38,\n",
       " 39,\n",
       " 40,\n",
       " 41,\n",
       " 42,\n",
       " 43,\n",
       " 44,\n",
       " 45,\n",
       " 46,\n",
       " 47,\n",
       " 48,\n",
       " 49,\n",
       " 50,\n",
       " 51,\n",
       " 52,\n",
       " 53,\n",
       " 54,\n",
       " 55,\n",
       " 56,\n",
       " 57,\n",
       " 58,\n",
       " 59,\n",
       " 60,\n",
       " 61,\n",
       " 62,\n",
       " 63,\n",
       " 64,\n",
       " 65,\n",
       " 66,\n",
       " 67,\n",
       " 68,\n",
       " 69,\n",
       " 70,\n",
       " 71,\n",
       " 72,\n",
       " 73,\n",
       " 74,\n",
       " 75,\n",
       " 76,\n",
       " 77,\n",
       " 78,\n",
       " 79,\n",
       " 80,\n",
       " 81,\n",
       " 82,\n",
       " 83,\n",
       " 84,\n",
       " 85,\n",
       " 86,\n",
       " 87,\n",
       " 88,\n",
       " 89,\n",
       " 90,\n",
       " 91,\n",
       " 92,\n",
       " 93,\n",
       " 94,\n",
       " 95,\n",
       " 96,\n",
       " 97,\n",
       " 98,\n",
       " 99,\n",
       " 100]"
      ]
     },
     "execution_count": 24,
     "metadata": {},
     "output_type": "execute_result"
    }
   ],
   "source": [
    "numbers"
   ]
  },
  {
   "cell_type": "code",
   "execution_count": 23,
   "id": "66f261b2-8a81-4b6e-a3e8-98ec7afb7616",
   "metadata": {},
   "outputs": [
    {
     "data": {
      "text/plain": [
       "[1,\n",
       " 3,\n",
       " 5,\n",
       " 7,\n",
       " 9,\n",
       " 11,\n",
       " 13,\n",
       " 15,\n",
       " 17,\n",
       " 19,\n",
       " 21,\n",
       " 23,\n",
       " 25,\n",
       " 27,\n",
       " 29,\n",
       " 31,\n",
       " 33,\n",
       " 35,\n",
       " 37,\n",
       " 39,\n",
       " 41,\n",
       " 43,\n",
       " 45,\n",
       " 47,\n",
       " 49,\n",
       " 51,\n",
       " 53,\n",
       " 55,\n",
       " 57,\n",
       " 59,\n",
       " 61,\n",
       " 63,\n",
       " 65,\n",
       " 67,\n",
       " 69,\n",
       " 71,\n",
       " 73,\n",
       " 75,\n",
       " 77,\n",
       " 79,\n",
       " 81,\n",
       " 83,\n",
       " 85,\n",
       " 87,\n",
       " 89,\n",
       " 91,\n",
       " 93,\n",
       " 95,\n",
       " 97,\n",
       " 99]"
      ]
     },
     "execution_count": 23,
     "metadata": {},
     "output_type": "execute_result"
    }
   ],
   "source": [
    "odd_numbers "
   ]
  }
 ],
 "metadata": {
  "kernelspec": {
   "display_name": "Python 3 (ipykernel)",
   "language": "python",
   "name": "python3"
  },
  "language_info": {
   "codemirror_mode": {
    "name": "ipython",
    "version": 3
   },
   "file_extension": ".py",
   "mimetype": "text/x-python",
   "name": "python",
   "nbconvert_exporter": "python",
   "pygments_lexer": "ipython3",
   "version": "3.10.8"
  }
 },
 "nbformat": 4,
 "nbformat_minor": 5
}
