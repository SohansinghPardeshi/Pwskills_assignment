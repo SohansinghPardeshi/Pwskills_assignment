{
 "cells": [
  {
   "cell_type": "markdown",
   "metadata": {},
   "source": [
    "Q1. **What is Gradient Boosting Regression?**\n",
    "Gradient Boosting Regression is a machine learning technique that combines the predictions of several weak learners (typically decision trees) to create a strong predictive model. It belongs to the ensemble learning family, where multiple models are trained and their outputs are combined to improve overall performance. In gradient boosting, the models are trained sequentially, with each new model attempting to correct the errors made by the previous ones.\n",
    "\n",
    "Q2. **Implement a simple gradient boosting algorithm from scratch using Python and NumPy:**\n",
    "\n"
   ]
  },
  {
   "cell_type": "code",
   "execution_count": 31,
   "metadata": {},
   "outputs": [
    {
     "name": "stdout",
     "output_type": "stream",
     "text": [
      "Mean Squared Error: 0.1309888322801297\n",
      "R-squared: 0.9312279328743247\n"
     ]
    }
   ],
   "source": [
    "import numpy as np\n",
    "from sklearn.tree import DecisionTreeRegressor\n",
    "from sklearn.metrics import mean_squared_error, r2_score\n",
    "\n",
    "# Generate a toy dataset\n",
    "np.random.seed(42)\n",
    "X = np.random.rand(100, 1)\n",
    "y = 4 * X.squeeze() + np.random.randn(100)\n",
    "\n",
    "# Initialize parameters\n",
    "learning_rate = 0.1\n",
    "n_trees = 100\n",
    "\n",
    "# Initialize predictions with the mean of the target variable\n",
    "predictions = np.mean(y) * np.ones_like(y)\n",
    "\n",
    "# Build trees sequentially\n",
    "for i in range(n_trees):\n",
    "    # Calculate residuals\n",
    "    residuals = y - predictions\n",
    "    \n",
    "    # Train a weak learner (Decision Tree) on residuals\n",
    "    tree = DecisionTreeRegressor(max_depth=3)\n",
    "    tree.fit(X, residuals)\n",
    "    \n",
    "    # Update predictions with the contribution from the new tree\n",
    "    predictions += learning_rate * tree.predict(X)\n",
    "\n",
    "# Evaluate the model\n",
    "mse = mean_squared_error(y, predictions)\n",
    "r2 = r2_score(y, predictions)\n",
    "\n",
    "print(f'Mean Squared Error: {mse}')\n",
    "print(f'R-squared: {r2}')"
   ]
  },
  {
   "cell_type": "markdown",
   "metadata": {},
   "source": [
    "\n",
    "\n",
    "Q3. **Experiment with different hyperparameters:**\n"
   ]
  },
  {
   "cell_type": "code",
   "execution_count": 24,
   "metadata": {},
   "outputs": [],
   "source": [
    "from sklearn.ensemble import GradientBoostingRegressor\n",
    "from sklearn.datasets import make_regression\n",
    "from sklearn.model_selection import train_test_split\n",
    "from sklearn.metrics import r2_score"
   ]
  },
  {
   "cell_type": "code",
   "execution_count": 25,
   "metadata": {},
   "outputs": [],
   "source": [
    "X,y = make_regression(n_samples=1000,n_features= 20,n_informative=10,n_targets=1,random_state=42)"
   ]
  },
  {
   "cell_type": "code",
   "execution_count": 26,
   "metadata": {},
   "outputs": [],
   "source": [
    "X_train, X_test, y_train, y_test = train_test_split(X, y, test_size=0.33, random_state=42)"
   ]
  },
  {
   "cell_type": "code",
   "execution_count": 27,
   "metadata": {},
   "outputs": [
    {
     "data": {
      "text/html": [
       "<style>#sk-container-id-4 {color: black;background-color: white;}#sk-container-id-4 pre{padding: 0;}#sk-container-id-4 div.sk-toggleable {background-color: white;}#sk-container-id-4 label.sk-toggleable__label {cursor: pointer;display: block;width: 100%;margin-bottom: 0;padding: 0.3em;box-sizing: border-box;text-align: center;}#sk-container-id-4 label.sk-toggleable__label-arrow:before {content: \"▸\";float: left;margin-right: 0.25em;color: #696969;}#sk-container-id-4 label.sk-toggleable__label-arrow:hover:before {color: black;}#sk-container-id-4 div.sk-estimator:hover label.sk-toggleable__label-arrow:before {color: black;}#sk-container-id-4 div.sk-toggleable__content {max-height: 0;max-width: 0;overflow: hidden;text-align: left;background-color: #f0f8ff;}#sk-container-id-4 div.sk-toggleable__content pre {margin: 0.2em;color: black;border-radius: 0.25em;background-color: #f0f8ff;}#sk-container-id-4 input.sk-toggleable__control:checked~div.sk-toggleable__content {max-height: 200px;max-width: 100%;overflow: auto;}#sk-container-id-4 input.sk-toggleable__control:checked~label.sk-toggleable__label-arrow:before {content: \"▾\";}#sk-container-id-4 div.sk-estimator input.sk-toggleable__control:checked~label.sk-toggleable__label {background-color: #d4ebff;}#sk-container-id-4 div.sk-label input.sk-toggleable__control:checked~label.sk-toggleable__label {background-color: #d4ebff;}#sk-container-id-4 input.sk-hidden--visually {border: 0;clip: rect(1px 1px 1px 1px);clip: rect(1px, 1px, 1px, 1px);height: 1px;margin: -1px;overflow: hidden;padding: 0;position: absolute;width: 1px;}#sk-container-id-4 div.sk-estimator {font-family: monospace;background-color: #f0f8ff;border: 1px dotted black;border-radius: 0.25em;box-sizing: border-box;margin-bottom: 0.5em;}#sk-container-id-4 div.sk-estimator:hover {background-color: #d4ebff;}#sk-container-id-4 div.sk-parallel-item::after {content: \"\";width: 100%;border-bottom: 1px solid gray;flex-grow: 1;}#sk-container-id-4 div.sk-label:hover label.sk-toggleable__label {background-color: #d4ebff;}#sk-container-id-4 div.sk-serial::before {content: \"\";position: absolute;border-left: 1px solid gray;box-sizing: border-box;top: 0;bottom: 0;left: 50%;z-index: 0;}#sk-container-id-4 div.sk-serial {display: flex;flex-direction: column;align-items: center;background-color: white;padding-right: 0.2em;padding-left: 0.2em;position: relative;}#sk-container-id-4 div.sk-item {position: relative;z-index: 1;}#sk-container-id-4 div.sk-parallel {display: flex;align-items: stretch;justify-content: center;background-color: white;position: relative;}#sk-container-id-4 div.sk-item::before, #sk-container-id-4 div.sk-parallel-item::before {content: \"\";position: absolute;border-left: 1px solid gray;box-sizing: border-box;top: 0;bottom: 0;left: 50%;z-index: -1;}#sk-container-id-4 div.sk-parallel-item {display: flex;flex-direction: column;z-index: 1;position: relative;background-color: white;}#sk-container-id-4 div.sk-parallel-item:first-child::after {align-self: flex-end;width: 50%;}#sk-container-id-4 div.sk-parallel-item:last-child::after {align-self: flex-start;width: 50%;}#sk-container-id-4 div.sk-parallel-item:only-child::after {width: 0;}#sk-container-id-4 div.sk-dashed-wrapped {border: 1px dashed gray;margin: 0 0.4em 0.5em 0.4em;box-sizing: border-box;padding-bottom: 0.4em;background-color: white;}#sk-container-id-4 div.sk-label label {font-family: monospace;font-weight: bold;display: inline-block;line-height: 1.2em;}#sk-container-id-4 div.sk-label-container {text-align: center;}#sk-container-id-4 div.sk-container {/* jupyter's `normalize.less` sets `[hidden] { display: none; }` but bootstrap.min.css set `[hidden] { display: none !important; }` so we also need the `!important` here to be able to override the default hidden behavior on the sphinx rendered scikit-learn.org. See: https://github.com/scikit-learn/scikit-learn/issues/21755 */display: inline-block !important;position: relative;}#sk-container-id-4 div.sk-text-repr-fallback {display: none;}</style><div id=\"sk-container-id-4\" class=\"sk-top-container\"><div class=\"sk-text-repr-fallback\"><pre>GradientBoostingRegressor(random_state=0)</pre><b>In a Jupyter environment, please rerun this cell to show the HTML representation or trust the notebook. <br />On GitHub, the HTML representation is unable to render, please try loading this page with nbviewer.org.</b></div><div class=\"sk-container\" hidden><div class=\"sk-item\"><div class=\"sk-estimator sk-toggleable\"><input class=\"sk-toggleable__control sk-hidden--visually\" id=\"sk-estimator-id-4\" type=\"checkbox\" checked><label for=\"sk-estimator-id-4\" class=\"sk-toggleable__label sk-toggleable__label-arrow\">GradientBoostingRegressor</label><div class=\"sk-toggleable__content\"><pre>GradientBoostingRegressor(random_state=0)</pre></div></div></div></div></div>"
      ],
      "text/plain": [
       "GradientBoostingRegressor(random_state=0)"
      ]
     },
     "execution_count": 27,
     "metadata": {},
     "output_type": "execute_result"
    }
   ],
   "source": [
    "regressor = GradientBoostingRegressor(random_state=0)\n",
    "regressor.fit(X_train, y_train)"
   ]
  },
  {
   "cell_type": "code",
   "execution_count": 28,
   "metadata": {},
   "outputs": [
    {
     "name": "stdout",
     "output_type": "stream",
     "text": [
      "The r2 score is  0.9114032667276368\n"
     ]
    }
   ],
   "source": [
    "ypred = regressor.predict(X_test)\n",
    "print('The r2 score is ',r2_score(y_test,ypred))"
   ]
  },
  {
   "cell_type": "code",
   "execution_count": 29,
   "metadata": {},
   "outputs": [
    {
     "name": "stdout",
     "output_type": "stream",
     "text": [
      "Best Hyperparameters: {'learning_rate': 0.1, 'max_depth': 3, 'n_estimators': 200}\n"
     ]
    }
   ],
   "source": [
    "from sklearn.model_selection import GridSearchCV\n",
    "\n",
    "param_grid = {\n",
    "    'learning_rate': [0.1, 0.05, 0.01],\n",
    "    'n_estimators': [50, 100, 200],\n",
    "    'max_depth': [3, 4, 5]\n",
    "}\n",
    "\n",
    "grid_search = GridSearchCV(estimator=regressor, param_grid=param_grid, cv=3)\n",
    "grid_search.fit(X_train, y_train)\n",
    "\n",
    "best_params = grid_search.best_params_\n",
    "best_model = grid_search.best_estimator_\n",
    "\n",
    "print(\"Best Hyperparameters:\", best_params)\n"
   ]
  },
  {
   "cell_type": "code",
   "execution_count": 30,
   "metadata": {},
   "outputs": [
    {
     "name": "stdout",
     "output_type": "stream",
     "text": [
      "The r2 score is  0.9350503275606448\n"
     ]
    }
   ],
   "source": [
    "ypred_best = best_model.predict(X_test)\n",
    "\n",
    "print('The r2 score is ',r2_score(y_test,ypred_best))"
   ]
  },
  {
   "attachments": {
    "image.png": {
     "image/png": "[encoded data removed]"
    }
   },
   "cell_type": "markdown",
   "metadata": {},
   "source": [
    "\n",
    "Q4. **What is a weak learner in Gradient Boosting?**\n",
    "A weak learner is a model that performs slightly better than random chance. In the context of gradient boosting, decision trees with limited depth are commonly used as weak learners. These models are simple and have modest predictive power on their own, but when combined in an ensemble, they contribute to the overall predictive strength of the model.\n",
    "\n",
    "Q5. **What is the intuition behind the Gradient Boosting algorithm?**\n",
    "The intuition behind the Gradient Boosting algorithm is to sequentially build a series of weak learners, each one correcting the errors made by the previous ones. It focuses on minimizing the residuals (the differences between actual and predicted values) by optimizing the loss function during each iteration.\n",
    "\n",
    "Q6. **How does Gradient Boosting algorithm build an ensemble of weak learners?**\n",
    "The algorithm builds an ensemble by training each weak learner sequentially. After training each tree, the predictions are combined, and subsequent trees are trained to correct the errors of the combined predictions from the previous trees. This process continues until a specified number of trees (or stopping criteria) is reached.\n",
    "\n",
    "Q7. **What are the steps involved in constructing the mathematical intuition of Gradient Boosting algorithm?**\n",
    "\n",
    "\n",
    "1. **Create a Base Model (Iteration 0):**\n",
    "   - Initialize the base model as a simple prediction, often the mean of the target variable.\n",
    "\n",
    "\n",
    "2. **Compute Residuals (Iteration 0):**\n",
    "   - Calculate the residuals for each observation as the difference between the actual target values and the initial predictions\n",
    "\n",
    "\n",
    "3. **Construct a Decision Tree (Iteration 1):**\n",
    "   - Train a decision tree  using the input features  and the residuals  from the base model.\n",
    "   - The decision tree is constructed to predict the residuals  for each observation.\n",
    "\n",
    "4. **Predict Output (Iteration 1):**\n",
    "   - Use the decision tree  to predict the residuals for each observation.\n",
    "\n",
    "\n",
    "5. **Update Predictions (Iteration 1):**\n",
    "   - Update the overall prediction by multiplying learing rate of the weak learner's predictions to the initial predictions.\n",
    "\n",
    "6. **Compute Residuals (Iteration 1):**\n",
    "   - Calculate new residuals  as the difference between the actual target values  and the updated predictions \n",
    "\n",
    "7. **Construct a Decision Tree (Iteration 2):**\n",
    "   - Train a new decision tree  using the input features and the updated residuals\n",
    "   - The decision tree is constructed to predict the updated residuals  for each observation.\n",
    "\n",
    "8. **Predict Output (Iteration 2):**\n",
    "   - Use the new decision tree  to predict the updated residuals for each observation.\n",
    "\n",
    "9. **Update Predictions (Iteration 2):**\n",
    "   - Update the overall prediction by multiplying learing rate of the new weak learner's predictions to the previous predictions.\n",
    "\n",
    "10. **Repeat Steps 6-9:**\n",
    "    - Repeat steps 6-9 for a specified number of iterations or until a stopping criterion is met.\n",
    "\n",
    "![image.png](attachment:image.png)\n"
   ]
  }
 ],
 "metadata": {
  "kernelspec": {
   "display_name": "Python 3",
   "language": "python",
   "name": "python3"
  },
  "language_info": {
   "codemirror_mode": {
    "name": "ipython",
    "version": 3
   },
   "file_extension": ".py",
   "mimetype": "text/x-python",
   "name": "python",
   "nbconvert_exporter": "python",
   "pygments_lexer": "ipython3",
   "version": "3.10.11"
  }
 },
 "nbformat": 4,
 "nbformat_minor": 2
}
