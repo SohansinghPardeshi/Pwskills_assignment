{
 "cells": [
  {
   "cell_type": "code",
   "execution_count": 63,
   "id": "fd164d51-0e7b-4fa3-9936-0366005614bc",
   "metadata": {},
   "outputs": [
    {
     "name": "stdout",
     "output_type": "stream",
     "text": [
      "final list is   [1, 2, 3, 4, 44, 55, 66, True, False, 34, 56, 78, 89, 34, 1, 2, 3, 1, 34, 'key2', 55, 67, 78, 89, 4, 45, 22, 61, 34, 56, 'data science', 'machine learning']\n"
     ]
    },
    {
     "data": {
      "text/plain": [
       "('product of all number in list is ', 4134711838987085478833841242112000)"
      ]
     },
     "execution_count": 63,
     "metadata": {},
     "output_type": "execute_result"
    }
   ],
   "source": [
    "list1 =[1,2,3,4,[44,55,66,True],False,(34,56,78,89,34),{1,2,3,3,2,1},{1:34,\"key2\":[55,67,78,89],4:(45,22,61,34)},[56,'data science'],'machine learning']\n",
    "def answer(list1):\n",
    "    a = []\n",
    "    for i in list1:\n",
    "        if type(i) == list or type(i)== tuple or type(i) == set :\n",
    "            for j in i:\n",
    "                a.append(j)\n",
    "        elif type(i) == dict:\n",
    "            for j in i:\n",
    "                a.append(j)\n",
    "                if type(i[j]) == list or type(i[j])== tuple or type(i[j]) == set :\n",
    "                    for k in i[j]:\n",
    "                        a.append(k)\n",
    "                else:\n",
    "                    a.append(i[j])\n",
    "        else:\n",
    "            a.append(i)\n",
    "    product = 1\n",
    "    for i in  a :\n",
    "        if type(i) == int or type(i) == float:\n",
    "            product = product*i\n",
    "    print(\"final list is  \",a)\n",
    "    return \"product of all number in list is \", product\n",
    "answer(list1)"
   ]
  },
  {
   "cell_type": "code",
   "execution_count": null,
   "id": "fdb987ac-ea54-4f36-9ce9-4e9cd6aa6a7c",
   "metadata": {},
   "outputs": [],
   "source": [
    "def encrypt_message(message):\n",
    "    encrypted_message = \"\"\n",
    "    for char in message.lower():\n",
    "        if char.isalpha():\n",
    "            encrypted_char = chr(ord('a') + (ord('z') - ord(char)))\n",
    "            encrypted_message += encrypted_char\n",
    "        elif char == \" \":\n",
    "            encrypted_message += \"$\"\n",
    "        else:\n",
    "            encrypted_message += char\n",
    "    return encrypted_message\n",
    "\n",
    "# Example usage:\n",
    "input_sentence = \"I want to become a Data Scientist.\"\n",
    "encrypted_sentence = encrypt_message(input_sentence)\n",
    "print(encrypted_sentence)  # Output: r dzmw gl yvxnv n wzt hvxlmrwgs.\n"
   ]
  }
 ],
 "metadata": {
  "kernelspec": {
   "display_name": "Python 3 (ipykernel)",
   "language": "python",
   "name": "python3"
  },
  "language_info": {
   "codemirror_mode": {
    "name": "ipython",
    "version": 3
   },
   "file_extension": ".py",
   "mimetype": "text/x-python",
   "name": "python",
   "nbconvert_exporter": "python",
   "pygments_lexer": "ipython3",
   "version": "3.10.8"
  }
 },
 "nbformat": 4,
 "nbformat_minor": 5
}
