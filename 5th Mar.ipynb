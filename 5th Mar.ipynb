{
 "cells": [
  {
   "attachments": {},
   "cell_type": "markdown",
   "metadata": {},
   "source": [
    "Q1. How can you create a Bokeh plot using Python code?"
   ]
  },
  {
   "attachments": {},
   "cell_type": "markdown",
   "metadata": {},
   "source": [
    "To create a Bokeh plot using Python, you need to follow these steps:\n",
    "\n",
    "Install Bokeh:\n",
    "Import the necessary modules:\n",
    "Prepare the data: Prepare the data that you want to visualize. Create lists or NumPy arrays for the x and y coordinates of the plot.\n",
    "\n",
    "Create a figure: Use the figure function to create a new plot. You can specify various attributes such as the plot dimensions, title, axes labels, etc.\n",
    "Add glyphs: Add glyphs to the plot. Glyphs are visual markers such as circles, lines, or bars. You can use the circle, line, or other glyph functions provided by Bokeh to add data to the plot.\n",
    "Specify output: Decide how you want to display or save the plot. You can use either output_file to save the plot as an HTML file or show to display the plot in a new browser window."
   ]
  },
  {
   "attachments": {},
   "cell_type": "markdown",
   "metadata": {},
   "source": [
    "Q2. What are glyphs in Bokeh, and how can you add them to a Bokeh plot? Explain with an example.\n",
    "In Bokeh, glyphs are visual markers that represent the data points in a plot. Glyphs can be used to create various types of plots, such as scatter plots, line plots, bar plots, etc. Bokeh provides a wide range of glyph functions that allow you to add different types of markers to your plots.\n",
    "\n",
    "To add glyphs to a Bokeh plot, you can use the glyph functions provided by Bokeh, such as circle, line, square, triangle, etc. These functions take in the data for the x and y coordinates and other optional parameters to customize the appearance of the glyphs.\n",
    "\n",
    "Here's an example that demonstrates how to add glyphs to a Bokeh plot:"
   ]
  },
  {
   "cell_type": "code",
   "execution_count": 6,
   "metadata": {},
   "outputs": [],
   "source": [
    "from bokeh.plotting import figure, output_file, show\n",
    "\n",
    "# Prepare the data\n",
    "x_data = [1, 2, 3, 4, 5]\n",
    "y_data = [2, 4, 6, 8, 10]\n",
    "\n",
    "# Create a figure\n",
    "plot = figure(title=\"Scatter Plot\", x_axis_label=\"X-axis\", y_axis_label=\"Y-axis\")\n",
    "\n",
    "# Add glyphs\n",
    "plot.circle(x_data, y_data, size=10, color=\"blue\", alpha=0.8)\n",
    "\n",
    "# Specify output\n",
    "# output_file(\"plot.html\")   Save the plot as an HTML file\n",
    "show(plot)  # Display the plot in a new browser window\n"
   ]
  },
  {
   "attachments": {},
   "cell_type": "markdown",
   "metadata": {},
   "source": [
    "Q3. How can you customize the appearance of a Bokeh plot, including the axes, title, and legend?"
   ]
  },
  {
   "cell_type": "code",
   "execution_count": null,
   "metadata": {},
   "outputs": [],
   "source": [
    "# To customize the axis labels, you can use the x_axis_label and y_axis_label attributes of the figure object."
   ]
  },
  {
   "attachments": {},
   "cell_type": "markdown",
   "metadata": {},
   "source": [
    "Q4. What is a Bokeh server, and how can you use it to create interactive plots that can be updated in\n",
    "real time?"
   ]
  },
  {
   "cell_type": "code",
   "execution_count": null,
   "metadata": {},
   "outputs": [],
   "source": [
    "\n",
    "# A Bokeh server is a Python process that allows you to create and serve interactive Bokeh plots, applications, and dashboards. With the Bokeh server, you can build dynamic and responsive web applications that update and respond to user interactions or streaming data in real-time.\n",
    "\n",
    "# Using the Bokeh server, you can define callbacks and event handlers that respond to various user interactions, such as button clicks, slider changes, or mouse movements. These callbacks can update the data, properties, or attributes of the Bokeh objects in your plot, causing the plot to update and reflect the changes dynamically.\n",
    "\n",
    "# To use the Bokeh server and create interactive plots that can be updated in real-time, you need to follow these steps:\n",
    "\n",
    "# Prepare the data: Prepare the data that you want to visualize in your plot. You can use lists, NumPy arrays, or data from external sources.\n",
    "\n",
    "# Create a figure: Use the figure function to create a new plot. Specify the plot attributes, such as title, axes labels, and initial data.\n",
    "\n",
    "# Define callbacks: Define the callbacks that will update the plot in response to user interactions or streaming data. You can use the @bokeh_app.route decorator and functions to define the routes and handlers for different events.\n",
    "\n",
    "# Add glyphs and interactors: Add glyphs to your plot using the glyph functions provided by Bokeh. You can also add interactor widgets like sliders, buttons, or dropdowns to allow user interaction.\n",
    "\n",
    "# Start the Bokeh server: Run the Bokeh server by executing the bokeh serve command in the terminal, pointing it to your Python script that contains the Bokeh code."
   ]
  },
  {
   "attachments": {},
   "cell_type": "markdown",
   "metadata": {},
   "source": [
    "Q5. How can you embed a Bokeh plot into a web page or dashboard using Flask or Django?"
   ]
  },
  {
   "attachments": {},
   "cell_type": "markdown",
   "metadata": {},
   "source": [
    "Create an HTML template (e.g., index.html) that will be rendered by Flask and contain the embedded Bokeh plot.\n",
    "\n",
    "Start the Bokeh server: In a separate terminal window, start the Bokeh server that serves your Bokeh plot or application. "
   ]
  }
 ],
 "metadata": {
  "kernelspec": {
   "display_name": "Python 3",
   "language": "python",
   "name": "python3"
  },
  "language_info": {
   "codemirror_mode": {
    "name": "ipython",
    "version": 3
   },
   "file_extension": ".py",
   "mimetype": "text/x-python",
   "name": "python",
   "nbconvert_exporter": "python",
   "pygments_lexer": "ipython3",
   "version": "3.10.11"
  },
  "orig_nbformat": 4
 },
 "nbformat": 4,
 "nbformat_minor": 2
}
