{
 "cells": [
  {
   "cell_type": "markdown",
   "metadata": {},
   "source": [
    "# Q1. Write a Python function that takes in two arrays of data and calculates the F-value for a variance ratio test. The function should return the F-value and the corresponding p-value for the test."
   ]
  },
  {
   "cell_type": "code",
   "execution_count": 1,
   "metadata": {},
   "outputs": [
    {
     "name": "stdout",
     "output_type": "stream",
     "text": [
      "F-value: 3.6\n",
      "p-value: 0.0943497728424377\n"
     ]
    }
   ],
   "source": [
    "import numpy as np\n",
    "from scipy.stats import f_oneway\n",
    "\n",
    "def variance_ratio_test(arr1, arr2):\n",
    "    \n",
    "    # Convert the input arrays to numpy arrays if they are not already.\n",
    "    arr1 = np.array(arr1)\n",
    "    arr2 = np.array(arr2)\n",
    "\n",
    "    # Perform the variance ratio test (F-test).\n",
    "    F_value, p_value = f_oneway(arr1, arr2)\n",
    "\n",
    "    return F_value, p_value\n",
    "\n",
    "array1 = [1, 2, 3, 4, 5]\n",
    "array2 = [2, 4, 6, 8, 10]\n",
    "\n",
    "F_value, p_value = variance_ratio_test(array1, array2)\n",
    "print(\"F-value:\", F_value)\n",
    "print(\"p-value:\", p_value)"
   ]
  },
  {
   "cell_type": "markdown",
   "metadata": {},
   "source": [
    "# Q2. Given a significance level of 0.05 and the degrees of freedom for the numerator and denominator of an F-distribution, write a Python function that returns the critical F-value for a two-tailed test."
   ]
  },
  {
   "cell_type": "code",
   "execution_count": 3,
   "metadata": {},
   "outputs": [
    {
     "name": "stdout",
     "output_type": "stream",
     "text": [
      "Critical F-value: 3.09839121214078\n"
     ]
    }
   ],
   "source": [
    "from scipy.stats import f\n",
    "\n",
    "def critical_f_value(alpha, dfn, dfd):\n",
    "\n",
    "    # Calculate the critical F-value using the percent point function (ppf) from the F-distribution.\n",
    "    crit_f_value = f.ppf(1 - alpha , dfn, dfd)\n",
    "\n",
    "    return crit_f_value\n",
    "\n",
    "alpha = 0.05\n",
    "dfn = 3\n",
    "dfd = 20\n",
    "\n",
    "crit_f_value = critical_f_value(alpha, dfn, dfd)\n",
    "print(\"Critical F-value:\", crit_f_value)\n"
   ]
  },
  {
   "cell_type": "markdown",
   "metadata": {},
   "source": [
    "# Q3. Write a Python program that generates random samples from two normal distributions with known variances and uses an F-test to determine if the variances are equal. The program should output the F- value, degrees of freedom, and p-value for the test."
   ]
  },
  {
   "cell_type": "code",
   "execution_count": 5,
   "metadata": {},
   "outputs": [
    {
     "name": "stdout",
     "output_type": "stream",
     "text": [
      "F-value: 80.62373657617941\n"
     ]
    }
   ],
   "source": [
    "import numpy as np\n",
    "from scipy.stats import f_oneway\n",
    "\n",
    "def generate_random_samples(mean1, variance1, size1, mean2, variance2, size2):\n",
    "    sample1 = np.random.normal(loc=mean1, scale=np.sqrt(variance1), size=size1)\n",
    "    sample2 = np.random.normal(loc=mean2, scale=np.sqrt(variance2), size=size2)\n",
    "    return sample1, sample2\n",
    "\n",
    "def f_test_for_equal_variances(sample1, sample2):\n",
    "\n",
    "    # Perform the F-test to compare variances.\n",
    "    F_value, p_value = f_oneway(sample1, sample2)\n",
    "\n",
    "    # Degrees of freedom for the numerator and denominator.\n",
    "    dfn = len(sample1) - 1\n",
    "    dfd = len(sample2) - 1\n",
    "\n",
    "    return F_value, dfn, dfd, p_value\n",
    "\n",
    "# Example usage\n",
    "mean1 = 10.0\n",
    "variance1 = 4.0\n",
    "size1 = 100\n",
    "mean2 = 12.0\n",
    "variance2 = 4.0\n",
    "size2 = 100\n",
    "\n",
    "sample1, sample2 = generate_random_samples(mean1, variance1, size1, mean2, variance2, size2)\n",
    "\n",
    "F_value, dfn, dfd, p_value = f_test_for_equal_variances(sample1, sample2)\n",
    "\n",
    "print(\"F-value:\", F_value)\n"
   ]
  },
  {
   "cell_type": "markdown",
   "metadata": {},
   "source": [
    "# Q4.The variances of two populations are known to be 10 and 15. A sample of 12 observations is taken from each population. Conduct an F-test at the 5% significance level to determine if the variances are significantly different."
   ]
  },
  {
   "cell_type": "code",
   "execution_count": 8,
   "metadata": {},
   "outputs": [
    {
     "name": "stdout",
     "output_type": "stream",
     "text": [
      "The variances are not significantly different.\n",
      "The variances are not significantly different.\n"
     ]
    }
   ],
   "source": [
    "# Given data\n",
    "known_variance1 = 10\n",
    "known_variance2 = 15\n",
    "sample_size1 = 12\n",
    "sample_size2 = 12\n",
    "\n",
    "# Calculate the F-statistic\n",
    "F_statistic = max(known_variance1, known_variance2) / min(known_variance1, known_variance2)\n",
    "\n",
    "# Degrees of freedom for the numerator and denominator\n",
    "dfn = sample_size1 - 1\n",
    "dfd = sample_size2 - 1\n",
    "\n",
    "# Set the significance level (alpha)\n",
    "alpha = 0.05\n",
    "\n",
    "# Import the critical F-value function\n",
    "from scipy.stats import f\n",
    "\n",
    "# Calculate the critical F-value\n",
    "critical_F_value = f.ppf(1 - alpha , dfn, dfd)\n",
    "\n",
    "# Perform the F-test\n",
    "if F_statistic > critical_F_value:\n",
    "    print(\"The variances are significantly different.\")\n",
    "else:\n",
    "    print(\"The variances are not significantly different.\")\n",
    "# Given data\n",
    "known_variance1 = 10\n",
    "known_variance2 = 15\n",
    "sample_size1 = 12\n",
    "sample_size2 = 12\n",
    "\n",
    "# Calculate the F-statistic\n",
    "F_statistic = max(known_variance1, known_variance2) / min(known_variance1, known_variance2)\n",
    "\n",
    "# Degrees of freedom for the numerator and denominator\n",
    "dfn = sample_size1 - 1\n",
    "dfd = sample_size2 - 1\n",
    "\n",
    "# Set the significance level (alpha)\n",
    "alpha = 0.05\n",
    "\n",
    "# Import the critical F-value function\n",
    "from scipy.stats import f\n",
    "\n",
    "# Calculate the critical F-value\n",
    "critical_F_value = f.ppf(1 - alpha , dfn, dfd)\n",
    "\n",
    "# Perform the F-test\n",
    "if F_statistic > critical_F_value:\n",
    "    print(\"The variances are significantly different.\")\n",
    "else:\n",
    "    print(\"The variances are not significantly different.\")\n"
   ]
  },
  {
   "cell_type": "markdown",
   "metadata": {},
   "source": [
    "# Q5. A manufacturer claims that the variance of the diameter of a certain product is 0.005. A sample of 25 products is taken, and the sample variance is found to be 0.006. Conduct an F-test at the 1% significance level to determine if the claim is justified."
   ]
  },
  {
   "cell_type": "code",
   "execution_count": 9,
   "metadata": {},
   "outputs": [
    {
     "name": "stdout",
     "output_type": "stream",
     "text": [
      "The claim is justified. The variance is not significantly different from 0.005.\n"
     ]
    }
   ],
   "source": [
    "# Given data\n",
    "claimed_variance = 0.005\n",
    "sample_variance = 0.006\n",
    "sample_size = 25\n",
    "\n",
    "# Calculate the F-statistic\n",
    "F_statistic = sample_variance / claimed_variance\n",
    "\n",
    "# Degrees of freedom for the numerator and denominator\n",
    "dfn = sample_size - 1\n",
    "dfd = dfn\n",
    "\n",
    "# Set the significance level (alpha)\n",
    "alpha = 0.01\n",
    "\n",
    "# Import the critical F-value function\n",
    "from scipy.stats import f\n",
    "\n",
    "# Calculate the critical F-value\n",
    "critical_F_value = f.ppf(1 - alpha , dfn, dfd)\n",
    "\n",
    "# Perform the F-test\n",
    "if F_statistic > critical_F_value or F_statistic < 1/critical_F_value:\n",
    "    print(\"The claim is not justified. The variance is significantly different from 0.005.\")\n",
    "else:\n",
    "    print(\"The claim is justified. The variance is not significantly different from 0.005.\")\n"
   ]
  },
  {
   "cell_type": "markdown",
   "metadata": {},
   "source": [
    "# Q6. Write a Python function that takes in the degrees of freedom for the numerator and denominator of an F-distribution and calculates the mean and variance of the distribution. The function should return the mean and variance as a tuple."
   ]
  },
  {
   "cell_type": "code",
   "execution_count": 10,
   "metadata": {},
   "outputs": [
    {
     "name": "stdout",
     "output_type": "stream",
     "text": [
      "Mean of the F-distribution: 1.1111111111111112\n",
      "Variance of the F-distribution: 1.0802469135802468\n"
     ]
    }
   ],
   "source": [
    "def f_distribution_mean_and_variance(dfn, dfd):\n",
    "\n",
    "    mean = dfd / (dfd - 2)\n",
    "    variance = (2 * (dfd ** 2) * (dfn + dfd - 2)) / (dfn * (dfd - 2) ** 2 * (dfd - 4))\n",
    "    return mean, variance\n",
    "\n",
    "dfn = 3\n",
    "dfd = 20\n",
    "\n",
    "mean, variance = f_distribution_mean_and_variance(dfn, dfd)\n",
    "print(\"Mean of the F-distribution:\", mean)\n",
    "print(\"Variance of the F-distribution:\", variance)\n"
   ]
  },
  {
   "cell_type": "markdown",
   "metadata": {},
   "source": [
    "# Q7. A random sample of 10 measurements is taken from a normal population with unknown variance. The sample variance is found to be 25. Another random sample of 15 measurements is taken from another normal population with unknown variance, and the sample variance is found to be 20. Conduct an F-test at the 10% significance level to determine if the variances are significantly different."
   ]
  },
  {
   "cell_type": "code",
   "execution_count": 11,
   "metadata": {},
   "outputs": [
    {
     "name": "stdout",
     "output_type": "stream",
     "text": [
      "The variances are not significantly different.\n"
     ]
    }
   ],
   "source": [
    "# Given data\n",
    "sample_variance1 = 25\n",
    "sample_size1 = 10\n",
    "\n",
    "sample_variance2 = 20\n",
    "sample_size2 = 15\n",
    "\n",
    "# Calculate the F-statistic\n",
    "F_statistic = max(sample_variance1, sample_variance2) / min(sample_variance1, sample_variance2)\n",
    "\n",
    "# Degrees of freedom for the numerator and denominator\n",
    "dfn = sample_size1 - 1\n",
    "dfd = sample_size2 - 1\n",
    "\n",
    "# Set the significance level (alpha)\n",
    "alpha = 0.10\n",
    "\n",
    "# Import the critical F-value function\n",
    "from scipy.stats import f\n",
    "\n",
    "# Calculate the critical F-value\n",
    "critical_F_value = f.ppf(1 - alpha / 2, dfn, dfd)\n",
    "\n",
    "# Perform the F-test\n",
    "if F_statistic > critical_F_value or F_statistic < 1/critical_F_value:\n",
    "    print(\"The variances are significantly different.\")\n",
    "else:\n",
    "    print(\"The variances are not significantly different.\")\n"
   ]
  },
  {
   "cell_type": "markdown",
   "metadata": {},
   "source": [
    "# Q8. The following data represent the waiting times in minutes at two different restaurants on a Saturday night: Restaurant A: 24, 25, 28, 23, 22, 20, 27; Restaurant B: 31, 33, 35, 30, 32, 36. Conduct an F-test at the 5% significance level to determine if the variances are significantly different."
   ]
  },
  {
   "cell_type": "code",
   "execution_count": 12,
   "metadata": {},
   "outputs": [
    {
     "name": "stdout",
     "output_type": "stream",
     "text": [
      "The variances are not significantly different.\n"
     ]
    }
   ],
   "source": [
    "import numpy as np\n",
    "from scipy.stats import f\n",
    "\n",
    "# Given data\n",
    "waiting_times_restaurant_a = np.array([24, 25, 28, 23, 22, 20, 27])\n",
    "waiting_times_restaurant_b = np.array([31, 33, 35, 30, 32, 36])\n",
    "\n",
    "# Calculate the sample variances\n",
    "sample_variance_a = np.var(waiting_times_restaurant_a, ddof=1)\n",
    "sample_variance_b = np.var(waiting_times_restaurant_b, ddof=1)\n",
    "\n",
    "# Calculate the F-statistic\n",
    "F_statistic = max(sample_variance_a, sample_variance_b) / min(sample_variance_a, sample_variance_b)\n",
    "\n",
    "# Degrees of freedom for the numerator and denominator\n",
    "dfn = len(waiting_times_restaurant_a) - 1\n",
    "dfd = len(waiting_times_restaurant_b) - 1\n",
    "\n",
    "# Set the significance level (alpha)\n",
    "alpha = 0.05\n",
    "\n",
    "# Calculate the critical F-value\n",
    "critical_F_value = f.ppf(1 - alpha / 2, dfn, dfd)\n",
    "\n",
    "# Perform the F-test\n",
    "if F_statistic > critical_F_value or F_statistic < 1 / critical_F_value:\n",
    "    print(\"The variances are significantly different.\")\n",
    "else:\n",
    "    print(\"The variances are not significantly different.\")\n"
   ]
  },
  {
   "cell_type": "markdown",
   "metadata": {},
   "source": [
    "# Q9. The following data represent the test scores of two groups of students: Group A: 80, 85, 90, 92, 87, 83; Group B: 75, 78, 82, 79, 81, 84. Conduct an F-test at the 1% significance level to determine if the variances are significantly different."
   ]
  },
  {
   "cell_type": "code",
   "execution_count": 13,
   "metadata": {},
   "outputs": [
    {
     "name": "stdout",
     "output_type": "stream",
     "text": [
      "The variances are not significantly different.\n"
     ]
    }
   ],
   "source": [
    "import numpy as np\n",
    "from scipy.stats import f\n",
    "\n",
    "# Given data\n",
    "test_scores_group_a = np.array([80, 85, 90, 92, 87, 83])\n",
    "test_scores_group_b = np.array([75, 78, 82, 79, 81, 84])\n",
    "\n",
    "# Calculate the sample variances\n",
    "sample_variance_group_a = np.var(test_scores_group_a, ddof=1)\n",
    "sample_variance_group_b = np.var(test_scores_group_b, ddof=1)\n",
    "\n",
    "# Calculate the F-statistic\n",
    "F_statistic = max(sample_variance_group_a, sample_variance_group_b) / min(sample_variance_group_a, sample_variance_group_b)\n",
    "\n",
    "# Degrees of freedom for the numerator and denominator\n",
    "dfn = len(test_scores_group_a) - 1\n",
    "dfd = len(test_scores_group_b) - 1\n",
    "\n",
    "# Set the significance level (alpha)\n",
    "alpha = 0.01\n",
    "\n",
    "# Calculate the critical F-value\n",
    "critical_F_value = f.ppf(1 - alpha / 2, dfn, dfd)\n",
    "\n",
    "# Perform the F-test\n",
    "if F_statistic > critical_F_value or F_statistic < 1 / critical_F_value:\n",
    "    print(\"The variances are significantly different.\")\n",
    "else:\n",
    "    print(\"The variances are not significantly different.\")\n"
   ]
  }
 ],
 "metadata": {
  "kernelspec": {
   "display_name": "Python 3",
   "language": "python",
   "name": "python3"
  },
  "language_info": {
   "codemirror_mode": {
    "name": "ipython",
    "version": 3
   },
   "file_extension": ".py",
   "mimetype": "text/x-python",
   "name": "python",
   "nbconvert_exporter": "python",
   "pygments_lexer": "ipython3",
   "version": "3.10.11"
  },
  "orig_nbformat": 4
 },
 "nbformat": 4,
 "nbformat_minor": 2
}
