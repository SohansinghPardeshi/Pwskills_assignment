{
 "cells": [
  {
   "cell_type": "markdown",
   "metadata": {},
   "source": [
    "**Q1. Difference between Ordinal Encoding and Label Encoding:**\n",
    "\n",
    "Label Encoding:\n",
    "Label encoding is a method of converting categorical values into numerical values. In label encoding, each unique category is assigned a unique integer label. This is often used when the categorical values don't have any inherent order or ranking. The labels are assigned arbitrarily, and this method is suitable when the categorical variable doesn't have any ordinal relationship.\n",
    "\n",
    "For example, consider a categorical feature \"Color\" with values [\"Red\", \"Green\", \"Blue\"]. After label encoding, the values might become [0, 1, 2].\n",
    "\n",
    "Ordinal Encoding:\n",
    "Ordinal encoding is a variation of label encoding, where the categorical values are assigned numerical labels based on their order or rank. This method is used when the categorical variable has an inherent order, but the differences between the values might not be meaningful. It preserves the ordinal relationship between the categories.\n",
    "\n",
    "For instance, consider a categorical feature \"Size\" with values [\"Small\", \"Medium\", \"Large\"]. After ordinal encoding, the values might become [0, 1, 2] or [1, 2, 3], indicating the increasing order of size.\n",
    "\n",
    "**Q2. Target Guided Ordinal Encoding:**\n",
    "\n",
    "Target Guided Ordinal Encoding is a technique where the labels are encoded based on their relationship with the target variable. The values are ranked according to their impact on the target variable's outcome.\n",
    "\n",
    "Example:\n",
    "Let's say you are working on a credit risk prediction project. You have a categorical variable \"Education Level\" with values [\"High School\", \"Bachelor's\", \"Master's\", \"PhD\"]. You can use target guided ordinal encoding to encode these values based on the default rate. Those with higher default rates might be assigned higher values (indicating higher risk), and those with lower default rates might be assigned lower values (indicating lower risk).\n",
    "\n",
    "**Q3. Covariance:**\n",
    "\n",
    "Covariance measures the degree to which two variables change together. If the covariance is positive, it means the variables tend to increase together; if it's negative, they tend to move in opposite directions; and if it's close to zero, there's little to no linear relationship between them."
   ]
  },
  {
   "cell_type": "markdown",
   "metadata": {},
   "source": [
    "**Q4. For a dataset with the following categorical variables: Color (red, green, blue), Size (small, medium, large), and Material (wood, metal, plastic), perform label encoding using Python's scikit-learn library.Show your code and explain the output.**"
   ]
  },
  {
   "cell_type": "code",
   "execution_count": 99,
   "metadata": {},
   "outputs": [],
   "source": [
    "# Import necessary libraries:\n",
    "from sklearn.preprocessing import LabelEncoder\n",
    "import pandas as pd\n",
    "import numpy as np"
   ]
  },
  {
   "cell_type": "code",
   "execution_count": 86,
   "metadata": {},
   "outputs": [],
   "source": [
    "# Sample data:\n",
    "data = {\n",
    "    'Color': ['red', 'green', 'blue', 'green', 'red'],\n",
    "    'Size': ['small', 'medium', 'large', 'medium', 'small'],\n",
    "    'Material': ['wood', 'metal', 'plastic', 'wood', 'metal']\n",
    "}\n",
    "df = pd.DataFrame(data,columns= ['Color','Size','Material'])"
   ]
  },
  {
   "cell_type": "code",
   "execution_count": 87,
   "metadata": {},
   "outputs": [],
   "source": [
    "# Initialize the LabelEncoder:\n",
    "encoder = LabelEncoder()"
   ]
  },
  {
   "cell_type": "code",
   "execution_count": 88,
   "metadata": {},
   "outputs": [],
   "source": [
    "# Encode categorical columns and create DataFrames for encoded columns with column names\n",
    "\n",
    "c1 = pd.DataFrame(encoder.fit_transform(df['Color']),columns = ['Color'],)\n",
    "c2 = pd.DataFrame(encoder.fit_transform(df['Size']),columns = ['Size'],)\n",
    "c3 = pd.DataFrame(encoder.fit_transform(df['Material']),columns = ['Material'],)"
   ]
  },
  {
   "cell_type": "code",
   "execution_count": 89,
   "metadata": {},
   "outputs": [],
   "source": [
    "# Concatenate the encoded DataFrames to the original DataFrame:\n",
    "df_encoded = pd.concat([c1,c2,c3],axis = 1)"
   ]
  },
  {
   "cell_type": "code",
   "execution_count": 90,
   "metadata": {},
   "outputs": [
    {
     "data": {
      "text/html": [
       "<div>\n",
       "<style scoped>\n",
       "    .dataframe tbody tr th:only-of-type {\n",
       "        vertical-align: middle;\n",
       "    }\n",
       "\n",
       "    .dataframe tbody tr th {\n",
       "        vertical-align: top;\n",
       "    }\n",
       "\n",
       "    .dataframe thead th {\n",
       "        text-align: right;\n",
       "    }\n",
       "</style>\n",
       "<table border=\"1\" class=\"dataframe\">\n",
       "  <thead>\n",
       "    <tr style=\"text-align: right;\">\n",
       "      <th></th>\n",
       "      <th>Color</th>\n",
       "      <th>Size</th>\n",
       "      <th>Material</th>\n",
       "    </tr>\n",
       "  </thead>\n",
       "  <tbody>\n",
       "    <tr>\n",
       "      <th>0</th>\n",
       "      <td>2</td>\n",
       "      <td>2</td>\n",
       "      <td>2</td>\n",
       "    </tr>\n",
       "    <tr>\n",
       "      <th>1</th>\n",
       "      <td>1</td>\n",
       "      <td>1</td>\n",
       "      <td>0</td>\n",
       "    </tr>\n",
       "    <tr>\n",
       "      <th>2</th>\n",
       "      <td>0</td>\n",
       "      <td>0</td>\n",
       "      <td>1</td>\n",
       "    </tr>\n",
       "    <tr>\n",
       "      <th>3</th>\n",
       "      <td>1</td>\n",
       "      <td>1</td>\n",
       "      <td>2</td>\n",
       "    </tr>\n",
       "    <tr>\n",
       "      <th>4</th>\n",
       "      <td>2</td>\n",
       "      <td>2</td>\n",
       "      <td>0</td>\n",
       "    </tr>\n",
       "  </tbody>\n",
       "</table>\n",
       "</div>"
      ],
      "text/plain": [
       "   Color  Size  Material\n",
       "0      2     2         2\n",
       "1      1     1         0\n",
       "2      0     0         1\n",
       "3      1     1         2\n",
       "4      2     2         0"
      ]
     },
     "execution_count": 90,
     "metadata": {},
     "output_type": "execute_result"
    }
   ],
   "source": [
    "# Print the encoded DataFrame:\n",
    "df_encoded.head()"
   ]
  },
  {
   "cell_type": "markdown",
   "metadata": {},
   "source": [
    "**Q5. Calculate the covariance matrix for the following variables in a dataset: Age, Income, and Education level. Interpret the results.**\n",
    "\n"
   ]
  },
  {
   "cell_type": "code",
   "execution_count": 91,
   "metadata": {},
   "outputs": [
    {
     "name": "stdout",
     "output_type": "stream",
     "text": [
      "Covariance Matrix:\n",
      "[[6.250e+01 1.625e+05 7.500e+00]\n",
      " [1.625e+05 4.250e+08 1.875e+04]\n",
      " [7.500e+00 1.875e+04 1.300e+00]]\n"
     ]
    }
   ],
   "source": [
    "import numpy as np\n",
    "\n",
    "# Sample data (replace with your actual data)\n",
    "age = [25, 30, 35, 40, 45]\n",
    "income = [50000, 60000, 75000, 90000, 100000]\n",
    "education_level = [1, 2, 3, 2, 4]  # Assuming encoded levels: 1=High School, 2=Bachelor's, 3=Master's, 4=PhD\n",
    "\n",
    "# Stack the variables into a single array\n",
    "data = np.array([age, income, education_level])\n",
    "\n",
    "# Calculate the covariance matrix\n",
    "cov_matrix = np.cov(data)\n",
    "\n",
    "print(\"Covariance Matrix:\")\n",
    "print(cov_matrix)\n"
   ]
  },
  {
   "cell_type": "markdown",
   "metadata": {},
   "source": [
    "**Q6. Encoding Methods for Categorical Variables:**\n",
    "\n",
    "For each categorical variable, the choice of encoding method depends on the nature of the variable and its relationship with the target or other variables. Here's how you might choose encoding methods for the given variables:\n",
    "\n",
    "Gender: Since \"Gender\" is a nominal categorical variable with only two unique values (Male and Female), you can use binary encoding or one-hot encoding. Binary encoding assigns 0 or 1 to the categories, while one-hot encoding creates two binary columns, each representing one category.\n",
    "\n",
    "Education Level: \"Education Level\" is an ordinal categorical variable with a clear order (\"High School\" < \"Bachelor's\" < \"Master's\" < \"PhD\"). Ordinal encoding would be appropriate here to preserve the order of education levels.\n",
    "\n",
    "Employment Status: Target guide ordinal encoding .\"Education Level\" is an ordinal categorical variable"
   ]
  },
  {
   "cell_type": "markdown",
   "metadata": {},
   "source": []
  },
  {
   "cell_type": "code",
   "execution_count": 106,
   "metadata": {},
   "outputs": [
    {
     "name": "stdout",
     "output_type": "stream",
     "text": [
      "[2 0 1 2 1]\n",
      "[0 3 1 2 0]\n"
     ]
    }
   ],
   "source": [
    "# Hypothetical sample data \n",
    "temperature = [25, 28, 22, 30, 27]\n",
    "humidity = [60, 70, 75, 65, 80]\n",
    "weather_condition = ['Sunny', 'Cloudy', 'Rainy', 'Sunny', 'Rainy']  \n",
    "wind_direction = ['East', 'West', 'North', 'South', 'East'] \n",
    "\n",
    "w_c = encoder.fit_transform(weather_condition)\n",
    "w_d = encoder.fit_transform(wind_direction)\n",
    "\n",
    "print(w_c)\n",
    "print(w_d)"
   ]
  },
  {
   "cell_type": "code",
   "execution_count": 107,
   "metadata": {},
   "outputs": [
    {
     "name": "stdout",
     "output_type": "stream",
     "text": [
      "Covariance Matrix (Continuous Variables):\n",
      "[[ 9.3 -5. ]\n",
      " [-5.  62.5]]\n",
      "\n",
      "Covariance Matrix (Categorical Variables):\n",
      "[[ 0.7  -0.55]\n",
      " [-0.55  1.7 ]]\n"
     ]
    }
   ],
   "source": [
    "# Stack the continuous variables into a single array\n",
    "continuous_data = np.array([temperature, humidity])\n",
    "\n",
    "# Stack the categorical variables into a single array\n",
    "categorical_data = np.array([w_c, w_d])\n",
    "\n",
    "# Calculate the covariance matrix for continuous variables\n",
    "cov_continuous = np.cov(continuous_data)\n",
    "\n",
    "# Calculate the covariance matrix for categorical variables\n",
    "cov_categorical = np.cov(categorical_data)\n",
    "\n",
    "print(\"Covariance Matrix (Continuous Variables):\")\n",
    "print(cov_continuous)\n",
    "print(\"\\nCovariance Matrix (Categorical Variables):\")\n",
    "print(cov_categorical)\n"
   ]
  }
 ],
 "metadata": {
  "kernelspec": {
   "display_name": "Python 3",
   "language": "python",
   "name": "python3"
  },
  "language_info": {
   "codemirror_mode": {
    "name": "ipython",
    "version": 3
   },
   "file_extension": ".py",
   "mimetype": "text/x-python",
   "name": "python",
   "nbconvert_exporter": "python",
   "pygments_lexer": "ipython3",
   "version": "3.10.11"
  },
  "orig_nbformat": 4
 },
 "nbformat": 4,
 "nbformat_minor": 2
}
