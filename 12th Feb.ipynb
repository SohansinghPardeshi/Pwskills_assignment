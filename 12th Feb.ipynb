{
 "cells": [
  {
   "cell_type": "markdown",
   "id": "7885a395-aa70-407b-a73f-a9d16cfb65eb",
   "metadata": {},
   "source": [
    "Q1.what is an exception in python ? what is difference between exception and syntax errors?\n",
    "\n",
    "-->In Python, an exception is an error that occurs during the execution of a program. When a Python script encounters an error, it raises an exception, which interrupts the normal flow of execution and jumps to the nearest exception handler that can handle that exception.\n",
    "\n",
    "Syntax errors, on the other hand, are errors that occur when the Python interpreter cannot understand the code due to a violation of the language syntax rules. These errors prevent the program from running at all, and they are detected by the Python interpreter at compile-time.\n",
    "\n",
    "The main difference between exceptions and syntax errors is that exceptions are runtime errors that occur during the execution of the program, while syntax errors are detected by the Python interpreter before the program even starts running. In other words, syntax errors are detected during the compilation of the code, while exceptions occur during the execution of the code."
   ]
  },
  {
   "cell_type": "markdown",
   "id": "69fec0c1-5700-43d2-8fd3-3ca80e678dd2",
   "metadata": {},
   "source": [
    "Q2.What happens when an exception is not handles? Explain with an example?\n",
    "\n",
    "-->When an exception is not handled in Python, it results in an error message being displayed, and the program terminates abruptly. This means that any remaining code that was supposed to be executed after the exception occurred will not run."
   ]
  },
  {
   "cell_type": "code",
   "execution_count": 2,
   "id": "bf13579f-fb99-4482-9d42-57d84ffb3ddf",
   "metadata": {},
   "outputs": [
    {
     "ename": "ZeroDivisionError",
     "evalue": "division by zero",
     "output_type": "error",
     "traceback": [
      "\u001b[0;31m---------------------------------------------------------------------------\u001b[0m",
      "\u001b[0;31mZeroDivisionError\u001b[0m                         Traceback (most recent call last)",
      "Cell \u001b[0;32mIn[2], line 5\u001b[0m\n\u001b[1;32m      3\u001b[0m a\u001b[38;5;241m=\u001b[39m\u001b[38;5;241m0\u001b[39m\n\u001b[1;32m      4\u001b[0m b\u001b[38;5;241m=\u001b[39m\u001b[38;5;241m1\u001b[39m\n\u001b[0;32m----> 5\u001b[0m \u001b[43mb\u001b[49m\u001b[38;5;241;43m/\u001b[39;49m\u001b[43ma\u001b[49m\n",
      "\u001b[0;31mZeroDivisionError\u001b[0m: division by zero"
     ]
    }
   ],
   "source": [
    "# Here is an example that demonstrates what happens when an exception is not handled:\n",
    "# Division by zero - an example of an exception\n",
    "a=0\n",
    "b=1\n",
    "b/a"
   ]
  },
  {
   "cell_type": "markdown",
   "id": "3d4935dc-bc13-4bea-bfed-6c23304bef44",
   "metadata": {},
   "source": [
    "Q2.Which Python statements are used to catch and handle  exceptions? Explain with an example"
   ]
  },
  {
   "cell_type": "markdown",
   "id": "e6023988-d3eb-4834-86e0-98270b23e02c",
   "metadata": {},
   "source": [
    "The try...except block is used to handle exceptions in Python."
   ]
  },
  {
   "cell_type": "code",
   "execution_count": 6,
   "id": "db01a134-52a2-4d55-b274-fbfeb8c71e43",
   "metadata": {},
   "outputs": [
    {
     "name": "stdout",
     "output_type": "stream",
     "text": [
      "division by zero  has occured\n",
      "execption handling has been implemented\n"
     ]
    }
   ],
   "source": [
    "try:\n",
    "    1/0\n",
    "except ZeroDivisionError as e:\n",
    "    print(e,\" has occured\")\n",
    "except IndexError:\n",
    "    print(\"Index Out of Bound.\")\n",
    "finally:\n",
    "    print(\"execption handling has been implemented\")\n",
    "    \n",
    "    "
   ]
  },
  {
   "cell_type": "markdown",
   "id": "5e870a39-5bd6-4e00-98ae-b9acb49c9e53",
   "metadata": {},
   "source": [
    "Q4. Explain withan example:\n",
    "try and else \n",
    "finally \n",
    "raise"
   ]
  },
  {
   "cell_type": "code",
   "execution_count": 14,
   "id": "57b16836-a041-4d2e-9bf2-ed2b827a8d48",
   "metadata": {},
   "outputs": [
    {
     "ename": "ValueError",
     "evalue": "Error: x cannot be negative",
     "output_type": "error",
     "traceback": [
      "\u001b[0;31m---------------------------------------------------------------------------\u001b[0m",
      "\u001b[0;31mValueError\u001b[0m                                Traceback (most recent call last)",
      "Cell \u001b[0;32mIn[14], line 4\u001b[0m\n\u001b[1;32m      2\u001b[0m x \u001b[38;5;241m=\u001b[39m \u001b[38;5;241m-\u001b[39m\u001b[38;5;241m1\u001b[39m\n\u001b[1;32m      3\u001b[0m \u001b[38;5;28;01mif\u001b[39;00m x \u001b[38;5;241m<\u001b[39m \u001b[38;5;241m0\u001b[39m:\n\u001b[0;32m----> 4\u001b[0m     \u001b[38;5;28;01mraise\u001b[39;00m \u001b[38;5;167;01mValueError\u001b[39;00m(\u001b[38;5;124m\"\u001b[39m\u001b[38;5;124mError: x cannot be negative\u001b[39m\u001b[38;5;124m\"\u001b[39m)\n",
      "\u001b[0;31mValueError\u001b[0m: Error: x cannot be negative"
     ]
    }
   ],
   "source": [
    "# The raise statement is used to explicitly raise an exception\n",
    "x = -1\n",
    "if x < 0:\n",
    "    raise ValueError(\"Error: x cannot be negative\")\n"
   ]
  },
  {
   "cell_type": "code",
   "execution_count": 18,
   "id": "8560e664-3b70-4a97-a9f2-82aefdf0d401",
   "metadata": {},
   "outputs": [
    {
     "name": "stdout",
     "output_type": "stream",
     "text": [
      "Error: Cannot divide by zero\n",
      "Finally block executed\n"
     ]
    }
   ],
   "source": [
    "# The finally block is executed regardless of whether an exception was raised or not in the try block. It follows all except and else blocks and is also optional.\n",
    "\n",
    "try:\n",
    "    x = 10 / 0\n",
    "except ZeroDivisionError:\n",
    "    print(\"Error: Cannot divide by zero\")\n",
    "finally:\n",
    "    print(\"Finally block executed\")\n"
   ]
  },
  {
   "cell_type": "code",
   "execution_count": 19,
   "id": "35ff2420-6c45-40a2-a243-6979a94eb740",
   "metadata": {},
   "outputs": [
    {
     "name": "stdout",
     "output_type": "stream",
     "text": [
      "No exception occurred\n"
     ]
    }
   ],
   "source": [
    "# The else block is executed if no exception is raised in the try block. It follows all except blocks and is optional. Here's an example:\n",
    "try:\n",
    "    x = 10 / 2\n",
    "except ZeroDivisionError:\n",
    "    print(\"Error: Cannot divide by zero\")\n",
    "else:\n",
    "    print(\"No exception occurred\")\n"
   ]
  },
  {
   "cell_type": "code",
   "execution_count": 20,
   "id": "6ba7fbc5-ed3e-42ef-a61a-256ace19170f",
   "metadata": {},
   "outputs": [
    {
     "name": "stdout",
     "output_type": "stream",
     "text": [
      "Index Out of Bound.\n",
      "execption handling has been implemented\n"
     ]
    }
   ],
   "source": [
    "try:\n",
    "    L=[1,2,3,4,5,6,\"S\",\"o\",\"h\",\"a\",\"n\"]\n",
    "    L[99]\n",
    "except ZeroDivisionError as e:\n",
    "    print(e,\" has occured\")\n",
    "except IndexError:\n",
    "    print(\"Index Out of Bound.\")\n",
    "except Exception as e:\n",
    "    print(e,\" has occured\")\n",
    "else:\n",
    "    print(\"no exception occured\")\n",
    "finally:\n",
    "    print(\"execption handling has been implemented\")"
   ]
  },
  {
   "cell_type": "markdown",
   "id": "85a01b01-78e3-4f05-a5f2-575a5211d332",
   "metadata": {},
   "source": [
    "Q5. What are Custom Exceptions in python? Why do we need Custom Exceptions? Explain with an example.\n",
    "\n",
    "Custom exceptions in Python are user-defined exceptions that are created by the programmer to represent specific error conditions in their code. These exceptions can be raised and caught just like built-in exceptions in Python.\n",
    "\n",
    "We need custom exceptions in Python when we want to create an exception that is specific to our program or application. By creating our own custom exceptions, we can provide more meaningful error messages to the users and make it easier to debug our code."
   ]
  },
  {
   "cell_type": "code",
   "execution_count": 4,
   "id": "37823189-fb6b-441f-a3d9-01833351ca66",
   "metadata": {},
   "outputs": [],
   "source": [
    "class validate_marks(Exception):\n",
    "    def __init__(self,msg):\n",
    "        self.msg=msg\n",
    "\n",
    "def Validate_Marks(marks):\n",
    "    if marks>100:\n",
    "        raise validate_marks(\"The person is lying\")\n",
    "    elif marks <=0:\n",
    "        raise validate_marks(\"The person is lying\")\n",
    "    elif marks<0:\n",
    "        print(\"Maybe true\")"
   ]
  },
  {
   "cell_type": "code",
   "execution_count": 5,
   "id": "24993c81-36f6-406c-8796-4f62d7ec6e58",
   "metadata": {},
   "outputs": [
    {
     "name": "stdin",
     "output_type": "stream",
     "text": [
      "enter your marks 0\n"
     ]
    },
    {
     "name": "stdout",
     "output_type": "stream",
     "text": [
      "The person is lying\n"
     ]
    }
   ],
   "source": [
    "try:\n",
    "    Marks=int(input(\"enter your marks\"))\n",
    "    Validate_Marks(Marks)\n",
    "except validate_marks as e :\n",
    "    print(e)"
   ]
  },
  {
   "cell_type": "code",
   "execution_count": 16,
   "id": "8d2ae4b5-f1b3-4574-83b7-fcbe7bec2f7e",
   "metadata": {},
   "outputs": [],
   "source": [
    "# create an custom exception class . Use this class to handle exception.\n",
    "\n",
    "class InvalidAgeException(Exception):\n",
    "    pass\n",
    "\n",
    "def calculate_discount(age):\n",
    "    if age < 0 or age > 120:\n",
    "        raise InvalidAgeException(\"Error: Invalid age provided\")\n",
    "    elif age < 18:\n",
    "        return 0.1\n",
    "    elif age >= 65:\n",
    "        return 0.2\n",
    "    else:\n",
    "        return 0.0"
   ]
  },
  {
   "cell_type": "code",
   "execution_count": 18,
   "id": "7faac05f-c6b6-4503-bb85-7be25dd8fb8e",
   "metadata": {},
   "outputs": [
    {
     "name": "stdin",
     "output_type": "stream",
     "text": [
      "Enter your age:  19\n"
     ]
    },
    {
     "name": "stdout",
     "output_type": "stream",
     "text": [
      "Discount: 0.0\n"
     ]
    }
   ],
   "source": [
    "try:\n",
    "    age = int(input(\"Enter your age: \"))\n",
    "    discount = calculate_discount(age)\n",
    "    print(\"Discount:\", discount)\n",
    "except InvalidAgeException as e:\n",
    "    print(e)"
   ]
  }
 ],
 "metadata": {
  "kernelspec": {
   "display_name": "Python 3 (ipykernel)",
   "language": "python",
   "name": "python3"
  },
  "language_info": {
   "codemirror_mode": {
    "name": "ipython",
    "version": 3
   },
   "file_extension": ".py",
   "mimetype": "text/x-python",
   "name": "python",
   "nbconvert_exporter": "python",
   "pygments_lexer": "ipython3",
   "version": "3.10.8"
  }
 },
 "nbformat": 4,
 "nbformat_minor": 5
}
