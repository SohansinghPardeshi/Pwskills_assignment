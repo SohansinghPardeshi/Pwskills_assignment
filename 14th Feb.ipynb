{
 "cells": [
  {
   "cell_type": "markdown",
   "id": "cd1df389-b5ca-4857-9280-8b00d9b57cb3",
   "metadata": {},
   "source": [
    " Q1.What is multithreading in python? why is it used? Name the module used to handle threads in python?\n",
    " -->\n",
    "Multithreading in Python refers to the process of creating and executing multiple threads concurrently within a single program. Each thread runs independently of the others and can perform a specific task or set of tasks simultaneously with other threads.\n",
    "Multithreading is used in Python for various reasons, such as to improve the overall performance of a program, to make efficient use of available resources, to improve the responsiveness of a program, and to perform multiple tasks simultaneously.\n",
    "The threading module is used to handle threads in Python."
   ]
  },
  {
   "cell_type": "markdown",
   "id": "4644afdf-ea6d-43b0-a340-c0e746a8a5f0",
   "metadata": {},
   "source": [
    "Q2.Why threading module used? Write the use of the following functions\n",
    "1.activeCount\n",
    "2.currentThread\n",
    "3.enumerate"
   ]
  },
  {
   "cell_type": "raw",
   "id": "d1d42cbc-c2de-4ba2-b11f-b8e759b56f26",
   "metadata": {},
   "source": [
    "The threading module in Python is used to create and manage threads within a program. Threads allow multiple parts of a program to run concurrently, which can improve performance and responsiveness.\n",
    "\n",
    "Here are some use cases for the threading module and the functions you mentioned:\n",
    "\n",
    "activeCount(): This function returns the number of active thread objects in the current program. It can be useful for monitoring the number of threads running in a program and for debugging purposes.\n",
    "\n",
    "currentThread(): This function returns a reference to the current thread object, which can be used to get information about the currently executing thread. For example, you can use this function to get the name of the current thread, its ID, or its daemon status.\n",
    "\n",
    "enumerate(): This function returns a list of all active thread objects in the current program. It can be useful for debugging purposes or for checking the status of all threads in a program."
   ]
  },
  {
   "cell_type": "markdown",
   "id": "35af96b3-d963-49bb-a582-5830d4ef6f39",
   "metadata": {},
   "source": [
    "Q3. Explain the following functions\n",
    "run\n",
    "start\n",
    "join\n",
    "isAlive)"
   ]
  },
  {
   "cell_type": "markdown",
   "id": "9c4bb17c-40e7-43f7-8da2-ccc9e9631a64",
   "metadata": {},
   "source": [
    "In Python's threading module, the following functions are commonly used to manage threads:\n",
    "\n",
    "start(): This method starts a new thread by calling the run() method in a separate thread of execution. The start() method returns immediately and the newly created thread begins executing in the background.\n",
    "\n",
    "run(): This method is the entry point for a new thread of execution. When the start() method is called, it creates a new thread and calls the run() method in that thread.\n",
    "\n",
    "join([timeout]): This method blocks the calling thread until the thread on which it is called is terminated. If the timeout argument is specified, the calling thread will wait at most timeout seconds for the thread to terminate. If the thread has not terminated within the specified timeout, the join() method returns anyway.\n",
    "\n",
    "isAlive(): This method returns True if the thread is currently executing, and False otherwise."
   ]
  },
  {
   "cell_type": "code",
   "execution_count": 15,
   "id": "067df2f4-703a-4081-8aa6-e7d3774b3b20",
   "metadata": {},
   "outputs": [
    {
     "name": "stdout",
     "output_type": "stream",
     "text": [
      "0\n",
      "1\n",
      "4\n",
      "9\n",
      "16\n",
      "25\n",
      "36\n",
      "49\n",
      "64\n",
      "81\n"
     ]
    }
   ],
   "source": [
    "# Q4 . Write a python program to create two threads. Thread one must print the list of squares and thread\n",
    "# two must print the list of cubes\n",
    "import threading\n",
    "import time\n",
    "\n",
    "def sq(i):\n",
    "    print(i**2)\n",
    "\n",
    "\n",
    "thread = [threading.Thread(target=sq , args=(i,) )for i in range(10)]\n",
    "\n",
    "for t in thread:\n",
    "    t.start()"
   ]
  },
  {
   "cell_type": "code",
   "execution_count": 17,
   "id": "6262514d-9461-47d6-8e23-444a64a9b7f9",
   "metadata": {},
   "outputs": [
    {
     "name": "stdout",
     "output_type": "stream",
     "text": [
      "0\n",
      "1\n",
      "8\n",
      "27\n",
      "64\n",
      "125\n",
      "216\n",
      "343\n",
      "512\n",
      "729\n"
     ]
    }
   ],
   "source": [
    "def cu(i):\n",
    "    print(i**3)\n",
    "\n",
    "\n",
    "thread = [threading.Thread(target=cu , args=(i,) )for i in range(10)]\n",
    "\n",
    "for t in thread:\n",
    "    t.start()"
   ]
  },
  {
   "cell_type": "markdown",
   "id": "2aced0fb-9fcc-4d32-8b03-4e384251c872",
   "metadata": {},
   "source": [
    "# Q5.State advantages and disadvantages of multithreading\n",
    "\n",
    "Multithreading has several advantages and disadvantages:\n",
    "\n",
    "Advantages:\n",
    "\n",
    "Improved performance: Multithreading can improve the performance of a program by allowing it to perform multiple tasks concurrently. This can lead to faster execution times and more efficient use of system resources.\n",
    "\n",
    "Responsiveness: Multithreading can improve the responsiveness of a program by allowing it to continue executing while waiting for I/O or other operations to complete.\n",
    "\n",
    "Simplified programming: Multithreading can simplify programming by allowing different parts of a program to run in parallel, without requiring complex coordination between them.\n",
    "\n",
    "Resource sharing: Multithreading can enable multiple threads to share resources such as memory, files, and network connections, which can reduce overall resource usage and improve scalability.\n",
    "\n",
    "Disadvantages:\n",
    "\n",
    "Complexity: Multithreading can introduce complexity to a program, particularly in terms of managing shared resources and ensuring thread safety. This can make it harder to write and debug multithreaded programs.\n",
    "\n",
    "Synchronization overhead: Multithreading requires synchronization mechanisms such as locks and semaphores to ensure correct behavior, which can add overhead and reduce performance."
   ]
  },
  {
   "cell_type": "markdown",
   "id": "d8a997e3-4fff-4717-9cad-cab1a4d4c743",
   "metadata": {},
   "source": [
    "# Q6. Explain deadlocks and race conditions.\n",
    "Deadlocks and race conditions are two common types of concurrency issues that can occur in multithreaded programs.\n",
    "\n",
    "A deadlock occurs when two or more threads are blocked and waiting for each other to release resources that they hold. For example, consider two threads that each hold a lock on a different resource that the other thread needs. If both threads try to acquire the lock on the other resource at the same time, they will become deadlocked and the program will hang. Deadlocks can be difficult to diagnose and fix, and can lead to poor performance and reduced reliability.\n",
    "\n",
    "A race condition occurs when the behavior of a program depends on the relative timing of different threads, and the outcome is non-deterministic or unexpected. For example, consider two threads that both read and write to a shared variable without any synchronization. Depending on the order in which the threads execute, the final value of the variable may be different from what was expected. Race conditions can be difficult to diagnose and fix, and can lead to incorrect behavior and security vulnerabilities.\n",
    "\n",
    "Both deadlocks and race conditions are examples of concurrency issues that can arise in multithreaded programs. To avoid these issues, it is important to use appropriate synchronization mechanisms such as locks, semaphores, and condition variables to ensure that threads access shared resources in a coordinated and safe manner. It is also important to design programs to avoid circular dependencies on resources that can lead to deadlocks. Additionally, tools such as static analysis and runtime checking can help identify potential concurrency issues before they manifest as errors."
   ]
  }
 ],
 "metadata": {
  "kernelspec": {
   "display_name": "Python 3 (ipykernel)",
   "language": "python",
   "name": "python3"
  },
  "language_info": {
   "codemirror_mode": {
    "name": "ipython",
    "version": 3
   },
   "file_extension": ".py",
   "mimetype": "text/x-python",
   "name": "python",
   "nbconvert_exporter": "python",
   "pygments_lexer": "ipython3",
   "version": "3.10.8"
  }
 },
 "nbformat": 4,
 "nbformat_minor": 5
}
