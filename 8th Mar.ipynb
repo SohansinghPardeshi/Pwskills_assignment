{
 "cells": [
  {
   "cell_type": "markdown",
   "metadata": {},
   "source": [
    "# Q1. What is the Probability density function?\n",
    "\n",
    "The probability density function (PDF) is a fundamental concept in probability theory and statistics. It describes the probability distribution of a continuous random variable. \n",
    "\n",
    "For a given continuous random variable X, the PDF, denoted as f(x), represents the relative likelihood of X taking on a specific value or falling within a particular range of values. The PDF is defined such that the area under the curve over any interval represents the probability of X falling within that interval.\n",
    "\n",
    "Mathematically, the PDF is typically denoted as f(x) and satisfies the following properties:\n",
    "\n",
    "1. Non-negativity: f(x) ≥ 0 for all x.\n",
    "2. Normalization: The integral of f(x) over the entire range of X is equal to 1, which signifies that the total probability is 1.\n",
    "   ∫[a, b] f(x) dx = 1, where a and b represent the range of X.\n",
    "3. Probability interpretation: The probability that X lies within a specific interval [a, b] is given by the integral of the PDF over that interval.\n",
    "   P(a ≤ X ≤ b) = ∫[a, b] f(x) dx.\n",
    "\n",
    "The shape of the PDF curve can vary depending on the underlying probability distribution. Common probability distributions, such as the normal distribution, exponential distribution, and uniform distribution, each have their own specific PDF formulas.\n",
    "\n",
    "The PDF is an essential tool for analyzing and understanding the characteristics of continuous random variables, including determining the likelihood of specific outcomes and calculating various statistical measures like expected values, variances, and quantiles."
   ]
  },
  {
   "cell_type": "markdown",
   "metadata": {},
   "source": [
    "# Q2. What are the types of Probability distribution?\n",
    "\n",
    "1. Bernoli Distribution\n",
    "2. Binomial Distribution\n",
    "3. Poission Distribution \n",
    "4. Normal Distribution"
   ]
  },
  {
   "cell_type": "markdown",
   "metadata": {},
   "source": [
    "# Q3. Write a Python function to calculate the probability density function of a normal distribution with given mean and standard deviation at a given point."
   ]
  },
  {
   "cell_type": "code",
   "execution_count": 20,
   "metadata": {},
   "outputs": [
    {
     "data": {
      "text/plain": [
       "<seaborn.axisgrid.FacetGrid at 0x198992338e0>"
      ]
     },
     "execution_count": 20,
     "metadata": {},
     "output_type": "execute_result"
    },
    {
     "data": {
      "image/png": "[encoded data removed]",
      "text/plain": [
       "<Figure size 360x360 with 1 Axes>"
      ]
     },
     "metadata": {
      "needs_background": "light"
     },
     "output_type": "display_data"
    }
   ],
   "source": [
    "import seaborn as sns \n",
    "df = sns.load_dataset('iris')\n",
    "sns.displot(data = df , x = 'sepal_width' , kde = 3)"
   ]
  },
  {
   "cell_type": "markdown",
   "metadata": {},
   "source": [
    "# Q4. What are the properties of Binomial distribution? Give two examples of events where binomial distribution can be applied.\n",
    "\n",
    "The binomial distribution is a discrete probability distribution that models the number of successes in a fixed number of independent Bernoulli trials. It is characterized by two parameters: the number of trials (n) and the probability of success (p) for each trial.\n",
    "\n",
    "Properties of the binomial distribution:\n",
    "\n",
    "1. Fixed number of trials: The binomial distribution assumes a fixed number of trials, denoted by 'n'. Each trial is independent and has two possible outcomes: success or failure.\n",
    "\n",
    "2. Independent trials: The trials in a binomial distribution are assumed to be independent, meaning the outcome of one trial does not influence the outcome of another trial.\n",
    "\n",
    "3. Probability of success: Each trial has a probability of success, denoted by 'p'. The probability of failure is given by 1 - p.\n",
    "\n",
    "4. Discrete outcomes: The binomial distribution deals with discrete random variables, representing the number of successes in 'n' trials.\n",
    "\n",
    "5. Fixed probability of success: The probability of success, 'p', remains constant for each trial. It does not change from trial to trial.\n",
    "\n",
    "Examples of events where the binomial distribution can be applied:\n",
    "\n",
    "1. Coin Flips: Consider flipping a fair coin multiple times. Each flip can be considered a Bernoulli trial, where heads can be considered a success and tails a failure. The number of heads obtained in a fixed number of coin flips follows a binomial distribution.\n",
    "\n",
    "2. Manufacturing Defects: In manufacturing, a quality control inspection may involve examining a batch of items and determining whether each item is defective or non-defective. If the probability of an item being defective remains constant, the number of defective items in a fixed batch size can be modeled using a binomial distribution.\n",
    "\n",
    "In both these examples, the binomial distribution helps in understanding the probabilities associated with different numbers of successes (e.g., heads, defective items) occurring in a fixed number of trials (e.g., coin flips, manufacturing inspections)."
   ]
  },
  {
   "cell_type": "markdown",
   "metadata": {},
   "source": [
    "# Q5 . Generate a random sample of size 1000 from a binomial distribution with probability of success 0.4 and plot a histogram of the results using matplotlib."
   ]
  },
  {
   "cell_type": "code",
   "execution_count": 21,
   "metadata": {},
   "outputs": [
    {
     "data": {
      "text/plain": [
       "(array([1., 3., 1., 3., 6., 6., 3., 3., 3., 1.]),\n",
       " array([17. , 18.7, 20.4, 22.1, 23.8, 25.5, 27.2, 28.9, 30.6, 32.3, 34. ]),\n",
       " <BarContainer object of 10 artists>)"
      ]
     },
     "execution_count": 21,
     "metadata": {},
     "output_type": "execute_result"
    },
    {
     "data": {
      "image/png": "[encoded data removed]",
      "text/plain": [
       "<Figure size 432x288 with 1 Axes>"
      ]
     },
     "metadata": {
      "needs_background": "light"
     },
     "output_type": "display_data"
    }
   ],
   "source": [
    "import numpy as np \n",
    "import matplotlib.pyplot as plt \n",
    "ar = np.random.binomial(50 , 0.5 , 30 )\n",
    "\n",
    "plt.hist(ar)"
   ]
  },
  {
   "cell_type": "markdown",
   "metadata": {},
   "source": [
    "# Q6. Write a Python function to calculate the cumulative distribution function of a Poisson distribution with given mean at a given point."
   ]
  },
  {
   "cell_type": "code",
   "execution_count": 22,
   "metadata": {},
   "outputs": [
    {
     "name": "stdout",
     "output_type": "stream",
     "text": [
      "The cumulative distribution function at 3 is 0.4232\n"
     ]
    }
   ],
   "source": [
    "from scipy.stats import poisson\n",
    "cdf = poisson.cdf(2.5,3)\n",
    "mean = 2.5\n",
    "point = 3\n",
    "print(f\"The cumulative distribution function at {point} is {cdf:.4f}\")\n"
   ]
  },
  {
   "cell_type": "markdown",
   "metadata": {},
   "source": [
    "# Q7. How Binomial distribution different from Poisson distribution?"
   ]
  },
  {
   "cell_type": "markdown",
   "metadata": {},
   "source": [
    "The key difference between the binomial and Poisson distributions lies in the nature of the events they model and the parameters that characterize them.\n",
    "\n",
    "1. Nature of Events:\n",
    "   - Binomial Distribution: The binomial distribution models the number of successes in a fixed number of independent Bernoulli trials, where each trial has two possible outcomes (success or failure).\n",
    "   - Poisson Distribution: The Poisson distribution models the number of events occurring in a fixed interval of time or space, where the events are assumed to occur independently.\n",
    "\n",
    "2. Parameters:\n",
    "   - Binomial Distribution: The binomial distribution is characterized by two parameters:\n",
    "     - Number of Trials (n): The fixed number of independent trials performed.\n",
    "     - Probability of Success (p): The probability of success for each trial.\n",
    "   - Poisson Distribution: The Poisson distribution is characterized by one parameter:\n",
    "     - Average Event Rate (λ): The average number of events that occur in the given interval.\n",
    "\n",
    "3. Outcome Type:\n",
    "   - Binomial Distribution: The binomial distribution deals with discrete outcomes, representing the count of successes in a fixed number of trials.\n",
    "   - Poisson Distribution: The Poisson distribution also deals with discrete outcomes, representing the count of events occurring in a fixed interval.\n",
    "\n",
    "4. Assumptions:\n",
    "   - Binomial Distribution: The binomial distribution assumes that the trials are independent, have fixed probabilities of success, and are performed a fixed number of times.\n",
    "   - Poisson Distribution: The Poisson distribution assumes that events occur independently and at a constant rate throughout the fixed interval.\n",
    "\n",
    "In summary, while both the binomial and Poisson distributions deal with discrete outcomes, the binomial distribution models the count of successes in a fixed number of trials, while the Poisson distribution models the count of events occurring in a fixed interval. The parameters used to characterize these distributions also differ, with the binomial distribution involving the number of trials and the probability of success, and the Poisson distribution involving the average event rate."
   ]
  },
  {
   "cell_type": "markdown",
   "metadata": {},
   "source": [
    "# Q8. Generate a random sample of size 1000 from a Poisson distribution with mean 5 and calculate the sample mean and variance."
   ]
  },
  {
   "cell_type": "code",
   "execution_count": 27,
   "metadata": {},
   "outputs": [
    {
     "name": "stdout",
     "output_type": "stream",
     "text": [
      "Sample Mean: 5.019\n",
      "Sample Variance: 5.244638999999999\n"
     ]
    }
   ],
   "source": [
    "# Set the parameters\n",
    "mean = 5  # Mean of the Poisson distribution\n",
    "sample_size = 1000  # Size of the random sample\n",
    "\n",
    "# Generate the random sample from the Poisson distribution\n",
    "sample = np.random.poisson(mean, size=sample_size)\n",
    "\n",
    "# Calculate the sample mean and variance\n",
    "sample_mean = np.mean(sample)\n",
    "sample_variance = np.var(sample)\n",
    "\n",
    "print(\"Sample Mean:\", sample_mean)\n",
    "print(\"Sample Variance:\", sample_variance)\n"
   ]
  },
  {
   "cell_type": "markdown",
   "metadata": {},
   "source": [
    "# Q9. How mean and variance are related in Binomial distribution and Poisson distribution?"
   ]
  },
  {
   "cell_type": "markdown",
   "metadata": {},
   "source": [
    "In the binomial distribution and Poisson distribution, the relationship between the mean and variance is different.\n",
    "\n",
    "Binomial Distribution:\n",
    "In the binomial distribution, the mean (μ) and variance (σ^2) are related as follows:\n",
    "μ = n * p\n",
    "σ^2 = n * p * (1 - p)\n",
    "where:\n",
    "- n is the number of trials\n",
    "- p is the probability of success in each trial\n",
    "\n",
    "The mean of a binomial distribution is equal to the product of the number of trials and the probability of success. The variance, on the other hand, depends on both the number of trials and the probability of success. It is the product of n, p, and (1 - p).\n",
    "\n",
    "Poisson Distribution:\n",
    "In the Poisson distribution, the mean (μ) and variance (σ^2) are related as follows:\n",
    "μ = λ\n",
    "σ^2 = λ\n",
    "where:\n",
    "- λ (lambda) is the average rate of event occurrence\n",
    "\n",
    "The mean and variance of a Poisson distribution are both equal to the average rate of event occurrence, λ. This is a unique property of the Poisson distribution, where the mean and variance are identical.\n",
    "\n",
    "In summary, in the binomial distribution, the variance depends on both the number of trials and the probability of success, while in the Poisson distribution, the variance is solely determined by the average rate of event occurrence. However, in both distributions, the mean provides a measure of central tendency."
   ]
  },
  {
   "cell_type": "markdown",
   "metadata": {},
   "source": [
    "# Q10. In normal distribution with respect to mean position, where does the least frequent data appear?"
   ]
  },
  {
   "cell_type": "markdown",
   "metadata": {},
   "source": [
    "In a normal distribution, which is symmetric, the least frequent data appears in the tails of the distribution, farthest away from the mean.\n",
    "\n",
    "The normal distribution is characterized by its bell-shaped curve, where the highest point (peak) corresponds to the mean value. As you move away from the mean towards the tails of the distribution, the frequency of data decreases gradually.\n",
    "\n",
    "In the standard normal distribution (with a mean of 0 and standard deviation of 1), approximately 68% of the data falls within one standard deviation of the mean (between -1 and 1), 95% falls within two standard deviations (between -2 and 2), and 99.7% falls within three standard deviations (between -3 and 3). Thus, the data in the tails, beyond three standard deviations from the mean, is the least frequent.\n",
    "\n",
    "To summarize, the least frequent data in a normal distribution appears in the extreme tails, farthest away from the mean."
   ]
  }
 ],
 "metadata": {
  "kernelspec": {
   "display_name": "Python 3",
   "language": "python",
   "name": "python3"
  },
  "language_info": {
   "codemirror_mode": {
    "name": "ipython",
    "version": 3
   },
   "file_extension": ".py",
   "mimetype": "text/x-python",
   "name": "python",
   "nbconvert_exporter": "python",
   "pygments_lexer": "ipython3",
   "version": "3.10.11"
  },
  "orig_nbformat": 4
 },
 "nbformat": 4,
 "nbformat_minor": 2
}
