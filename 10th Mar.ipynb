{
 "cells": [
  {
   "cell_type": "markdown",
   "metadata": {},
   "source": [
    "# Q1 . What is Estimation Statistics? Explain point estimate and interval estimate.\n",
    "\n",
    "Estimation statistics is a branch of inferential statistics that focuses on estimating population parameters based on sample data.\n",
    "\n",
    "1. Point estimate - : It is single numerical used to estimate the value of unknown population\n",
    "\n",
    "2. Interval estimate - : Range of values used to used to estimate the value of unknown population\n",
    "\n"
   ]
  },
  {
   "cell_type": "markdown",
   "metadata": {},
   "source": [
    "# Q2. Write a Python function to estimate the population mean using a sample mean and standard deviation."
   ]
  },
  {
   "cell_type": "code",
   "execution_count": 16,
   "metadata": {},
   "outputs": [
    {
     "name": "stdout",
     "output_type": "stream",
     "text": [
      "Population mean is estimated to be between 69.49 and 71.51 with 95.0% confidence.\n"
     ]
    }
   ],
   "source": [
    "import math\n",
    "from scipy.stats import t\n",
    "\n",
    "def estimate_population_mean(sample_mean, sample_std_dev, sample_size, confidence_level=0.95):\n",
    "\n",
    "    degrees_of_freedom = sample_size - 1\n",
    "\n",
    "    t_critical = abs(t.ppf((1 - confidence_level) / 2, df=degrees_of_freedom))\n",
    "\n",
    "    margin_of_error = t_critical * (sample_std_dev / math.sqrt(sample_size))\n",
    "\n",
    "    lower_bound = sample_mean - margin_of_error\n",
    "    upper_bound = sample_mean + margin_of_error\n",
    "\n",
    "    return lower_bound, upper_bound\n",
    "\n",
    "#Sample data\n",
    "sample_mean = 70.5\n",
    "sample_std_dev = 5.1\n",
    "sample_size = 100\n",
    "confidence_level = 0.95\n",
    "\n",
    "# Estimate the population mean\n",
    "lower_bound, upper_bound = estimate_population_mean(sample_mean, sample_std_dev, sample_size, confidence_level)\n",
    "\n",
    "print(f\"Population mean is estimated to be between {lower_bound:.2f} and {upper_bound:.2f} with {confidence_level*100}% confidence.\")"
   ]
  },
  {
   "cell_type": "markdown",
   "metadata": {},
   "source": [
    "# Q3: What is Hypothesis testing? Why is it used? State the importance of Hypothesis testing.\n",
    "\n",
    "Hypothesis testing is a fundamental statistical method used to make decisions or draw inferences about a population based on sample data. It involves formulating two competing statements, called the null hypothesis (H0) and the alternative hypothesis (Ha), and then assessing the evidence from the sample to determine which statement is more plausible.\n",
    "\n",
    "Here's a step-by-step explanation of the hypothesis testing process:\n",
    "\n",
    "1. Formulate the Null Hypothesis (H0): The null hypothesis is the default assumption or the status quo. It typically states that there is no significant effect, no difference, or no relationship between variables. It is denoted by H0.\n",
    "\n",
    "2. Formulate the Alternative Hypothesis (Ha): The alternative hypothesis contradicts the null hypothesis. It represents the researcher's claim or the hypothesis they wish to support with evidence from the data. It is denoted by Ha.\n",
    "\n",
    "3. Choose a Significance Level (α): The significance level (also called the alpha level) is the probability of making a Type I error, which occurs when we reject the null hypothesis when it is true. Commonly used values for α are 0.05 (5%) or 0.01 (1%).\n",
    "\n",
    "4. Collect Sample Data: Gather data from a representative sample of the population of interest.\n",
    "\n",
    "5. Compute a Test Statistic: Calculate a test statistic that measures how well the sample data supports the null hypothesis. The choice of test statistic depends on the nature of the data and the hypothesis being tested.\n",
    "\n",
    "6. Determine the Critical Region: The critical region is a range of values of the test statistic that would lead to the rejection of the null hypothesis. It is determined based on the significance level and the sampling distribution of the test statistic.\n",
    "\n",
    "7. Make a Decision: Compare the test statistic to the critical values. If the test statistic falls within the critical region, the null hypothesis is rejected in favor of the alternative hypothesis. If the test statistic does not fall within the critical region, there is not enough evidence to reject the null hypothesis.\n",
    "\n",
    "Importance of Hypothesis Testing:\n",
    "Hypothesis testing plays a crucial role in statistical analysis and scientific research for several reasons:\n",
    "\n",
    "1. Objectivity: Hypothesis testing provides an objective and systematic approach to draw conclusions from data. It helps researchers avoid biases and personal beliefs when making decisions.\n",
    "\n",
    "2. Inference: Hypothesis testing allows us to make inferences about population parameters based on sample data. This is essential since it is often impractical or impossible to examine an entire population.\n",
    "\n",
    "3. Scientific Validity: By testing hypotheses and making evidence-based decisions, researchers can validate or refute claims and theories, contributing to the accumulation of scientific knowledge.\n",
    "\n",
    "4. Decision-making: Hypothesis testing provides a clear framework for making decisions in various fields, including medicine, social sciences, engineering, and business. For instance, it helps determine whether a new drug is effective, whether a marketing campaign is successful, or whether a manufacturing process change is beneficial.\n",
    "\n",
    "5. Problem-solving: Hypothesis testing helps identify potential issues or problems by analyzing the data and evaluating the validity of assumptions.\n",
    "\n",
    "Overall, hypothesis testing is a powerful tool that allows researchers to make data-driven decisions, validate hypotheses, and draw meaningful conclusions from sample data to make broader inferences about populations."
   ]
  },
  {
   "cell_type": "markdown",
   "metadata": {},
   "source": [
    "# Q4. Create a hypothesis that states whether the average weight of male college students is greater than the average weight of female college students. \n",
    "\n",
    "Hypothesis:\n",
    "The average weight of male college students is greater than the average weight of female college students.\n",
    "\n",
    "Null Hypothesis (H0):\n",
    "μ_male <= μ_female\n",
    "(Where μ_male represents the population mean weight of male college students, and μ_female represents the population mean weight of female college students.)\n",
    "\n",
    "Alternative Hypothesis (Ha):\n",
    "μ_male > μ_female\n",
    "(Where μ_male represents the population mean weight of male college students, and μ_female represents the population mean weight of female college students.)"
   ]
  },
  {
   "cell_type": "markdown",
   "metadata": {},
   "source": [
    "# Q5. Write a Python script to conduct a hypothesis test on the difference between two population means, given a sample from each population."
   ]
  },
  {
   "cell_type": "code",
   "execution_count": 17,
   "metadata": {},
   "outputs": [
    {
     "name": "stdout",
     "output_type": "stream",
     "text": [
      "Hypothesis Test Result: Fail to reject\n",
      "P-value: 0.6322773321852039\n"
     ]
    }
   ],
   "source": [
    "import numpy as np\n",
    "from scipy.stats import ttest_ind\n",
    "\n",
    "def hypothesis_test(sample1, sample2, alpha=0.05):\n",
    "    \"\"\"\n",
    "    Conducts a hypothesis test on the difference between two population means.\n",
    "\n",
    "    Parameters:\n",
    "        sample1 (array-like): Sample data from population 1.\n",
    "        sample2 (array-like): Sample data from population 2.\n",
    "        alpha (float): The significance level for the test. Default is 0.05.\n",
    "\n",
    "    Returns:\n",
    "        result (str): The result of the hypothesis test ('Reject' or 'Fail to reject').\n",
    "        p_value (float): The p-value of the test.\n",
    "    \"\"\"\n",
    "    t_stat, p_value = ttest_ind(sample1, sample2, equal_var=True)  # Assuming equal variance\n",
    "\n",
    "    if p_value < alpha:\n",
    "        result = 'Reject'  # Reject the null hypothesis (significant difference)\n",
    "    else:\n",
    "        result = 'Fail to reject'  # Fail to reject the null hypothesis (no significant difference)\n",
    "\n",
    "    return result, p_value\n",
    "\n",
    "# Example usage:\n",
    "sample1 = np.array([10, 12, 15, 17, 19])\n",
    "sample2 = np.array([8, 11, 14, 16, 18])\n",
    "\n",
    "result, p_value = hypothesis_test(sample1, sample2)\n",
    "\n",
    "print(\"Hypothesis Test Result:\", result)\n",
    "print(\"P-value:\", p_value)\n"
   ]
  },
  {
   "cell_type": "markdown",
   "metadata": {},
   "source": [
    "# Q6: What is a null and alternative hypothesis? Give some examples.\n",
    "In statistics, the null hypothesis (H0) and the alternative hypothesis (H1) are two competing statements used in hypothesis testing. Hypothesis testing is a method to make inferences about a population based on sample data. The null hypothesis represents the default assumption or belief about the population, while the alternative hypothesis represents what the researcher wants to test or prove.\n",
    "\n",
    "Null Hypothesis (H0):\n",
    "The null hypothesis is a statement of no effect, no difference, or no relationship between variables. It assumes that any observed differences or effects in the data are due to random chance or sampling error. The objective of hypothesis testing is to determine whether there is enough evidence to reject the null hypothesis and support the alternative hypothesis.\n",
    "\n",
    "Example 1 (Coin Toss):\n",
    "H0: The probability of getting heads in a coin toss is 0.5 (fair coin).\n",
    "In this example, the null hypothesis states that the coin is fair, and the probability of getting heads is 0.5 (as expected in a fair coin).\n",
    "\n",
    "Example 2 (Medical Treatment):\n",
    "H0: There is no significant difference in the recovery time between patients receiving Treatment A and a placebo.\n",
    "In this medical example, the null hypothesis states that the treatment does not have a significant effect on recovery time, and any observed differences are due to chance.\n",
    "\n",
    "Alternative Hypothesis (H1):\n",
    "The alternative hypothesis contradicts the null hypothesis and suggests that there is a specific effect, difference, or relationship between variables. It represents the hypothesis that the researcher wants to support if there is enough evidence to reject the null hypothesis.\n",
    "\n",
    "Example 1 (Coin Toss):\n",
    "H1: The probability of getting heads in a coin toss is different from 0.5 (unfair coin).\n",
    "In this example, the alternative hypothesis suggests that the coin is unfair, and the probability of getting heads is different from the expected 0.5 value for a fair coin.\n",
    "\n",
    "Example 2 (Medical Treatment):\n",
    "H1: Patients receiving Treatment A have a shorter recovery time compared to those receiving a placebo.\n",
    "Here, the alternative hypothesis proposes that the treatment has a significant effect, leading to a shorter recovery time in patients compared to those who receive a placebo.\n",
    "\n",
    "In hypothesis testing, the goal is to gather evidence from sample data to make an inference about the population. The test's outcome allows researchers to either reject the null hypothesis in favor of the alternative hypothesis or fail to reject the null hypothesis due to insufficient evidence. It's important to note that failing to reject the null hypothesis does not mean that the null hypothesis is true; it simply means there is not enough evidence to support the alternative hypothesis."
   ]
  },
  {
   "cell_type": "markdown",
   "metadata": {},
   "source": [
    "# Q7: Write down the steps involved in hypothesis testing.\n",
    "Hypothesis testing is a systematic procedure used to make inferences about a population based on sample data. Here are the general steps involved in hypothesis testing:\n",
    "\n",
    "1. State the Hypotheses:\n",
    "Start by clearly stating the null hypothesis (H0) and the alternative hypothesis (H1). These hypotheses represent competing claims about the population parameter being tested. The null hypothesis usually assumes no effect or no difference, while the alternative hypothesis represents the effect or difference you want to investigate.\n",
    "\n",
    "2. Set the Significance Level (Alpha):\n",
    "Choose a significance level (often denoted as α), which represents the probability of making a Type I error (rejecting the null hypothesis when it is true). Common significance levels are 0.05 (5%) or 0.01 (1%). The choice of significance level depends on the level of confidence you want in your test results.\n",
    "\n",
    "3. Select the Test Statistic:\n",
    "Choose an appropriate test statistic based on the type of data and the research question. For example, for comparing means, you might use a t-test or ANOVA; for proportions, you might use a chi-square test or z-test, etc.\n",
    "\n",
    "4. Define the Rejection Region:\n",
    "The rejection region is the critical region of the test statistic that leads to rejecting the null hypothesis. It is defined based on the significance level chosen in Step 2. The critical values are obtained from the appropriate statistical table or calculated using software.\n",
    "\n",
    "5. Compute the Test Statistic:\n",
    "Calculate the test statistic using the sample data. The formula for the test statistic depends on the specific test being used.\n",
    "\n",
    "6. Find the P-value:\n",
    "The p-value is the probability of obtaining a test statistic as extreme as the one calculated from the sample data, assuming the null hypothesis is true. It measures the strength of the evidence against the null hypothesis. The smaller the p-value, the stronger the evidence against H0.\n",
    "\n",
    "7. Compare the P-value with the Significance Level:\n",
    "If the p-value is less than or equal to the significance level (p ≤ α), then the result is statistically significant. It means there is enough evidence to reject the null hypothesis in favor of the alternative hypothesis. Otherwise, if the p-value is greater than α (p > α), then the result is not statistically significant, and you fail to reject the null hypothesis.\n",
    "\n",
    "8. Make a Conclusion:\n",
    "Based on the comparison of the p-value and significance level, make a conclusion about the null hypothesis. State whether you reject or fail to reject H0 and interpret the results in the context of the research question.\n",
    "\n",
    "\n",
    "It is essential to follow these steps systematically to ensure proper hypothesis testing and draw accurate conclusions from the data. Additionally, remember to consider the assumptions and conditions of the chosen test, as violating assumptions may affect the validity of the results."
   ]
  },
  {
   "cell_type": "markdown",
   "metadata": {},
   "source": [
    "# Q8. Define p-value and explain its significance in hypothesis testing.\n",
    "\n",
    "The p-value, short for \"probability value,\" is a fundamental concept in hypothesis testing. It represents the probability of observing a test statistic as extreme as, or more extreme than, the one actually calculated from the sample data, assuming that the null hypothesis (H0) is true.\n",
    "\n",
    "In other words, the p-value quantifies the strength of the evidence against the null hypothesis. A small p-value indicates that the observed data is unlikely to have occurred if the null hypothesis were true, leading to the rejection of the null hypothesis in favor of the alternative hypothesis (H1). On the other hand, a large p-value suggests that the observed data is reasonably likely to have occurred by chance alone, and there is not enough evidence to reject the null hypothesis.\n",
    "\n",
    "Significance in Hypothesis Testing:\n",
    "\n",
    "1. Decision Making: The p-value helps in making decisions about the null hypothesis. If the p-value is less than or equal to the chosen significance level (α) – often set at 0.05 – you reject the null hypothesis in favor of the alternative hypothesis. If the p-value is greater than α, you fail to reject the null hypothesis.\n",
    "\n",
    "2. Interpretation: When the null hypothesis is rejected, it means there is strong evidence to support the alternative hypothesis. This result is considered statistically significant, suggesting that the effect or relationship observed in the sample is likely to exist in the population.\n",
    "\n",
    "3. Effect Size: The p-value does not give any information about the size or magnitude of the effect. It only tells you whether the effect is statistically significant. To understand the practical significance of the result, you should also consider the effect size, which measures the strength of the relationship or difference between groups.\n",
    "\n",
    "4. Sample Size: The p-value is influenced by the sample size. With larger sample sizes, even small differences between groups may lead to statistically significant results. Therefore, while interpreting p-values, it is essential to consider the context and practical implications of the effect being studied.\n",
    "\n",
    "5. Misinterpretation: It is crucial to interpret the p-value correctly. A p-value does not indicate the probability of either the null hypothesis or the alternative hypothesis being true. It only provides information about the probability of the observed data given the null hypothesis.\n",
    "\n",
    "Remember that the p-value is just one piece of evidence in hypothesis testing. It should be used along with other statistical measures, such as effect size and confidence intervals, to draw meaningful conclusions from the data and make informed decisions based on the research question at hand."
   ]
  },
  {
   "cell_type": "markdown",
   "metadata": {},
   "source": [
    "# Q9. Generate a Student's t-distribution plot using Python's matplotlib library, with the degrees of freedom parameter set to 10."
   ]
  },
  {
   "cell_type": "code",
   "execution_count": 18,
   "metadata": {},
   "outputs": [
    {
     "data": {
      "image/png": "[encoded data removed]",
      "text/plain": [
       "<Figure size 432x288 with 1 Axes>"
      ]
     },
     "metadata": {
      "needs_background": "light"
     },
     "output_type": "display_data"
    }
   ],
   "source": [
    "import numpy as np\n",
    "import matplotlib.pyplot as plt\n",
    "from scipy.stats import t\n",
    "\n",
    "# Set the degrees of freedom\n",
    "degrees_of_freedom = 10\n",
    "\n",
    "# Generate t-distribution data\n",
    "x = np.linspace(-5, 5, 500)  # Range of x values for the plot\n",
    "pdf = t.pdf(x, df=degrees_of_freedom)  # Probability density function values for each x\n",
    "\n",
    "# Create the plot\n",
    "plt.plot(x, pdf, label=f't-distribution (df = {degrees_of_freedom})')\n",
    "plt.title('Student\\'s t-Distribution')\n",
    "plt.xlabel('x')\n",
    "plt.ylabel('Probability Density')\n",
    "plt.legend()\n",
    "plt.grid(True)\n",
    "plt.show()\n"
   ]
  },
  {
   "cell_type": "markdown",
   "metadata": {},
   "source": [
    "# Q10. Write a Python program to calculate the two-sample t-test for independent samples, given two random samples of equal size and a null hypothesis that the population means are equal."
   ]
  },
  {
   "cell_type": "code",
   "execution_count": 19,
   "metadata": {},
   "outputs": [
    {
     "name": "stdout",
     "output_type": "stream",
     "text": [
      "Hypothesis Test Result: Reject\n",
      "t-statistic: 3.7207944551191634\n",
      "P-value: 0.005864707091509772\n"
     ]
    }
   ],
   "source": [
    "import numpy as np\n",
    "from scipy.stats import ttest_ind\n",
    "\n",
    "def two_sample_t_test(sample1, sample2, alpha=0.05):\n",
    "    \"\"\"\n",
    "    Performs a two-sample t-test for independent samples.\n",
    "\n",
    "    Parameters:\n",
    "        sample1 (array-like): Sample data for group 1.\n",
    "        sample2 (array-like): Sample data for group 2.\n",
    "        alpha (float): The significance level for the test. Default is 0.05.\n",
    "\n",
    "    Returns:\n",
    "        result (str): The result of the hypothesis test ('Reject' or 'Fail to reject').\n",
    "        t_stat (float): The calculated t-statistic.\n",
    "        p_value (float): The p-value of the test.\n",
    "    \"\"\"\n",
    "    t_stat, p_value = ttest_ind(sample1, sample2, equal_var=True)  # Assuming equal variance\n",
    "\n",
    "    if p_value < alpha:\n",
    "        result = 'Reject'  # Reject the null hypothesis (significant difference)\n",
    "    else:\n",
    "        result = 'Fail to reject'  # Fail to reject the null hypothesis (no significant difference)\n",
    "\n",
    "    return result, t_stat, p_value\n",
    "\n",
    "# Example usage:\n",
    "sample1 = np.array([25, 30, 28, 32, 29])\n",
    "sample2 = np.array([20, 22, 26, 18, 24])\n",
    "\n",
    "result, t_stat, p_value = two_sample_t_test(sample1, sample2)\n",
    "\n",
    "print(\"Hypothesis Test Result:\", result)\n",
    "print(\"t-statistic:\", t_stat)\n",
    "print(\"P-value:\", p_value)\n"
   ]
  },
  {
   "cell_type": "markdown",
   "metadata": {},
   "source": [
    "# Q11 What is Student’s t distribution? When to use the t-Distribution\n",
    "\n",
    "Student's t-distribution, often simply referred to as the t-distribution, is a probability distribution that arises in hypothesis testing and statistical inference. It is used when the sample size is small and the population standard deviation is unknown. The t-distribution is similar in shape to the standard normal (Z) distribution, but it has thicker tails, making it more suitable for small sample sizes.\n",
    "\n",
    "Characteristics of the t-distribution:\n",
    "\n",
    "1. Shape: The t-distribution is bell-shaped and symmetric around zero, similar to the standard normal distribution.\n",
    "\n",
    "2. Degrees of Freedom (df): The shape of the t-distribution is determined by its degrees of freedom, denoted as \"df.\" The degrees of freedom depend on the sample size. The larger the sample size, the closer the t-distribution resembles the standard normal distribution.\n",
    "\n",
    "3. Tail Thickness: The t-distribution has thicker tails compared to the standard normal distribution. This means that extreme values are more likely to occur in a t-distribution when the sample size is small.\n",
    "\n",
    "When to use the t-Distribution:\n",
    "\n",
    "The t-distribution is used in several scenarios when working with small samples:\n",
    "\n",
    "1. Estimating Population Parameters: When the population standard deviation is unknown, and you want to estimate the population mean using a sample mean, the t-distribution is used to construct a confidence interval for the population mean.\n",
    "\n",
    "2. Hypothesis Testing: In hypothesis testing, the t-distribution is commonly used to compare sample means or differences between sample means when the sample size is small and the population standard deviation is unknown.\n",
    "\n",
    "3. Small Sample Sizes: When the sample size is small (typically n < 30), the t-distribution is preferred over the standard normal distribution, even if the population standard deviation is known. This is because the t-distribution accounts for the increased uncertainty due to the small sample size.\n",
    "\n",
    "4. Comparing Means: When comparing means from two independent samples (two-sample t-test) or paired samples (paired t-test), the t-distribution is used to calculate the test statistic and determine statistical significance.\n",
    "\n",
    "In summary, the t-distribution is a valuable tool in statistical inference when dealing with small sample sizes and situations where the population standard deviation is unknown. It provides a more accurate probability distribution for estimating parameters and performing hypothesis tests under these conditions, compared to the standard normal distribution. As the sample size increases, the t-distribution converges to the standard normal distribution, and the two become virtually identical."
   ]
  },
  {
   "cell_type": "markdown",
   "metadata": {},
   "source": [
    "# Q12: What is t-statistic? State the formula for t-statistic.\n",
    "\n",
    "The t-statistic (also known as the t-value) is a measure used in hypothesis testing to assess the difference between a sample mean and a hypothesized population mean, taking into account the sample size and variability. It is a crucial component of the t-test, which is commonly used to compare sample means and make inferences about population parameters.\n",
    "\n",
    "The formula for the t-statistic depends on the type of t-test being conducted:\n",
    "\n",
    "1. One-sample t-test:\n",
    "For a one-sample t-test, which compares the mean of a sample to a known or hypothesized population mean (μ), the t-statistic formula is:\n",
    "\n",
    "t = (x̄ - μ) / (s / √n)\n",
    "\n",
    "where:\n",
    "- x̄ is the sample mean,\n",
    "- μ is the hypothesized population mean,\n",
    "- s is the sample standard deviation,\n",
    "- n is the sample size.\n",
    "\n",
    "2. Two-sample t-test (for independent samples):\n",
    "For a two-sample t-test that compares the means of two independent samples (e.g., treatment group vs. control group), the t-statistic formula is:\n",
    "\n",
    "t = (x̄1 - x̄2) / √[(s1^2 / n1) + (s2^2 / n2)]\n",
    "\n",
    "where:\n",
    "- x̄1 and x̄2 are the sample means of the two groups,\n",
    "- s1 and s2 are the sample standard deviations of the two groups,\n",
    "- n1 and n2 are the sample sizes of the two groups.\n",
    "\n",
    "In both cases, the t-statistic represents the number of standard errors the sample mean is away from the hypothesized population mean. A larger absolute value of the t-statistic indicates a greater difference between the sample mean(s) and the population mean.\n",
    "\n",
    "After calculating the t-statistic, you can use it to calculate the corresponding p-value, which helps determine the statistical significance of the difference and make decisions about the null hypothesis. If the t-statistic is large and the p-value is small (typically less than a chosen significance level, such as 0.05), you may reject the null hypothesis in favor of the alternative hypothesis. Conversely, if the t-statistic is small and the p-value is large, you may fail to reject the null hypothesis."
   ]
  },
  {
   "cell_type": "markdown",
   "metadata": {},
   "source": [
    "# Q13. A coffee shop owner wants to estimate the average daily revenue for their shop. They take a random sample of 50 days and find the sample mean revenue to be $500 with a standard deviation of $50. Estimate the population mean revenue with a 95% confidence interval.\n"
   ]
  },
  {
   "cell_type": "code",
   "execution_count": 20,
   "metadata": {},
   "outputs": [
    {
     "name": "stdout",
     "output_type": "stream",
     "text": [
      "Population mean revenue estimate (95% Confidence Interval): $485.79 to $514.21\n"
     ]
    }
   ],
   "source": [
    "import numpy as np\n",
    "from scipy.stats import t\n",
    "\n",
    "# Given data\n",
    "sample_size = 50\n",
    "sample_mean_revenue = 500\n",
    "sample_std_revenue = 50\n",
    "confidence_level = 0.95\n",
    "\n",
    "# Calculate the critical value (t_critical) from the t-distribution\n",
    "df = sample_size - 1\n",
    "t_critical = t.ppf(1 - (1 - confidence_level) / 2, df)\n",
    "\n",
    "# Calculate the margin of error (MOE)\n",
    "margin_of_error = t_critical * (sample_std_revenue / np.sqrt(sample_size))\n",
    "\n",
    "# Calculate the lower and upper bounds of the confidence interval\n",
    "lower_bound = sample_mean_revenue - margin_of_error\n",
    "upper_bound = sample_mean_revenue + margin_of_error\n",
    "\n",
    "# Print the confidence interval\n",
    "print(f\"Population mean revenue estimate (95% Confidence Interval): ${lower_bound:.2f} to ${upper_bound:.2f}\")\n"
   ]
  },
  {
   "cell_type": "markdown",
   "metadata": {},
   "source": [
    "# Q14. A researcher hypothesizes that a new drug will decrease blood pressure by 10 mmHg. They conduct a clinical trial with 100 patients and find that the sample mean decrease in blood pressure is 8 mmHg with a standard deviation of 3 mmHg. Test the hypothesis with a significance level of 0.05."
   ]
  },
  {
   "cell_type": "code",
   "execution_count": 21,
   "metadata": {},
   "outputs": [
    {
     "name": "stdout",
     "output_type": "stream",
     "text": [
      "Fail to reject the null hypothesis.\n"
     ]
    }
   ],
   "source": [
    "# H0: μ = μ0\n",
    "# H1: μ ≠ μ0\n",
    "# Given data\n",
    "sample_size = 100\n",
    "sample_mean_decrease = 8\n",
    "sample_std_decrease = 3\n",
    "hypothesized_mean_decrease = 10\n",
    "alpha = 0.05\n",
    "\n",
    "# Calculate the t-statistic\n",
    "numerator = sample_mean_decrease - hypothesized_mean_decrease\n",
    "denominator = sample_std_decrease / np.sqrt(sample_size)\n",
    "t_statistic = numerator / denominator\n",
    "\n",
    "# Degrees of freedom for the t-distribution\n",
    "df = sample_size - 1\n",
    "\n",
    "# Calculate the critical t-value\n",
    "critical_t = t.ppf(1-alpha/2, df)\n",
    "\n",
    "# Compare t-statistic with critical t-value\n",
    "if np.abs(t_statistic) > critical_t:\n",
    "    print(\"Fail to reject the null hypothesis.\")\n",
    "else:\n",
    "    print(\"Reject the null hypothesis.\")\n",
    "\n",
    "\n"
   ]
  },
  {
   "cell_type": "markdown",
   "metadata": {},
   "source": [
    "# Q15. An electronics company produces a certain type of product with a mean weight of 5 pounds and a standard deviation of 0.5 pounds. A random sample of 25 products is taken, and the sample mean weight is found to be 4.8 pounds. Test the hypothesis that the true mean weight of the products is less than 5 pounds with a significance level of 0.01."
   ]
  },
  {
   "cell_type": "code",
   "execution_count": 25,
   "metadata": {},
   "outputs": [
    {
     "name": "stdout",
     "output_type": "stream",
     "text": [
      "Fail to reject the null hypothesis. There is not enough evidence to support that the true mean weight is less than 5 pounds.\n"
     ]
    }
   ],
   "source": [
    "import scipy.stats as stats\n",
    "\n",
    "# Sample data\n",
    "sample_mean = 4.8\n",
    "population_mean = 5.0\n",
    "sample_std_dev = 0.5\n",
    "sample_size = 25\n",
    "\n",
    "# Calculate the standard error of the sample mean\n",
    "standard_error = sample_std_dev / (sample_size ** 0.5)\n",
    "\n",
    "# Conduct the one-sample t-test\n",
    "t_statistic = (sample_mean - population_mean) / standard_error\n",
    "\n",
    "# Degrees of freedom for a one-sample t-test\n",
    "degrees_of_freedom = sample_size - 1\n",
    "\n",
    "# Set the significance level\n",
    "alpha = 0.01\n",
    "\n",
    "# Find the critical t-value for a one-tailed test (less than)\n",
    "critical_t_value = stats.t.ppf(alpha, degrees_of_freedom)\n",
    "\n",
    "# Make a decision based on the t-statistic and critical t-value\n",
    "if t_statistic < critical_t_value:\n",
    "    print(\"Reject the null hypothesis. The true mean weight is less than 5 pounds.\")\n",
    "else:\n",
    "    print(\"Fail to reject the null hypothesis. There is not enough evidence to support that the true mean weight is less than 5 pounds.\")\n"
   ]
  },
  {
   "cell_type": "markdown",
   "metadata": {},
   "source": [
    "# Q16. Two groups of students are given different study materials to prepare for a test. The first group (n1 =30) has a mean score of 80 with a standard deviation of 10, and the second group (n2 = 40) has a mean score of 75 with a standard deviation of 8. Test the hypothesis that the population means for the two groups are equal with a significance level of 0.01. \n",
    "\n",
    "\n",
    "To test the hypothesis that the population means for the two groups are equal, we can use a two-sample t-test for independent samples. The null hypothesis (H0) assumes that there is no significant difference between the population means, while the alternative hypothesis (H1) assumes that there is a significant difference between the means.\n",
    "\n",
    "Given:\n",
    "\n",
    "Group 1: n1 = 30, x̄1 (sample mean) = 80, s1 (sample standard deviation) = 10\n",
    "Group 2: n2 = 40, x̄2 (sample mean) = 75, s2 (sample standard deviation) = 8\n",
    "Significance level (alpha) = 0.01\n",
    "Null Hypothesis (H0):\n",
    "H0: μ1 = μ2\n",
    "The null hypothesis states that there is no significant difference between the population means of the two groups.\n",
    "\n",
    "Alternative Hypothesis (H1):\n",
    "H1: μ1 ≠ μ2\n",
    "The alternative hypothesis states that there is a significant difference between the population means of the two groups.\n",
    "\n"
   ]
  },
  {
   "cell_type": "code",
   "execution_count": 23,
   "metadata": {},
   "outputs": [
    {
     "name": "stdout",
     "output_type": "stream",
     "text": [
      "Fail to reject the null hypothesis. There is no significant difference between the population means.\n"
     ]
    },
    {
     "name": "stderr",
     "output_type": "stream",
     "text": [
      "C:\\Users\\parde\\AppData\\Local\\Packages\\PythonSoftwareFoundation.Python.3.10_qbz5n2kfra8p0\\LocalCache\\local-packages\\Python310\\site-packages\\numpy\\core\\fromnumeric.py:3747: RuntimeWarning: Degrees of freedom <= 0 for slice\n",
      "  return _methods._var(a, axis=axis, dtype=dtype, out=out, ddof=ddof,\n",
      "C:\\Users\\parde\\AppData\\Local\\Packages\\PythonSoftwareFoundation.Python.3.10_qbz5n2kfra8p0\\LocalCache\\local-packages\\Python310\\site-packages\\numpy\\core\\_methods.py:261: RuntimeWarning: invalid value encountered in scalar divide\n",
      "  ret = ret.dtype.type(ret / rcount)\n"
     ]
    }
   ],
   "source": [
    "import numpy as np\n",
    "from scipy.stats import ttest_ind\n",
    "\n",
    "# Given data\n",
    "group1_mean = 80\n",
    "group1_std = 10\n",
    "group1_size = 30\n",
    "\n",
    "group2_mean = 75\n",
    "group2_std = 8\n",
    "group2_size = 40\n",
    "\n",
    "alpha = 0.01\n",
    "\n",
    "# Calculate pooled standard deviation\n",
    "pooled_std = np.sqrt(((group1_size - 1) * group1_std ** 2 + (group2_size - 1) * group2_std ** 2) / (group1_size + group2_size - 2))\n",
    "\n",
    "# Calculate t-statistic\n",
    "t_statistic = (group1_mean - group2_mean) / (pooled_std * np.sqrt((1 / group1_size) + (1 / group2_size)))\n",
    "\n",
    "# Degrees of freedom\n",
    "df = group1_size + group2_size - 2\n",
    "\n",
    "# Calculate critical t-value\n",
    "critical_t = t.ppf(1 - alpha / 2, df)\n",
    "\n",
    "# Perform the two-sample t-test\n",
    "ttest_result = ttest_ind(group1_mean, group2_mean)\n",
    "\n",
    "# Compare t-statistic with critical t-value and print the result\n",
    "if np.abs(t_statistic) > critical_t:\n",
    "    print(\"Reject the null hypothesis. There is a significant difference between the population means.\")\n",
    "else:\n",
    "    print(\"Fail to reject the null hypothesis. There is no significant difference between the population means.\")\n"
   ]
  },
  {
   "cell_type": "markdown",
   "metadata": {},
   "source": [
    "# Q17. A marketing company wants to estimate the average number of ads watched by viewers during a TV program. They take a random sample of 50 viewers and find that the sample mean is 4 with a standard deviation of 1.5. Estimate the population mean with a 99% confidence interval."
   ]
  },
  {
   "cell_type": "code",
   "execution_count": 26,
   "metadata": {},
   "outputs": [
    {
     "name": "stdout",
     "output_type": "stream",
     "text": [
      "The population mean is estimated to be between 3.45 and 4.55 with a 99% confidence interval.\n"
     ]
    }
   ],
   "source": [
    "# Given data\n",
    "sample_mean = 4\n",
    "population_std_dev = 1.5\n",
    "sample_size = 50\n",
    "\n",
    "# Z-score for a 99% confidence interval\n",
    "z_score = 2.576\n",
    "\n",
    "# Calculate the standard error of the mean\n",
    "standard_error = population_std_dev / (sample_size ** 0.5)\n",
    "\n",
    "# Calculate the lower and upper bounds of the confidence interval\n",
    "lower_bound = sample_mean - z_score * standard_error\n",
    "upper_bound = sample_mean + z_score * standard_error\n",
    "\n",
    "# Print the confidence interval\n",
    "print(f\"The population mean is estimated to be between {lower_bound:.2f} and {upper_bound:.2f} with a 99% confidence interval.\")\n",
    "\n"
   ]
  }
 ],
 "metadata": {
  "kernelspec": {
   "display_name": "Python 3",
   "language": "python",
   "name": "python3"
  },
  "language_info": {
   "codemirror_mode": {
    "name": "ipython",
    "version": 3
   },
   "file_extension": ".py",
   "mimetype": "text/x-python",
   "name": "python",
   "nbconvert_exporter": "python",
   "pygments_lexer": "ipython3",
   "version": "3.10.11"
  },
  "orig_nbformat": 4
 },
 "nbformat": 4,
 "nbformat_minor": 2
}
