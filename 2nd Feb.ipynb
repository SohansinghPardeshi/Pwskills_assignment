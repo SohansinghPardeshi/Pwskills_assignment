{
 "cells": [
  {
   "cell_type": "markdown",
   "id": "fba02651-55ce-4380-a73d-8aeceb53c3d2",
   "metadata": {},
   "source": [
    "1.A for loop is used when you have a known number of iterations, and you want to repeat a set of instructions a specific number of times. For example, if you want to print out the numbers 1 to 10, you can use a for loop:\n"
   ]
  },
  {
   "cell_type": "code",
   "execution_count": 1,
   "id": "40cec759-efd3-4a8c-ac29-6c5df6dd6d3f",
   "metadata": {},
   "outputs": [
    {
     "name": "stdout",
     "output_type": "stream",
     "text": [
      "1\n",
      "2\n",
      "3\n",
      "4\n",
      "5\n",
      "6\n",
      "7\n",
      "8\n",
      "9\n",
      "10\n"
     ]
    }
   ],
   "source": [
    "for i in range(1, 11):\n",
    "    print(i)\n"
   ]
  },
  {
   "cell_type": "markdown",
   "id": "a3717a21-d770-46a1-bd7d-a17b59bf9844",
   "metadata": {},
   "source": [
    "A while loop, on the other hand, is used when you want to repeat a set of instructions as long as a certain condition is met. For example, if you want to print out the numbers 1 to 10 only if a certain condition is met, you can use a while loop.\n",
    "In this example, the while loop will keep executing as long as i is less than or equal to 10. When i becomes greater than 10, the loop will exit."
   ]
  },
  {
   "cell_type": "code",
   "execution_count": 2,
   "id": "7f0cc453-3865-47da-89df-852d287d6906",
   "metadata": {},
   "outputs": [
    {
     "name": "stdout",
     "output_type": "stream",
     "text": [
      "1\n",
      "2\n",
      "3\n",
      "4\n",
      "5\n",
      "6\n",
      "7\n",
      "8\n",
      "9\n",
      "10\n"
     ]
    }
   ],
   "source": [
    "i = 1\n",
    "while i <= 10:\n",
    "    print(i)\n",
    "    i += 1"
   ]
  },
  {
   "cell_type": "markdown",
   "id": "a30851a9-32f0-43d6-b3ea-91af4a2a5c06",
   "metadata": {},
   "source": [
    "2.Python program to print the sum and product of the first 10 natural numbers using for\n",
    "and while loop."
   ]
  },
  {
   "cell_type": "code",
   "execution_count": 3,
   "id": "bb46177e-db5f-43de-be2b-0123421f421c",
   "metadata": {},
   "outputs": [
    {
     "name": "stdout",
     "output_type": "stream",
     "text": [
      "Sum of first 10 natural numbers: 55\n",
      "Product of first 10 natural numbers: 3628800\n"
     ]
    }
   ],
   "source": [
    "sum = 0\n",
    "product = 1\n",
    "\n",
    "for i in range(1,11):\n",
    "    sum+=i\n",
    "    product*=i\n",
    "\n",
    "print(\"Sum of first 10 natural numbers:\", sum)\n",
    "print(\"Product of first 10 natural numbers:\", product)"
   ]
  },
  {
   "cell_type": "code",
   "execution_count": 1,
   "id": "65de418a-361d-4376-8b1c-3e3d099861bb",
   "metadata": {},
   "outputs": [
    {
     "name": "stdout",
     "output_type": "stream",
     "text": [
      "Sum of first 10 natural numbers: 55\n",
      "Product of first 10 natural numbers: 3628800\n"
     ]
    }
   ],
   "source": [
    "sum1 = 0\n",
    "product1 = 1\n",
    "j=1\n",
    "\n",
    "while j<=10:\n",
    "    sum1+=j\n",
    "    product1*=j\n",
    "    j+=1\n",
    "print(\"Sum of first 10 natural numbers:\", sum1)\n",
    "print(\"Product of first 10 natural numbers:\", product1)"
   ]
  },
  {
   "cell_type": "markdown",
   "id": "cd71037c-0a4a-41d1-a44d-528f83f2c5bd",
   "metadata": {},
   "source": [
    "Q3. Create a python program to compute the electricity bill for a household.\n",
    "\n",
    "The per-unit charges in rupees are as follows: For the first 100 units, the user will be charged Rs. 4.5 per\n",
    "unit, for the next 100 units, the user will be charged Rs. 6 per unit, and for the next 100 units, the user will\n",
    "be charged Rs. 10 per unit, After 300 units and above the user will be charged Rs. 20 per unit.\n",
    "You are required to take the units of electricity consumed in a month from the user as input.\n",
    "Your program must pass this test case: when the unit of electricity consumed by the user in a month is\n",
    "310, the total electricity bill should be 2250."
   ]
  },
  {
   "cell_type": "code",
   "execution_count": 5,
   "id": "0695a717-5e9c-4a64-8f67-f2f9a4afe679",
   "metadata": {},
   "outputs": [
    {
     "name": "stdin",
     "output_type": "stream",
     "text": [
      "No of units consumed this month =  310\n"
     ]
    },
    {
     "name": "stdout",
     "output_type": "stream",
     "text": [
      "2250.0\n"
     ]
    }
   ],
   "source": [
    "units=int(input(\"No of units consumed this month = \"))\n",
    "\n",
    "bill=0\n",
    "\n",
    "if units>300:\n",
    "    t=(units-300)\n",
    "    bill=bill+t*20\n",
    "    units=units-t\n",
    "  \n",
    "    if units>200:\n",
    "        t=(units-200)\n",
    "        bill=bill+t*10\n",
    "        units=units-t\n",
    "     \n",
    "        if units>100:\n",
    "            t=(units-100)\n",
    "            bill=bill+t*6\n",
    "            units=units-t\n",
    "           \n",
    "            if units<=100:\n",
    "                bill=bill+units*4.5\n",
    "print(\"Your electricity bill is\",bill)           \n",
    "        "
   ]
  },
  {
   "cell_type": "code",
   "execution_count": 12,
   "id": "325e3ab3-4056-4697-962d-c41c04fac5ee",
   "metadata": {},
   "outputs": [
    {
     "name": "stdin",
     "output_type": "stream",
     "text": [
      "No of units consumed this month =  123457\n"
     ]
    },
    {
     "name": "stdout",
     "output_type": "stream",
     "text": [
      "Your electricity bill is 2465190\n"
     ]
    }
   ],
   "source": [
    "units=int(input(\"No of units consumed this month = \"))\n",
    "\n",
    "bill=0\n",
    "bill1=450\n",
    "bill2=600\n",
    "bill3=1000\n",
    "if units>300:\n",
    "    t=(units-300)\n",
    "    bill=bill+t*20+bill1+bill2+bill3\n",
    "\n",
    "elif 300>=units>200:\n",
    "    t=(units-200)\n",
    "    bill=bill+t*10+bill1+bill2\n",
    "    \n",
    "\n",
    "elif 200>=units>100:\n",
    "    t=(units-100)\n",
    "    bill=bill+t*6+bill1\n",
    "  \n",
    "\n",
    "elif 0<=units<=100:\n",
    "    bill=bill+units*4.5\n",
    "\n",
    "else :\n",
    "    print(\"invalid input\")\n",
    "    \n",
    "print(\"Your electricity bill is\",bill)"
   ]
  },
  {
   "cell_type": "markdown",
   "id": "e5fa5975-bcf5-4124-8872-495572a6e82d",
   "metadata": {},
   "source": [
    "Q4. Create a list of numbers from 1 to 100. Use for loop and while loop to calculate the cube of each\n",
    "number and if the cube of that number is divisible by 4 or 5 then append that number in a list and print\n",
    "that list."
   ]
  },
  {
   "cell_type": "code",
   "execution_count": 14,
   "id": "a474a3c2-5a32-4a4c-886e-5a50dc1bc7fd",
   "metadata": {},
   "outputs": [
    {
     "name": "stdout",
     "output_type": "stream",
     "text": [
      "[1, 2, 3, 4, 5, 6, 7, 8, 9, 10, 11, 12, 13, 14, 15, 16, 17, 18, 19, 20, 21, 22, 23, 24, 25, 26, 27, 28, 29, 30, 31, 32, 33, 34, 35, 36, 37, 38, 39, 40, 41, 42, 43, 44, 45, 46, 47, 48, 49, 50, 51, 52, 53, 54, 55, 56, 57, 58, 59, 60, 61, 62, 63, 64, 65, 66, 67, 68, 69, 70, 71, 72, 73, 74, 75, 76, 77, 78, 79, 80, 81, 82, 83, 84, 85, 86, 87, 88, 89, 90, 91, 92, 93, 94, 95, 96, 97, 98, 99, 100]\n"
     ]
    }
   ],
   "source": [
    "x=list(range(1,101))\n",
    "print(x)"
   ]
  },
  {
   "cell_type": "code",
   "execution_count": 17,
   "id": "2cf05689-616b-4328-96c2-ffd53d8a973e",
   "metadata": {},
   "outputs": [
    {
     "name": "stdout",
     "output_type": "stream",
     "text": [
      "[2, 4, 5, 6, 8, 10, 12, 14, 15, 16, 18, 20, 22, 24, 25, 26, 28, 30, 32, 34, 35, 36, 38, 40, 42, 44, 45, 46, 48, 50, 52, 54, 55, 56, 58, 60, 62, 64, 65, 66, 68, 70, 72, 74, 75, 76, 78, 80, 82, 84, 85, 86, 88, 90, 92, 94, 95, 96, 98, 100]\n"
     ]
    }
   ],
   "source": [
    "result = []\n",
    "for i in range(1, 101):\n",
    "    cube = i**3\n",
    "    if cube % 4 == 0 or cube % 5 == 0:\n",
    "        result.append(i)\n",
    "print(result)"
   ]
  },
  {
   "cell_type": "code",
   "execution_count": 16,
   "id": "bb61867a-0a23-4318-94b9-a23229c997f2",
   "metadata": {},
   "outputs": [
    {
     "name": "stdout",
     "output_type": "stream",
     "text": [
      "[2, 4, 5, 6, 8, 10, 12, 14, 15, 16, 18, 20, 22, 24, 25, 26, 28, 30, 32, 34, 35, 36, 38, 40, 42, 44, 45, 46, 48, 50, 52, 54, 55, 56, 58, 60, 62, 64, 65, 66, 68, 70, 72, 74, 75, 76, 78, 80, 82, 84, 85, 86, 88, 90, 92, 94, 95, 96, 98, 100]\n"
     ]
    }
   ],
   "source": [
    "result = []\n",
    "i = 1\n",
    "while i <= 100:\n",
    "    cube = i**3\n",
    "    if cube % 4 == 0 or cube % 5 == 0:\n",
    "        result.append(i)\n",
    "    i += 1\n",
    "print(result)"
   ]
  },
  {
   "cell_type": "markdown",
   "id": "30aa1cf3-c508-46dd-b116-a2dc9392308e",
   "metadata": {},
   "source": [
    "Q5. Write a program to filter count vowels in the below-given string.\n",
    "string = \"I want to become a data scientist\""
   ]
  },
  {
   "cell_type": "code",
   "execution_count": 19,
   "id": "72f107c2-5507-45c4-bde2-57a30418a709",
   "metadata": {},
   "outputs": [
    {
     "name": "stdout",
     "output_type": "stream",
     "text": [
      "Number of vowels: 12\n"
     ]
    }
   ],
   "source": [
    "string = \"I want to become a data scientist\"\n",
    "vowels = \"aeiouAEIOU\"\n",
    "count = 0\n",
    "\n",
    "for char in string:\n",
    "    if char in vowels:\n",
    "        count += 1\n",
    "\n",
    "print(\"Number of vowels:\", count)"
   ]
  }
 ],
 "metadata": {
  "kernelspec": {
   "display_name": "Python 3 (ipykernel)",
   "language": "python",
   "name": "python3"
  },
  "language_info": {
   "codemirror_mode": {
    "name": "ipython",
    "version": 3
   },
   "file_extension": ".py",
   "mimetype": "text/x-python",
   "name": "python",
   "nbconvert_exporter": "python",
   "pygments_lexer": "ipython3",
   "version": "3.10.8"
  }
 },
 "nbformat": 4,
 "nbformat_minor": 5
}
