{
 "cells": [
  {
   "cell_type": "code",
   "execution_count": 4,
   "id": "c6a8d1a5-9375-40f3-9ed9-00d9996b8392",
   "metadata": {},
   "outputs": [
    {
     "name": "stdout",
     "output_type": "stream",
     "text": [
      "object is created\n",
      "company is amazon and age is 19 \n",
      "IQ of sohan is 200\n"
     ]
    }
   ],
   "source": [
    "# Explain Class and Object with respect to Object-Oriented Programming. Give a suitable example.\n",
    "\n",
    "\n",
    "# -->OOPS is a way of programming that uses classes and object and it is adopted to(bind and wrap up) (data and function) which work together \n",
    "# as a single unit   \n",
    "\n",
    "# class is a basic template which is used to create a object\n",
    "# Just like a railway form \n",
    "# railway form is a template and it is used to create railway application . And that railway application will be the instance of the \n",
    "# class railway form\n",
    "\n",
    "class Employee:\n",
    "    company=\"google\" #class attribute \n",
    "\n",
    "    def __init__(self): \n",
    "        print(\"object is created\")\n",
    "\n",
    "    def get_company(self,IQ):\n",
    "        self.IQ=IQ\n",
    "        print(f\"company is {self.company} and age is {self.age} \")\n",
    "        print(f\"IQ of sohan is {self.IQ}\")\n",
    "\n",
    "sohan=Employee()\n",
    "sohan.company=\"amazon\" #instance attribute \n",
    "sohan.age=19\n",
    "sohan.get_company(200) #Employee.get_company(sohan)\n",
    "sohan.speed=12 #instance attributes can be created like this also"
   ]
  },
  {
   "cell_type": "code",
   "execution_count": 5,
   "id": "c73b4d11-2e3b-436a-b48d-97fda60b2033",
   "metadata": {},
   "outputs": [],
   "source": [
    "# Q2. Name the four pillars of OOPs.\n",
    "# These four pillars are Inheritance, Polymorphism, Encapsulation and Abstraction."
   ]
  },
  {
   "cell_type": "code",
   "execution_count": 12,
   "id": "ab6591a6-005a-45f8-bd16-124e477fa78e",
   "metadata": {},
   "outputs": [
    {
     "name": "stdout",
     "output_type": "stream",
     "text": [
      "My name is Sohan and I am 19 years old.\n",
      "My package is 25 LPA\n"
     ]
    }
   ],
   "source": [
    "# Q3. Explain why the __init__() function is used. Give a suitable example.\n",
    "# In Python, the init() function is used as a constructor method for initializing the newly created objects of a class. \n",
    "# It is called automatically when an object of a class is created and can be used to set initial values of object attributes, \n",
    "# perform setup operations or any other operations required for the proper functioning of the object.\n",
    "\n",
    "class Person:\n",
    "    def __init__(self, name, age,salary):\n",
    "        self.name = name\n",
    "        self.age = age\n",
    "        self.salary=salary\n",
    "    \n",
    "    def display(self):\n",
    "        print(f\"My name is {self.name} and I am {self.age} years old.\")\n",
    "    \n",
    "    def get_salary(self,):\n",
    "        print(f\"My package is {self.salary} LPA\")\n",
    "        \n",
    "\n",
    "person1 = Person(\"Sohan\", 19,25)\n",
    "person1.display()\n",
    "person1.get_salary()\n",
    "\n"
   ]
  },
  {
   "cell_type": "code",
   "execution_count": 13,
   "id": "6275ae92-8084-4a3b-b7ad-7d7691895921",
   "metadata": {},
   "outputs": [],
   "source": [
    "# Q4. Why self is used in OOPs?\n",
    "\n",
    "# In object-oriented programming (OOP), self is a reference to the current object or instance of a class.\n",
    "# It is used to access the attributes and methods of the object within the class.\n",
    "\n",
    "# When a method is called on an object, the object itself is automatically passed as the first argument to the method. \n",
    "# By convention, this argument is named self, although you could technically name it anything you like."
   ]
  },
  {
   "cell_type": "code",
   "execution_count": null,
   "id": "cd721a4e-800f-4992-9f38-e3e58116e857",
   "metadata": {},
   "outputs": [],
   "source": [
    "# Q5. What is inheritance? Give an example for each type of inheritance.\n",
    "\n",
    "# Inheritance is a fundamental concept in object-oriented programming (OOP) that allows a new class to  \n",
    "# inherite  properties and methods of a existing class. \n",
    "# The existing class is called the base class or parent class, and the new class is called the derived class or child class. \n",
    "# Inheritance promotes code reuse, reduces redundancy and enables polymorphism.\n",
    "\n",
    "# There are four types of inheritance in Python:\n",
    "\n",
    "# Single inheritance: A derived class inherits properties and methods from a single base class.\n",
    "# Multiple inheritance: A derived class inherits properties and methods from multiple base classes.\n",
    "# Multilevel inheritance: A derived class inherits properties and methods from a base class, which in turn inherits from another base class.\n",
    "# Hierarchical inheritance: Multiple derived classes inherit properties and methods from a single base class"
   ]
  }
 ],
 "metadata": {
  "kernelspec": {
   "display_name": "Python 3 (ipykernel)",
   "language": "python",
   "name": "python3"
  },
  "language_info": {
   "codemirror_mode": {
    "name": "ipython",
    "version": 3
   },
   "file_extension": ".py",
   "mimetype": "text/x-python",
   "name": "python",
   "nbconvert_exporter": "python",
   "pygments_lexer": "ipython3",
   "version": "3.10.8"
  }
 },
 "nbformat": 4,
 "nbformat_minor": 5
}
